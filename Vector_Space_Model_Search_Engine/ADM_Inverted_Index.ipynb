{
 "cells": [
  {
   "cell_type": "code",
   "execution_count": 187,
   "metadata": {
    "collapsed": false
   },
   "outputs": [],
   "source": [
    "import os\n",
    "import numpy as np\n",
    "import pandas as pd\n",
    "import pickle\n",
    "\n",
    "\n",
    "def read_all_files():\n",
    "    path_file = './ADM_dataset/cleaned/'+'___'\n",
    "    all_words=[]\n",
    "    num_docs=11269\n",
    "    for i in range(num_docs):\n",
    "        target=open(path_file+str(i)+'.txt','r',encoding='utf-8')\n",
    "        for wrd in target:\n",
    "            all_words.append(wrd.rstrip('\\n'))\n",
    "            \n",
    "    all_words[:] = [item for item in all_words if item != \"''\"]\n",
    "    return all_words\n",
    "\n",
    "def build_vocab_corpus():\n",
    "    all_words=read_all_files()\n",
    "    vocab=set()\n",
    "    for word in all_words:\n",
    "        vocab.update([word])\n",
    "        \n",
    "    return vocab\n",
    "\n",
    "\n",
    "def build_inverted_index(vocab):\n",
    "    index_dct={}\n",
    "    document_dct=docs_dct()\n",
    "    num_docs=11269\n",
    "    for word in sorted(vocab):\n",
    "        index_dct[word]=find_postings_list(word,document_dct)\n",
    "    return index_dct\n",
    "\n",
    "def read_doc(i):\n",
    "    path_file = './ADM_dataset/cleaned/'+'___'\n",
    "    doc=''\n",
    "    target=open(path_file+str(i)+'.txt','r',encoding='utf-8')\n",
    "    for wrd in target:\n",
    "        doc+=' '+wrd.rstrip('\\n')\n",
    "    return doc\n",
    "\n",
    "\n",
    "def find_postings_list(term,document_dct):\n",
    "    num_docs=11269\n",
    "    posting_list=[]\n",
    "    for i in range(num_docs):\n",
    "        doc_lst=document_dct[i]\n",
    "        if tf(term,doc_lst) >0:\n",
    "            lst=[i,tf(term,doc_lst)]\n",
    "            posting_list.append(lst)\n",
    "            \n",
    "    return posting_list\n",
    "\n",
    "def docs_dct():\n",
    "    num_docs=11269\n",
    "    all_docs_dct={}\n",
    "    for i in range(num_docs):\n",
    "        all_docs_dct[i]=read_doc(i)\n",
    "\n",
    "    return all_docs_dct\n",
    "\n",
    "def tf(term, document):\n",
    "    return freq(term, document)\n",
    "\n",
    "def freq(term, document):\n",
    "    return document.split().count(term)\n"
   ]
  },
  {
   "cell_type": "code",
   "execution_count": 175,
   "metadata": {
    "collapsed": false
   },
   "outputs": [],
   "source": [
    "inverted_index = build_inverted_index(vocab)"
   ]
  },
  {
   "cell_type": "code",
   "execution_count": 182,
   "metadata": {
    "collapsed": true
   },
   "outputs": [],
   "source": [
    "pickle.dump( inverted_index, open( \"inverted_index.p\", \"wb\" ) )"
   ]
  }
 ],
 "metadata": {
  "anaconda-cloud": {},
  "kernelspec": {
   "display_name": "Python [default]",
   "language": "python",
   "name": "python3"
  },
  "language_info": {
   "codemirror_mode": {
    "name": "ipython",
    "version": 3
   },
   "file_extension": ".py",
   "mimetype": "text/x-python",
   "name": "python",
   "nbconvert_exporter": "python",
   "pygments_lexer": "ipython3",
   "version": "3.5.2"
  }
 },
 "nbformat": 4,
 "nbformat_minor": 1
}
