{
 "cells": [
  {
   "cell_type": "code",
   "execution_count": 80,
   "metadata": {
    "collapsed": false
   },
   "outputs": [],
   "source": [
    "import string\n",
    "from string import punctuation\n",
    "import nltk\n",
    "from nltk.corpus import stopwords\n",
    "from nltk.stem import PorterStemmer\n",
    "\n",
    "#Clean the corpus\n",
    "stop_words =stopwords.words('english') + list(punctuation)+list(['no','information','NO','No','Information','INFORMATION'])\n",
    "\n",
    "def tokenize(lst):\n",
    "    words_lst = [nltk.word_tokenize(sentence) for sentence in lst]\n",
    "    words=[]\n",
    "    for wrd in words_lst:\n",
    "        words=words + wrd\n",
    "    \n",
    "    words = [w.lower() for w in words]\n",
    "    words = [PorterStemmer().stem_word(word) for word in words]\n",
    "    return [w for w in words if w not in stop_words and not w.isdigit()]\n",
    "\n",
    "def read_file(file_name):\n",
    "    path_file = './ADM_dataset/raw/'+file_name\n",
    "    target=open(path_file,'r',encoding='utf-8')\n",
    "    lst=[wrd for wrd in target]\n",
    "    return lst\n",
    "\n",
    "def write_file(file_name):\n",
    "    lst = tokenize(read_file(file_name))\n",
    "    path_file = './ADM_dataset/cleaned/'+file_name\n",
    "    target=open(path_file,'a',encoding='utf-8')\n",
    "    for word in lst:\n",
    "        target.write(str(word))\n",
    "        target.write('\\n')\n",
    "    target.close()\n",
    "    \n",
    "def clean_all_files():\n",
    "    in_name='___'\n",
    "    for i in range(11269):\n",
    "        write_file(in_name+str(i)+'.txt')\n",
    "\n",
    "clean_all_files()"
   ]
  }
 ],
 "metadata": {
  "anaconda-cloud": {},
  "kernelspec": {
   "display_name": "Python [default]",
   "language": "python",
   "name": "python3"
  },
  "language_info": {
   "codemirror_mode": {
    "name": "ipython",
    "version": 3
   },
   "file_extension": ".py",
   "mimetype": "text/x-python",
   "name": "python",
   "nbconvert_exporter": "python",
   "pygments_lexer": "ipython3",
   "version": "3.5.2"
  }
 },
 "nbformat": 4,
 "nbformat_minor": 1
}
