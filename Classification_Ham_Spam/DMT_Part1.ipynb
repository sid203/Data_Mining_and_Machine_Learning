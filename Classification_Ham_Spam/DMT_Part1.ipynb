{
 "cells": [
  {
   "cell_type": "code",
   "execution_count": 1,
   "metadata": {
    "collapsed": false
   },
   "outputs": [
    {
     "name": "stdout",
     "output_type": "stream",
     "text": [
      "\n",
      "----------------------\n",
      "['Ham', 'Spam']\n",
      "----------------------\n",
      "\n",
      "\n",
      "----------------------\n",
      "Creating Training Set and Test Set\n",
      "\n",
      "Training Set Size\n",
      "(242,)\n",
      "\n",
      "Test Set Size\n",
      "(105,)\n",
      "\n",
      "Classes:\n",
      "['Ham', 'Spam']\n",
      "----------------------\n"
     ]
    }
   ],
   "source": [
    "#Load Dataset \n",
    "from sklearn.datasets import load_files\n",
    "from sklearn.model_selection import train_test_split\n",
    "from sklearn.feature_extraction.text import TfidfVectorizer\n",
    "from nltk.corpus import stopwords\n",
    "from nltk.stem.snowball import EnglishStemmer\n",
    "from nltk import word_tokenize\n",
    "from sklearn.naive_bayes import MultinomialNB\n",
    "from sklearn.pipeline import Pipeline\n",
    "from sklearn.model_selection import GridSearchCV\n",
    "from sklearn import metrics\n",
    "import pprint as pp\n",
    "import string\n",
    "from sklearn.neighbors import KNeighborsClassifier\n",
    "\n",
    "\n",
    "\n",
    "cachedStopWords = stopwords.words(\"english\")\n",
    "def testFuncNew(text):\n",
    "        text = ' '.join([word for word in text.split() if word not in cachedStopWords])\n",
    "        return text\n",
    "\n",
    "############################################\n",
    "stemmer = EnglishStemmer()\n",
    "\n",
    "def stemming_tokenizer(text):\n",
    "    #text =text.decode('utf-8')\n",
    "    stop_words_removed_text = testFuncNew(text)\n",
    "    stemmed_text = [stemmer.stem(word) for word in word_tokenize(stop_words_removed_text, language='english')]\n",
    "    return stemmed_text\n",
    "\n",
    "\n",
    "def stemming_tokenizer_no_stop_words(text):\n",
    "    #text =text.decode('utf-8')\n",
    "    stemmed_text = [stemmer.stem(word) for word in word_tokenize(text, language='english')]\n",
    "    return stemmed_text\n",
    "######################################################################\n",
    "\n",
    "\n",
    "\n",
    "\n",
    "## Dataset containing Positive and neative sentences on Amazon products\n",
    "data_folder_training_set = \"./Ham_Spam_comments/Training\"\n",
    "data_folder_test_set     = \"./Ham_Spam_comments/Test\"\n",
    "\n",
    "training_dataset = load_files(data_folder_training_set)\n",
    "test_dataset = load_files(data_folder_test_set)\n",
    "print()\n",
    "print (\"----------------------\")\n",
    "print((training_dataset.target_names))\n",
    "print (\"----------------------\")\n",
    "print()\n",
    "\n",
    "\n",
    "# Load Training-Set\n",
    "X_train, X_test_DUMMY_to_ignore, Y_train, Y_test_DUMMY_to_ignore = train_test_split(training_dataset.data,\n",
    "                                                    training_dataset.target,\n",
    "                                                    test_size=0.0)\n",
    "target_names = training_dataset.target_names\n",
    "\n",
    "# Load Test-Set\n",
    "X_train_DUMMY_to_ignore, X_test, Y_train_DUMMY_to_ignore, Y_test = train_test_split(test_dataset.data,\n",
    "                                                    test_dataset.target,\n",
    "                                                    train_size=0.0)\n",
    "\n",
    "target_names = training_dataset.target_names\n",
    "print()\n",
    "print(\"----------------------\")\n",
    "print (\"Creating Training Set and Test Set\")\n",
    "print()\n",
    "print (\"Training Set Size\")\n",
    "print(Y_train.shape)\n",
    "print()\n",
    "print (\"Test Set Size\")\n",
    "print(Y_test.shape)\n",
    "print()\n",
    "print(\"Classes:\")\n",
    "print(target_names)\n",
    "print (\"----------------------\")\n"
   ]
  },
  {
   "cell_type": "code",
   "execution_count": 4,
   "metadata": {
    "collapsed": false
   },
   "outputs": [],
   "source": [
    "## Vectorization object\n",
    "vectorizer = TfidfVectorizer(strip_accents= None,preprocessor = None)\n",
    "\n",
    "## classifier\n",
    "nbc = KNeighborsClassifier()\n",
    "\n",
    "pipeline = Pipeline([('vect',vectorizer),('nbc',nbc),])\n",
    "\n",
    "parameters = {\n",
    "    'vect__tokenizer': [stemming_tokenizer,stemming_tokenizer_no_stop_words],\n",
    "    'vect__ngram_range': [(1, 1),(1,3)],\n",
    "    'vect__use_idf':[True,False],\n",
    "    'nbc__weights':['uniform','distance'],\n",
    "    'nbc__algorithm':['ball_tree','kd_tree']\n",
    "    \n",
    "    }\n",
    "\n",
    "grid_search = GridSearchCV(pipeline,\n",
    "                           parameters,\n",
    "                           scoring=metrics.make_scorer(metrics.average_precision_score, average='weighted'),\n",
    "                           cv=10,\n",
    "                           n_jobs=-1,\n",
    "                           verbose=10)\n"
   ]
  },
  {
   "cell_type": "code",
   "execution_count": 5,
   "metadata": {
    "collapsed": false
   },
   "outputs": [
    {
     "name": "stdout",
     "output_type": "stream",
     "text": [
      "Fitting 10 folds for each of 32 candidates, totalling 320 fits\n",
      "[CV] nbc__algorithm=ball_tree, vect__use_idf=True, nbc__weights=uniform, vect__ngram_range=(1, 1), vect__tokenizer=<function stemming_tokenizer at 0x7fbdd16a0158> \n",
      "[CV] nbc__algorithm=ball_tree, vect__use_idf=True, nbc__weights=uniform, vect__ngram_range=(1, 1), vect__tokenizer=<function stemming_tokenizer at 0x7fbdd16a0158> \n",
      "[CV] nbc__algorithm=ball_tree, vect__use_idf=True, nbc__weights=uniform, vect__ngram_range=(1, 1), vect__tokenizer=<function stemming_tokenizer at 0x7fbdd16a0158> \n",
      "[CV] nbc__algorithm=ball_tree, vect__use_idf=True, nbc__weights=uniform, vect__ngram_range=(1, 1), vect__tokenizer=<function stemming_tokenizer at 0x7fbdd16a0158> \n"
     ]
    },
    {
     "name": "stderr",
     "output_type": "stream",
     "text": [
      "/home/siddhant/python/anaconda3/lib/python3.5/site-packages/sklearn/neighbors/base.py:211: UserWarning: cannot use tree with sparse input: using brute force\n",
      "  warnings.warn(\"cannot use tree with sparse input: \"\n",
      "/home/siddhant/python/anaconda3/lib/python3.5/site-packages/sklearn/neighbors/base.py:211: UserWarning: cannot use tree with sparse input: using brute force\n",
      "  warnings.warn(\"cannot use tree with sparse input: \"\n",
      "/home/siddhant/python/anaconda3/lib/python3.5/site-packages/sklearn/neighbors/base.py:211: UserWarning: cannot use tree with sparse input: using brute force\n",
      "  warnings.warn(\"cannot use tree with sparse input: \"\n",
      "/home/siddhant/python/anaconda3/lib/python3.5/site-packages/sklearn/neighbors/base.py:211: UserWarning: cannot use tree with sparse input: using brute force\n",
      "  warnings.warn(\"cannot use tree with sparse input: \"\n"
     ]
    },
    {
     "name": "stdout",
     "output_type": "stream",
     "text": [
      "[CV]  nbc__algorithm=ball_tree, vect__use_idf=True, nbc__weights=uniform, vect__ngram_range=(1, 1), vect__tokenizer=<function stemming_tokenizer at 0x7fbdd16a0158>, score=0.964286, total=   0.3s\n",
      "[CV] nbc__algorithm=ball_tree, vect__use_idf=True, nbc__weights=uniform, vect__ngram_range=(1, 1), vect__tokenizer=<function stemming_tokenizer at 0x7fbdd16a0158> \n",
      "[CV]  nbc__algorithm=ball_tree, vect__use_idf=True, nbc__weights=uniform, vect__ngram_range=(1, 1), vect__tokenizer=<function stemming_tokenizer at 0x7fbdd16a0158>, score=0.631944, total=   0.3s\n",
      "[CV] nbc__algorithm=ball_tree, vect__use_idf=True, nbc__weights=uniform, vect__ngram_range=(1, 1), vect__tokenizer=<function stemming_tokenizer at 0x7fbdd16a0158> \n",
      "[CV]  nbc__algorithm=ball_tree, vect__use_idf=True, nbc__weights=uniform, vect__ngram_range=(1, 1), vect__tokenizer=<function stemming_tokenizer at 0x7fbdd16a0158>, score=0.816667, total=   0.4s\n",
      "[CV] nbc__algorithm=ball_tree, vect__use_idf=True, nbc__weights=uniform, vect__ngram_range=(1, 1), vect__tokenizer=<function stemming_tokenizer at 0x7fbdd16a0158> \n",
      "[CV]  nbc__algorithm=ball_tree, vect__use_idf=True, nbc__weights=uniform, vect__ngram_range=(1, 1), vect__tokenizer=<function stemming_tokenizer at 0x7fbdd16a0158>, score=0.899161, total=   0.5s\n",
      "[CV] nbc__algorithm=ball_tree, vect__use_idf=True, nbc__weights=uniform, vect__ngram_range=(1, 1), vect__tokenizer=<function stemming_tokenizer at 0x7fbdd16a0158> \n"
     ]
    },
    {
     "name": "stderr",
     "output_type": "stream",
     "text": [
      "/home/siddhant/python/anaconda3/lib/python3.5/site-packages/sklearn/neighbors/base.py:211: UserWarning: cannot use tree with sparse input: using brute force\n",
      "  warnings.warn(\"cannot use tree with sparse input: \"\n",
      "/home/siddhant/python/anaconda3/lib/python3.5/site-packages/sklearn/neighbors/base.py:211: UserWarning: cannot use tree with sparse input: using brute force\n",
      "  warnings.warn(\"cannot use tree with sparse input: \"\n",
      "/home/siddhant/python/anaconda3/lib/python3.5/site-packages/sklearn/neighbors/base.py:211: UserWarning: cannot use tree with sparse input: using brute force\n",
      "  warnings.warn(\"cannot use tree with sparse input: \"\n"
     ]
    },
    {
     "name": "stdout",
     "output_type": "stream",
     "text": [
      "[CV]  nbc__algorithm=ball_tree, vect__use_idf=True, nbc__weights=uniform, vect__ngram_range=(1, 1), vect__tokenizer=<function stemming_tokenizer at 0x7fbdd16a0158>, score=0.875000, total=   0.3s\n",
      "[CV] nbc__algorithm=ball_tree, vect__use_idf=True, nbc__weights=uniform, vect__ngram_range=(1, 1), vect__tokenizer=<function stemming_tokenizer at 0x7fbdd16a0158> \n"
     ]
    },
    {
     "name": "stderr",
     "output_type": "stream",
     "text": [
      "/home/siddhant/python/anaconda3/lib/python3.5/site-packages/sklearn/neighbors/base.py:211: UserWarning: cannot use tree with sparse input: using brute force\n",
      "  warnings.warn(\"cannot use tree with sparse input: \"\n"
     ]
    },
    {
     "name": "stdout",
     "output_type": "stream",
     "text": [
      "[CV]  nbc__algorithm=ball_tree, vect__use_idf=True, nbc__weights=uniform, vect__ngram_range=(1, 1), vect__tokenizer=<function stemming_tokenizer at 0x7fbdd16a0158>, score=0.750000, total=   0.4s\n"
     ]
    },
    {
     "name": "stderr",
     "output_type": "stream",
     "text": [
      "[Parallel(n_jobs=-1)]: Done   5 tasks      | elapsed:    1.2s\n"
     ]
    },
    {
     "name": "stdout",
     "output_type": "stream",
     "text": [
      "[CV] nbc__algorithm=ball_tree, vect__use_idf=True, nbc__weights=uniform, vect__ngram_range=(1, 1), vect__tokenizer=<function stemming_tokenizer at 0x7fbdd16a0158> \n",
      "[CV]  nbc__algorithm=ball_tree, vect__use_idf=True, nbc__weights=uniform, vect__ngram_range=(1, 1), vect__tokenizer=<function stemming_tokenizer at 0x7fbdd16a0158>, score=0.875000, total=   0.5s\n",
      "[CV] nbc__algorithm=ball_tree, vect__use_idf=False, nbc__weights=uniform, vect__ngram_range=(1, 1), vect__tokenizer=<function stemming_tokenizer at 0x7fbdd16a0158> \n",
      "[CV]  nbc__algorithm=ball_tree, vect__use_idf=True, nbc__weights=uniform, vect__ngram_range=(1, 1), vect__tokenizer=<function stemming_tokenizer at 0x7fbdd16a0158>, score=0.937500, total=   0.3s\n",
      "[CV] nbc__algorithm=ball_tree, vect__use_idf=False, nbc__weights=uniform, vect__ngram_range=(1, 1), vect__tokenizer=<function stemming_tokenizer at 0x7fbdd16a0158> \n"
     ]
    },
    {
     "name": "stderr",
     "output_type": "stream",
     "text": [
      "/home/siddhant/python/anaconda3/lib/python3.5/site-packages/sklearn/neighbors/base.py:211: UserWarning: cannot use tree with sparse input: using brute force\n",
      "  warnings.warn(\"cannot use tree with sparse input: \"\n",
      "/home/siddhant/python/anaconda3/lib/python3.5/site-packages/sklearn/neighbors/base.py:211: UserWarning: cannot use tree with sparse input: using brute force\n",
      "  warnings.warn(\"cannot use tree with sparse input: \"\n",
      "/home/siddhant/python/anaconda3/lib/python3.5/site-packages/sklearn/neighbors/base.py:211: UserWarning: cannot use tree with sparse input: using brute force\n",
      "  warnings.warn(\"cannot use tree with sparse input: \"\n",
      "/home/siddhant/python/anaconda3/lib/python3.5/site-packages/sklearn/neighbors/base.py:211: UserWarning: cannot use tree with sparse input: using brute force\n",
      "  warnings.warn(\"cannot use tree with sparse input: \"\n"
     ]
    },
    {
     "name": "stdout",
     "output_type": "stream",
     "text": [
      "[CV]  nbc__algorithm=ball_tree, vect__use_idf=True, nbc__weights=uniform, vect__ngram_range=(1, 1), vect__tokenizer=<function stemming_tokenizer at 0x7fbdd16a0158>, score=0.937500, total=   0.6s\n",
      "[CV] nbc__algorithm=ball_tree, vect__use_idf=False, nbc__weights=uniform, vect__ngram_range=(1, 1), vect__tokenizer=<function stemming_tokenizer at 0x7fbdd16a0158> \n",
      "[CV]  nbc__algorithm=ball_tree, vect__use_idf=False, nbc__weights=uniform, vect__ngram_range=(1, 1), vect__tokenizer=<function stemming_tokenizer at 0x7fbdd16a0158>, score=0.882353, total=   0.3s\n",
      "[CV] nbc__algorithm=ball_tree, vect__use_idf=False, nbc__weights=uniform, vect__ngram_range=(1, 1), vect__tokenizer=<function stemming_tokenizer at 0x7fbdd16a0158> \n",
      "[CV]  nbc__algorithm=ball_tree, vect__use_idf=False, nbc__weights=uniform, vect__ngram_range=(1, 1), vect__tokenizer=<function stemming_tokenizer at 0x7fbdd16a0158>, score=0.921410, total=   0.4s\n",
      "[CV] nbc__algorithm=ball_tree, vect__use_idf=False, nbc__weights=uniform, vect__ngram_range=(1, 1), vect__tokenizer=<function stemming_tokenizer at 0x7fbdd16a0158> \n",
      "[CV]  nbc__algorithm=ball_tree, vect__use_idf=True, nbc__weights=uniform, vect__ngram_range=(1, 1), vect__tokenizer=<function stemming_tokenizer at 0x7fbdd16a0158>, score=0.750000, total=   0.5s\n",
      "[CV] nbc__algorithm=ball_tree, vect__use_idf=False, nbc__weights=uniform, vect__ngram_range=(1, 1), vect__tokenizer=<function stemming_tokenizer at 0x7fbdd16a0158> \n"
     ]
    },
    {
     "name": "stderr",
     "output_type": "stream",
     "text": [
      "[Parallel(n_jobs=-1)]: Done  10 tasks      | elapsed:    2.2s\n",
      "/home/siddhant/python/anaconda3/lib/python3.5/site-packages/sklearn/neighbors/base.py:211: UserWarning: cannot use tree with sparse input: using brute force\n",
      "  warnings.warn(\"cannot use tree with sparse input: \"\n",
      "/home/siddhant/python/anaconda3/lib/python3.5/site-packages/sklearn/neighbors/base.py:211: UserWarning: cannot use tree with sparse input: using brute force\n",
      "  warnings.warn(\"cannot use tree with sparse input: \"\n",
      "/home/siddhant/python/anaconda3/lib/python3.5/site-packages/sklearn/neighbors/base.py:211: UserWarning: cannot use tree with sparse input: using brute force\n",
      "  warnings.warn(\"cannot use tree with sparse input: \"\n",
      "/home/siddhant/python/anaconda3/lib/python3.5/site-packages/sklearn/neighbors/base.py:211: UserWarning: cannot use tree with sparse input: using brute force\n",
      "  warnings.warn(\"cannot use tree with sparse input: \"\n"
     ]
    },
    {
     "name": "stdout",
     "output_type": "stream",
     "text": [
      "[CV]  nbc__algorithm=ball_tree, vect__use_idf=False, nbc__weights=uniform, vect__ngram_range=(1, 1), vect__tokenizer=<function stemming_tokenizer at 0x7fbdd16a0158>, score=0.675000, total=   0.4s\n",
      "[CV] nbc__algorithm=ball_tree, vect__use_idf=False, nbc__weights=uniform, vect__ngram_range=(1, 1), vect__tokenizer=<function stemming_tokenizer at 0x7fbdd16a0158> \n",
      "[CV]  nbc__algorithm=ball_tree, vect__use_idf=False, nbc__weights=uniform, vect__ngram_range=(1, 1), vect__tokenizer=<function stemming_tokenizer at 0x7fbdd16a0158>, score=0.842949, total=   0.6s\n",
      "[CV] nbc__algorithm=ball_tree, vect__use_idf=False, nbc__weights=uniform, vect__ngram_range=(1, 1), vect__tokenizer=<function stemming_tokenizer at 0x7fbdd16a0158> \n",
      "[CV]  nbc__algorithm=ball_tree, vect__use_idf=False, nbc__weights=uniform, vect__ngram_range=(1, 1), vect__tokenizer=<function stemming_tokenizer at 0x7fbdd16a0158>, score=0.812500, total=   0.5s\n",
      "[CV] nbc__algorithm=ball_tree, vect__use_idf=False, nbc__weights=uniform, vect__ngram_range=(1, 1), vect__tokenizer=<function stemming_tokenizer at 0x7fbdd16a0158> \n",
      "[CV]  nbc__algorithm=ball_tree, vect__use_idf=False, nbc__weights=uniform, vect__ngram_range=(1, 1), vect__tokenizer=<function stemming_tokenizer at 0x7fbdd16a0158>, score=0.875000, total=   0.5s\n",
      "[CV] nbc__algorithm=ball_tree, vect__use_idf=False, nbc__weights=uniform, vect__ngram_range=(1, 1), vect__tokenizer=<function stemming_tokenizer at 0x7fbdd16a0158> \n"
     ]
    },
    {
     "name": "stderr",
     "output_type": "stream",
     "text": [
      "/home/siddhant/python/anaconda3/lib/python3.5/site-packages/sklearn/neighbors/base.py:211: UserWarning: cannot use tree with sparse input: using brute force\n",
      "  warnings.warn(\"cannot use tree with sparse input: \"\n",
      "/home/siddhant/python/anaconda3/lib/python3.5/site-packages/sklearn/neighbors/base.py:211: UserWarning: cannot use tree with sparse input: using brute force\n",
      "  warnings.warn(\"cannot use tree with sparse input: \"\n",
      "/home/siddhant/python/anaconda3/lib/python3.5/site-packages/sklearn/neighbors/base.py:211: UserWarning: cannot use tree with sparse input: using brute force\n",
      "  warnings.warn(\"cannot use tree with sparse input: \"\n"
     ]
    },
    {
     "name": "stdout",
     "output_type": "stream",
     "text": [
      "[CV]  nbc__algorithm=ball_tree, vect__use_idf=False, nbc__weights=uniform, vect__ngram_range=(1, 1), vect__tokenizer=<function stemming_tokenizer at 0x7fbdd16a0158>, score=0.961538, total=   0.4s\n",
      "[CV] nbc__algorithm=ball_tree, vect__use_idf=True, nbc__weights=uniform, vect__ngram_range=(1, 1), vect__tokenizer=<function stemming_tokenizer_no_stop_words at 0x7fbdd16a01e0> \n"
     ]
    },
    {
     "name": "stderr",
     "output_type": "stream",
     "text": [
      "/home/siddhant/python/anaconda3/lib/python3.5/site-packages/sklearn/neighbors/base.py:211: UserWarning: cannot use tree with sparse input: using brute force\n",
      "  warnings.warn(\"cannot use tree with sparse input: \"\n"
     ]
    },
    {
     "name": "stdout",
     "output_type": "stream",
     "text": [
      "[CV]  nbc__algorithm=ball_tree, vect__use_idf=False, nbc__weights=uniform, vect__ngram_range=(1, 1), vect__tokenizer=<function stemming_tokenizer at 0x7fbdd16a0158>, score=0.961538, total=   0.4s\n",
      "[CV] nbc__algorithm=ball_tree, vect__use_idf=True, nbc__weights=uniform, vect__ngram_range=(1, 1), vect__tokenizer=<function stemming_tokenizer_no_stop_words at 0x7fbdd16a01e0> \n"
     ]
    },
    {
     "name": "stderr",
     "output_type": "stream",
     "text": [
      "[Parallel(n_jobs=-1)]: Done  17 tasks      | elapsed:    3.5s\n"
     ]
    },
    {
     "name": "stdout",
     "output_type": "stream",
     "text": [
      "[CV]  nbc__algorithm=ball_tree, vect__use_idf=False, nbc__weights=uniform, vect__ngram_range=(1, 1), vect__tokenizer=<function stemming_tokenizer at 0x7fbdd16a0158>, score=0.958333, total=   0.5s\n",
      "[CV] nbc__algorithm=ball_tree, vect__use_idf=True, nbc__weights=uniform, vect__ngram_range=(1, 1), vect__tokenizer=<function stemming_tokenizer_no_stop_words at 0x7fbdd16a01e0> \n"
     ]
    },
    {
     "name": "stderr",
     "output_type": "stream",
     "text": [
      "/home/siddhant/python/anaconda3/lib/python3.5/site-packages/sklearn/neighbors/base.py:211: UserWarning: cannot use tree with sparse input: using brute force\n",
      "  warnings.warn(\"cannot use tree with sparse input: \"\n"
     ]
    },
    {
     "name": "stdout",
     "output_type": "stream",
     "text": [
      "[CV]  nbc__algorithm=ball_tree, vect__use_idf=False, nbc__weights=uniform, vect__ngram_range=(1, 1), vect__tokenizer=<function stemming_tokenizer at 0x7fbdd16a0158>, score=0.816667, total=   0.4s\n",
      "[CV] nbc__algorithm=ball_tree, vect__use_idf=True, nbc__weights=uniform, vect__ngram_range=(1, 1), vect__tokenizer=<function stemming_tokenizer_no_stop_words at 0x7fbdd16a01e0> \n",
      "[CV]  nbc__algorithm=ball_tree, vect__use_idf=True, nbc__weights=uniform, vect__ngram_range=(1, 1), vect__tokenizer=<function stemming_tokenizer_no_stop_words at 0x7fbdd16a01e0>, score=0.876154, total=   0.4s\n",
      "[CV] nbc__algorithm=ball_tree, vect__use_idf=True, nbc__weights=uniform, vect__ngram_range=(1, 1), vect__tokenizer=<function stemming_tokenizer_no_stop_words at 0x7fbdd16a01e0> \n"
     ]
    },
    {
     "name": "stderr",
     "output_type": "stream",
     "text": [
      "/home/siddhant/python/anaconda3/lib/python3.5/site-packages/sklearn/neighbors/base.py:211: UserWarning: cannot use tree with sparse input: using brute force\n",
      "  warnings.warn(\"cannot use tree with sparse input: \"\n",
      "/home/siddhant/python/anaconda3/lib/python3.5/site-packages/sklearn/neighbors/base.py:211: UserWarning: cannot use tree with sparse input: using brute force\n",
      "  warnings.warn(\"cannot use tree with sparse input: \"\n",
      "/home/siddhant/python/anaconda3/lib/python3.5/site-packages/sklearn/neighbors/base.py:211: UserWarning: cannot use tree with sparse input: using brute force\n",
      "  warnings.warn(\"cannot use tree with sparse input: \"\n",
      "/home/siddhant/python/anaconda3/lib/python3.5/site-packages/sklearn/neighbors/base.py:211: UserWarning: cannot use tree with sparse input: using brute force\n",
      "  warnings.warn(\"cannot use tree with sparse input: \"\n"
     ]
    },
    {
     "name": "stdout",
     "output_type": "stream",
     "text": [
      "[CV]  nbc__algorithm=ball_tree, vect__use_idf=True, nbc__weights=uniform, vect__ngram_range=(1, 1), vect__tokenizer=<function stemming_tokenizer_no_stop_words at 0x7fbdd16a01e0>, score=0.829744, total=   0.6s\n",
      "[CV] nbc__algorithm=ball_tree, vect__use_idf=True, nbc__weights=uniform, vect__ngram_range=(1, 1), vect__tokenizer=<function stemming_tokenizer_no_stop_words at 0x7fbdd16a01e0> \n",
      "[CV]  nbc__algorithm=ball_tree, vect__use_idf=True, nbc__weights=uniform, vect__ngram_range=(1, 1), vect__tokenizer=<function stemming_tokenizer_no_stop_words at 0x7fbdd16a01e0>, score=0.784722, total=   0.3s\n",
      "[CV] nbc__algorithm=ball_tree, vect__use_idf=True, nbc__weights=uniform, vect__ngram_range=(1, 1), vect__tokenizer=<function stemming_tokenizer_no_stop_words at 0x7fbdd16a01e0> \n",
      "[CV]  nbc__algorithm=ball_tree, vect__use_idf=True, nbc__weights=uniform, vect__ngram_range=(1, 1), vect__tokenizer=<function stemming_tokenizer_no_stop_words at 0x7fbdd16a01e0>, score=0.912879, total=   0.4s\n",
      "[CV] nbc__algorithm=ball_tree, vect__use_idf=True, nbc__weights=uniform, vect__ngram_range=(1, 1), vect__tokenizer=<function stemming_tokenizer_no_stop_words at 0x7fbdd16a01e0> \n",
      "[CV]  nbc__algorithm=ball_tree, vect__use_idf=True, nbc__weights=uniform, vect__ngram_range=(1, 1), vect__tokenizer=<function stemming_tokenizer_no_stop_words at 0x7fbdd16a01e0>, score=0.887500, total=   0.3s\n",
      "[CV] nbc__algorithm=ball_tree, vect__use_idf=True, nbc__weights=uniform, vect__ngram_range=(1, 1), vect__tokenizer=<function stemming_tokenizer_no_stop_words at 0x7fbdd16a01e0> \n"
     ]
    },
    {
     "name": "stderr",
     "output_type": "stream",
     "text": [
      "[Parallel(n_jobs=-1)]: Done  24 tasks      | elapsed:    4.6s\n",
      "/home/siddhant/python/anaconda3/lib/python3.5/site-packages/sklearn/neighbors/base.py:211: UserWarning: cannot use tree with sparse input: using brute force\n",
      "  warnings.warn(\"cannot use tree with sparse input: \"\n",
      "/home/siddhant/python/anaconda3/lib/python3.5/site-packages/sklearn/neighbors/base.py:211: UserWarning: cannot use tree with sparse input: using brute force\n",
      "  warnings.warn(\"cannot use tree with sparse input: \"\n",
      "/home/siddhant/python/anaconda3/lib/python3.5/site-packages/sklearn/neighbors/base.py:211: UserWarning: cannot use tree with sparse input: using brute force\n",
      "  warnings.warn(\"cannot use tree with sparse input: \"\n",
      "/home/siddhant/python/anaconda3/lib/python3.5/site-packages/sklearn/neighbors/base.py:211: UserWarning: cannot use tree with sparse input: using brute force\n",
      "  warnings.warn(\"cannot use tree with sparse input: \"\n"
     ]
    },
    {
     "name": "stdout",
     "output_type": "stream",
     "text": [
      "[CV]  nbc__algorithm=ball_tree, vect__use_idf=True, nbc__weights=uniform, vect__ngram_range=(1, 1), vect__tokenizer=<function stemming_tokenizer_no_stop_words at 0x7fbdd16a01e0>, score=1.000000, total=   0.2s\n",
      "[CV] nbc__algorithm=ball_tree, vect__use_idf=True, nbc__weights=uniform, vect__ngram_range=(1, 1), vect__tokenizer=<function stemming_tokenizer_no_stop_words at 0x7fbdd16a01e0> \n",
      "[CV]  nbc__algorithm=ball_tree, vect__use_idf=True, nbc__weights=uniform, vect__ngram_range=(1, 1), vect__tokenizer=<function stemming_tokenizer_no_stop_words at 0x7fbdd16a01e0>, score=0.937500, total=   0.3s\n",
      "[CV] nbc__algorithm=ball_tree, vect__use_idf=False, nbc__weights=uniform, vect__ngram_range=(1, 1), vect__tokenizer=<function stemming_tokenizer_no_stop_words at 0x7fbdd16a01e0> \n",
      "[CV]  nbc__algorithm=ball_tree, vect__use_idf=True, nbc__weights=uniform, vect__ngram_range=(1, 1), vect__tokenizer=<function stemming_tokenizer_no_stop_words at 0x7fbdd16a01e0>, score=0.958333, total=   0.5s\n",
      "[CV] nbc__algorithm=ball_tree, vect__use_idf=False, nbc__weights=uniform, vect__ngram_range=(1, 1), vect__tokenizer=<function stemming_tokenizer_no_stop_words at 0x7fbdd16a01e0> \n",
      "[CV]  nbc__algorithm=ball_tree, vect__use_idf=True, nbc__weights=uniform, vect__ngram_range=(1, 1), vect__tokenizer=<function stemming_tokenizer_no_stop_words at 0x7fbdd16a01e0>, score=0.979167, total=   0.4s\n",
      "[CV] nbc__algorithm=ball_tree, vect__use_idf=False, nbc__weights=uniform, vect__ngram_range=(1, 1), vect__tokenizer=<function stemming_tokenizer_no_stop_words at 0x7fbdd16a01e0> \n"
     ]
    },
    {
     "name": "stderr",
     "output_type": "stream",
     "text": [
      "/home/siddhant/python/anaconda3/lib/python3.5/site-packages/sklearn/neighbors/base.py:211: UserWarning: cannot use tree with sparse input: using brute force\n",
      "  warnings.warn(\"cannot use tree with sparse input: \"\n",
      "/home/siddhant/python/anaconda3/lib/python3.5/site-packages/sklearn/neighbors/base.py:211: UserWarning: cannot use tree with sparse input: using brute force\n",
      "  warnings.warn(\"cannot use tree with sparse input: \"\n",
      "/home/siddhant/python/anaconda3/lib/python3.5/site-packages/sklearn/neighbors/base.py:211: UserWarning: cannot use tree with sparse input: using brute force\n",
      "  warnings.warn(\"cannot use tree with sparse input: \"\n",
      "/home/siddhant/python/anaconda3/lib/python3.5/site-packages/sklearn/neighbors/base.py:211: UserWarning: cannot use tree with sparse input: using brute force\n",
      "  warnings.warn(\"cannot use tree with sparse input: \"\n"
     ]
    },
    {
     "name": "stdout",
     "output_type": "stream",
     "text": [
      "[CV]  nbc__algorithm=ball_tree, vect__use_idf=False, nbc__weights=uniform, vect__ngram_range=(1, 1), vect__tokenizer=<function stemming_tokenizer_no_stop_words at 0x7fbdd16a01e0>, score=0.912879, total=   0.3s\n",
      "[CV] nbc__algorithm=ball_tree, vect__use_idf=False, nbc__weights=uniform, vect__ngram_range=(1, 1), vect__tokenizer=<function stemming_tokenizer_no_stop_words at 0x7fbdd16a01e0> \n",
      "[CV]  nbc__algorithm=ball_tree, vect__use_idf=True, nbc__weights=uniform, vect__ngram_range=(1, 1), vect__tokenizer=<function stemming_tokenizer_no_stop_words at 0x7fbdd16a01e0>, score=0.887500, total=   0.3s\n",
      "[CV] nbc__algorithm=ball_tree, vect__use_idf=False, nbc__weights=uniform, vect__ngram_range=(1, 1), vect__tokenizer=<function stemming_tokenizer_no_stop_words at 0x7fbdd16a01e0> \n",
      "[CV]  nbc__algorithm=ball_tree, vect__use_idf=False, nbc__weights=uniform, vect__ngram_range=(1, 1), vect__tokenizer=<function stemming_tokenizer_no_stop_words at 0x7fbdd16a01e0>, score=0.921410, total=   0.3s\n",
      "[CV] nbc__algorithm=ball_tree, vect__use_idf=False, nbc__weights=uniform, vect__ngram_range=(1, 1), vect__tokenizer=<function stemming_tokenizer_no_stop_words at 0x7fbdd16a01e0> \n",
      "[CV]  nbc__algorithm=ball_tree, vect__use_idf=False, nbc__weights=uniform, vect__ngram_range=(1, 1), vect__tokenizer=<function stemming_tokenizer_no_stop_words at 0x7fbdd16a01e0>, score=0.856538, total=   0.4s\n"
     ]
    },
    {
     "name": "stderr",
     "output_type": "stream",
     "text": [
      "/home/siddhant/python/anaconda3/lib/python3.5/site-packages/sklearn/neighbors/base.py:211: UserWarning: cannot use tree with sparse input: using brute force\n",
      "  warnings.warn(\"cannot use tree with sparse input: \"\n"
     ]
    },
    {
     "name": "stdout",
     "output_type": "stream",
     "text": [
      "[CV] nbc__algorithm=ball_tree, vect__use_idf=False, nbc__weights=uniform, vect__ngram_range=(1, 1), vect__tokenizer=<function stemming_tokenizer_no_stop_words at 0x7fbdd16a01e0> \n"
     ]
    },
    {
     "name": "stderr",
     "output_type": "stream",
     "text": [
      "/home/siddhant/python/anaconda3/lib/python3.5/site-packages/sklearn/neighbors/base.py:211: UserWarning: cannot use tree with sparse input: using brute force\n",
      "  warnings.warn(\"cannot use tree with sparse input: \"\n",
      "/home/siddhant/python/anaconda3/lib/python3.5/site-packages/sklearn/neighbors/base.py:211: UserWarning: cannot use tree with sparse input: using brute force\n",
      "  warnings.warn(\"cannot use tree with sparse input: \"\n",
      "[Parallel(n_jobs=-1)]: Done  33 tasks      | elapsed:    6.1s\n"
     ]
    },
    {
     "name": "stdout",
     "output_type": "stream",
     "text": [
      "[CV]  nbc__algorithm=ball_tree, vect__use_idf=False, nbc__weights=uniform, vect__ngram_range=(1, 1), vect__tokenizer=<function stemming_tokenizer_no_stop_words at 0x7fbdd16a01e0>, score=0.708333, total=   0.3s\n",
      "[CV] nbc__algorithm=ball_tree, vect__use_idf=False, nbc__weights=uniform, vect__ngram_range=(1, 1), vect__tokenizer=<function stemming_tokenizer_no_stop_words at 0x7fbdd16a01e0> \n",
      "[CV]  nbc__algorithm=ball_tree, vect__use_idf=False, nbc__weights=uniform, vect__ngram_range=(1, 1), vect__tokenizer=<function stemming_tokenizer_no_stop_words at 0x7fbdd16a01e0>, score=0.979167, total=   0.4s\n",
      "[CV] nbc__algorithm=ball_tree, vect__use_idf=False, nbc__weights=uniform, vect__ngram_range=(1, 1), vect__tokenizer=<function stemming_tokenizer_no_stop_words at 0x7fbdd16a01e0> \n"
     ]
    },
    {
     "name": "stderr",
     "output_type": "stream",
     "text": [
      "/home/siddhant/python/anaconda3/lib/python3.5/site-packages/sklearn/neighbors/base.py:211: UserWarning: cannot use tree with sparse input: using brute force\n",
      "  warnings.warn(\"cannot use tree with sparse input: \"\n",
      "/home/siddhant/python/anaconda3/lib/python3.5/site-packages/sklearn/neighbors/base.py:211: UserWarning: cannot use tree with sparse input: using brute force\n",
      "  warnings.warn(\"cannot use tree with sparse input: \"\n"
     ]
    },
    {
     "name": "stdout",
     "output_type": "stream",
     "text": [
      "[CV]  nbc__algorithm=ball_tree, vect__use_idf=False, nbc__weights=uniform, vect__ngram_range=(1, 1), vect__tokenizer=<function stemming_tokenizer_no_stop_words at 0x7fbdd16a01e0>, score=0.979167, total=   0.3s\n",
      "[CV] nbc__algorithm=ball_tree, vect__use_idf=False, nbc__weights=uniform, vect__ngram_range=(1, 1), vect__tokenizer=<function stemming_tokenizer_no_stop_words at 0x7fbdd16a01e0> \n"
     ]
    },
    {
     "name": "stderr",
     "output_type": "stream",
     "text": [
      "/home/siddhant/python/anaconda3/lib/python3.5/site-packages/sklearn/neighbors/base.py:211: UserWarning: cannot use tree with sparse input: using brute force\n",
      "  warnings.warn(\"cannot use tree with sparse input: \"\n"
     ]
    },
    {
     "name": "stdout",
     "output_type": "stream",
     "text": [
      "[CV]  nbc__algorithm=ball_tree, vect__use_idf=False, nbc__weights=uniform, vect__ngram_range=(1, 1), vect__tokenizer=<function stemming_tokenizer_no_stop_words at 0x7fbdd16a01e0>, score=0.961538, total=   0.5s\n",
      "[CV] nbc__algorithm=ball_tree, vect__use_idf=True, nbc__weights=uniform, vect__ngram_range=(1, 3), vect__tokenizer=<function stemming_tokenizer at 0x7fbdd16a0158> \n"
     ]
    },
    {
     "name": "stderr",
     "output_type": "stream",
     "text": [
      "/home/siddhant/python/anaconda3/lib/python3.5/site-packages/sklearn/neighbors/base.py:211: UserWarning: cannot use tree with sparse input: using brute force\n",
      "  warnings.warn(\"cannot use tree with sparse input: \"\n"
     ]
    },
    {
     "name": "stdout",
     "output_type": "stream",
     "text": [
      "[CV]  nbc__algorithm=ball_tree, vect__use_idf=False, nbc__weights=uniform, vect__ngram_range=(1, 1), vect__tokenizer=<function stemming_tokenizer_no_stop_words at 0x7fbdd16a01e0>, score=0.902244, total=   0.4s\n",
      "[CV] nbc__algorithm=ball_tree, vect__use_idf=True, nbc__weights=uniform, vect__ngram_range=(1, 3), vect__tokenizer=<function stemming_tokenizer at 0x7fbdd16a0158> \n",
      "[CV]  nbc__algorithm=ball_tree, vect__use_idf=False, nbc__weights=uniform, vect__ngram_range=(1, 1), vect__tokenizer=<function stemming_tokenizer_no_stop_words at 0x7fbdd16a01e0>, score=1.000000, total=   0.4s\n",
      "[CV] nbc__algorithm=ball_tree, vect__use_idf=True, nbc__weights=uniform, vect__ngram_range=(1, 3), vect__tokenizer=<function stemming_tokenizer at 0x7fbdd16a0158> \n",
      "[CV]  nbc__algorithm=ball_tree, vect__use_idf=False, nbc__weights=uniform, vect__ngram_range=(1, 1), vect__tokenizer=<function stemming_tokenizer_no_stop_words at 0x7fbdd16a01e0>, score=0.916667, total=   0.2s\n",
      "[CV] nbc__algorithm=ball_tree, vect__use_idf=True, nbc__weights=uniform, vect__ngram_range=(1, 3), vect__tokenizer=<function stemming_tokenizer at 0x7fbdd16a0158> \n"
     ]
    },
    {
     "name": "stderr",
     "output_type": "stream",
     "text": [
      "/home/siddhant/python/anaconda3/lib/python3.5/site-packages/sklearn/neighbors/base.py:211: UserWarning: cannot use tree with sparse input: using brute force\n",
      "  warnings.warn(\"cannot use tree with sparse input: \"\n",
      "/home/siddhant/python/anaconda3/lib/python3.5/site-packages/sklearn/neighbors/base.py:211: UserWarning: cannot use tree with sparse input: using brute force\n",
      "  warnings.warn(\"cannot use tree with sparse input: \"\n",
      "/home/siddhant/python/anaconda3/lib/python3.5/site-packages/sklearn/neighbors/base.py:211: UserWarning: cannot use tree with sparse input: using brute force\n",
      "  warnings.warn(\"cannot use tree with sparse input: \"\n"
     ]
    },
    {
     "name": "stdout",
     "output_type": "stream",
     "text": [
      "[CV]  nbc__algorithm=ball_tree, vect__use_idf=True, nbc__weights=uniform, vect__ngram_range=(1, 3), vect__tokenizer=<function stemming_tokenizer at 0x7fbdd16a0158>, score=0.899161, total=   0.4s\n",
      "[CV] nbc__algorithm=ball_tree, vect__use_idf=True, nbc__weights=uniform, vect__ngram_range=(1, 3), vect__tokenizer=<function stemming_tokenizer at 0x7fbdd16a0158> \n"
     ]
    },
    {
     "name": "stderr",
     "output_type": "stream",
     "text": [
      "/home/siddhant/python/anaconda3/lib/python3.5/site-packages/sklearn/neighbors/base.py:211: UserWarning: cannot use tree with sparse input: using brute force\n",
      "  warnings.warn(\"cannot use tree with sparse input: \"\n"
     ]
    },
    {
     "name": "stdout",
     "output_type": "stream",
     "text": [
      "[CV]  nbc__algorithm=ball_tree, vect__use_idf=True, nbc__weights=uniform, vect__ngram_range=(1, 3), vect__tokenizer=<function stemming_tokenizer at 0x7fbdd16a0158>, score=0.619048, total=   0.3s\n",
      "[CV] nbc__algorithm=ball_tree, vect__use_idf=True, nbc__weights=uniform, vect__ngram_range=(1, 3), vect__tokenizer=<function stemming_tokenizer at 0x7fbdd16a0158> \n"
     ]
    },
    {
     "name": "stderr",
     "output_type": "stream",
     "text": [
      "/home/siddhant/python/anaconda3/lib/python3.5/site-packages/sklearn/neighbors/base.py:211: UserWarning: cannot use tree with sparse input: using brute force\n",
      "  warnings.warn(\"cannot use tree with sparse input: \"\n"
     ]
    },
    {
     "name": "stdout",
     "output_type": "stream",
     "text": [
      "[CV]  nbc__algorithm=ball_tree, vect__use_idf=True, nbc__weights=uniform, vect__ngram_range=(1, 3), vect__tokenizer=<function stemming_tokenizer at 0x7fbdd16a0158>, score=0.882353, total=   0.4s\n",
      "[CV] nbc__algorithm=ball_tree, vect__use_idf=True, nbc__weights=uniform, vect__ngram_range=(1, 3), vect__tokenizer=<function stemming_tokenizer at 0x7fbdd16a0158> \n"
     ]
    },
    {
     "name": "stderr",
     "output_type": "stream",
     "text": [
      "[Parallel(n_jobs=-1)]: Done  42 tasks      | elapsed:    7.8s\n"
     ]
    },
    {
     "name": "stdout",
     "output_type": "stream",
     "text": [
      "[CV]  nbc__algorithm=ball_tree, vect__use_idf=True, nbc__weights=uniform, vect__ngram_range=(1, 3), vect__tokenizer=<function stemming_tokenizer at 0x7fbdd16a0158>, score=0.816667, total=   0.5s\n",
      "[CV] nbc__algorithm=ball_tree, vect__use_idf=True, nbc__weights=uniform, vect__ngram_range=(1, 3), vect__tokenizer=<function stemming_tokenizer at 0x7fbdd16a0158> \n",
      "[CV]  nbc__algorithm=ball_tree, vect__use_idf=True, nbc__weights=uniform, vect__ngram_range=(1, 3), vect__tokenizer=<function stemming_tokenizer at 0x7fbdd16a0158>, score=0.750000, total=   0.3s\n",
      "[CV] nbc__algorithm=ball_tree, vect__use_idf=True, nbc__weights=uniform, vect__ngram_range=(1, 3), vect__tokenizer=<function stemming_tokenizer at 0x7fbdd16a0158> \n"
     ]
    },
    {
     "name": "stderr",
     "output_type": "stream",
     "text": [
      "/home/siddhant/python/anaconda3/lib/python3.5/site-packages/sklearn/neighbors/base.py:211: UserWarning: cannot use tree with sparse input: using brute force\n",
      "  warnings.warn(\"cannot use tree with sparse input: \"\n",
      "/home/siddhant/python/anaconda3/lib/python3.5/site-packages/sklearn/neighbors/base.py:211: UserWarning: cannot use tree with sparse input: using brute force\n",
      "  warnings.warn(\"cannot use tree with sparse input: \"\n",
      "/home/siddhant/python/anaconda3/lib/python3.5/site-packages/sklearn/neighbors/base.py:211: UserWarning: cannot use tree with sparse input: using brute force\n",
      "  warnings.warn(\"cannot use tree with sparse input: \"\n"
     ]
    },
    {
     "name": "stdout",
     "output_type": "stream",
     "text": [
      "[CV]  nbc__algorithm=ball_tree, vect__use_idf=True, nbc__weights=uniform, vect__ngram_range=(1, 3), vect__tokenizer=<function stemming_tokenizer at 0x7fbdd16a0158>, score=0.902244, total=   0.4s\n",
      "[CV] nbc__algorithm=ball_tree, vect__use_idf=True, nbc__weights=uniform, vect__ngram_range=(1, 3), vect__tokenizer=<function stemming_tokenizer at 0x7fbdd16a0158> \n"
     ]
    },
    {
     "name": "stderr",
     "output_type": "stream",
     "text": [
      "/home/siddhant/python/anaconda3/lib/python3.5/site-packages/sklearn/neighbors/base.py:211: UserWarning: cannot use tree with sparse input: using brute force\n",
      "  warnings.warn(\"cannot use tree with sparse input: \"\n"
     ]
    },
    {
     "name": "stdout",
     "output_type": "stream",
     "text": [
      "[CV]  nbc__algorithm=ball_tree, vect__use_idf=True, nbc__weights=uniform, vect__ngram_range=(1, 3), vect__tokenizer=<function stemming_tokenizer at 0x7fbdd16a0158>, score=0.902244, total=   0.4s\n",
      "[CV] nbc__algorithm=ball_tree, vect__use_idf=False, nbc__weights=uniform, vect__ngram_range=(1, 3), vect__tokenizer=<function stemming_tokenizer at 0x7fbdd16a0158> \n"
     ]
    },
    {
     "name": "stderr",
     "output_type": "stream",
     "text": [
      "/home/siddhant/python/anaconda3/lib/python3.5/site-packages/sklearn/neighbors/base.py:211: UserWarning: cannot use tree with sparse input: using brute force\n",
      "  warnings.warn(\"cannot use tree with sparse input: \"\n"
     ]
    },
    {
     "name": "stdout",
     "output_type": "stream",
     "text": [
      "[CV]  nbc__algorithm=ball_tree, vect__use_idf=True, nbc__weights=uniform, vect__ngram_range=(1, 3), vect__tokenizer=<function stemming_tokenizer at 0x7fbdd16a0158>, score=0.979167, total=   0.3s\n",
      "[CV] nbc__algorithm=ball_tree, vect__use_idf=False, nbc__weights=uniform, vect__ngram_range=(1, 3), vect__tokenizer=<function stemming_tokenizer at 0x7fbdd16a0158> \n",
      "[CV]  nbc__algorithm=ball_tree, vect__use_idf=True, nbc__weights=uniform, vect__ngram_range=(1, 3), vect__tokenizer=<function stemming_tokenizer at 0x7fbdd16a0158>, score=0.937500, total=   0.5s\n",
      "[CV] nbc__algorithm=ball_tree, vect__use_idf=False, nbc__weights=uniform, vect__ngram_range=(1, 3), vect__tokenizer=<function stemming_tokenizer at 0x7fbdd16a0158> \n",
      "[CV]  nbc__algorithm=ball_tree, vect__use_idf=True, nbc__weights=uniform, vect__ngram_range=(1, 3), vect__tokenizer=<function stemming_tokenizer at 0x7fbdd16a0158>, score=0.784722, total=   0.3s\n",
      "[CV] nbc__algorithm=ball_tree, vect__use_idf=False, nbc__weights=uniform, vect__ngram_range=(1, 3), vect__tokenizer=<function stemming_tokenizer at 0x7fbdd16a0158> \n"
     ]
    },
    {
     "name": "stderr",
     "output_type": "stream",
     "text": [
      "/home/siddhant/python/anaconda3/lib/python3.5/site-packages/sklearn/neighbors/base.py:211: UserWarning: cannot use tree with sparse input: using brute force\n",
      "  warnings.warn(\"cannot use tree with sparse input: \"\n",
      "/home/siddhant/python/anaconda3/lib/python3.5/site-packages/sklearn/neighbors/base.py:211: UserWarning: cannot use tree with sparse input: using brute force\n",
      "  warnings.warn(\"cannot use tree with sparse input: \"\n",
      "/home/siddhant/python/anaconda3/lib/python3.5/site-packages/sklearn/neighbors/base.py:211: UserWarning: cannot use tree with sparse input: using brute force\n",
      "  warnings.warn(\"cannot use tree with sparse input: \"\n",
      "/home/siddhant/python/anaconda3/lib/python3.5/site-packages/sklearn/neighbors/base.py:211: UserWarning: cannot use tree with sparse input: using brute force\n",
      "  warnings.warn(\"cannot use tree with sparse input: \"\n"
     ]
    },
    {
     "name": "stdout",
     "output_type": "stream",
     "text": [
      "[CV]  nbc__algorithm=ball_tree, vect__use_idf=False, nbc__weights=uniform, vect__ngram_range=(1, 3), vect__tokenizer=<function stemming_tokenizer at 0x7fbdd16a0158>, score=0.899161, total=   0.4s\n",
      "[CV] nbc__algorithm=ball_tree, vect__use_idf=False, nbc__weights=uniform, vect__ngram_range=(1, 3), vect__tokenizer=<function stemming_tokenizer at 0x7fbdd16a0158> \n",
      "[CV]  nbc__algorithm=ball_tree, vect__use_idf=False, nbc__weights=uniform, vect__ngram_range=(1, 3), vect__tokenizer=<function stemming_tokenizer at 0x7fbdd16a0158>, score=0.846591, total=   0.3s\n",
      "[CV] nbc__algorithm=ball_tree, vect__use_idf=False, nbc__weights=uniform, vect__ngram_range=(1, 3), vect__tokenizer=<function stemming_tokenizer at 0x7fbdd16a0158> \n",
      "[CV]  nbc__algorithm=ball_tree, vect__use_idf=False, nbc__weights=uniform, vect__ngram_range=(1, 3), vect__tokenizer=<function stemming_tokenizer at 0x7fbdd16a0158>, score=0.882353, total=   0.5s\n",
      "[CV]  nbc__algorithm=ball_tree, vect__use_idf=False, nbc__weights=uniform, vect__ngram_range=(1, 3), vect__tokenizer=<function stemming_tokenizer at 0x7fbdd16a0158>, score=0.675000, total=   0.3s\n",
      "[CV] nbc__algorithm=ball_tree, vect__use_idf=False, nbc__weights=uniform, vect__ngram_range=(1, 3), vect__tokenizer=<function stemming_tokenizer at 0x7fbdd16a0158> \n",
      "[CV] nbc__algorithm=ball_tree, vect__use_idf=False, nbc__weights=uniform, vect__ngram_range=(1, 3), vect__tokenizer=<function stemming_tokenizer at 0x7fbdd16a0158> \n"
     ]
    },
    {
     "name": "stderr",
     "output_type": "stream",
     "text": [
      "/home/siddhant/python/anaconda3/lib/python3.5/site-packages/sklearn/neighbors/base.py:211: UserWarning: cannot use tree with sparse input: using brute force\n",
      "  warnings.warn(\"cannot use tree with sparse input: \"\n",
      "[Parallel(n_jobs=-1)]: Done  53 tasks      | elapsed:    9.5s\n",
      "/home/siddhant/python/anaconda3/lib/python3.5/site-packages/sklearn/neighbors/base.py:211: UserWarning: cannot use tree with sparse input: using brute force\n",
      "  warnings.warn(\"cannot use tree with sparse input: \"\n",
      "/home/siddhant/python/anaconda3/lib/python3.5/site-packages/sklearn/neighbors/base.py:211: UserWarning: cannot use tree with sparse input: using brute force\n",
      "  warnings.warn(\"cannot use tree with sparse input: \"\n",
      "/home/siddhant/python/anaconda3/lib/python3.5/site-packages/sklearn/neighbors/base.py:211: UserWarning: cannot use tree with sparse input: using brute force\n",
      "  warnings.warn(\"cannot use tree with sparse input: \"\n"
     ]
    },
    {
     "name": "stdout",
     "output_type": "stream",
     "text": [
      "[CV]  nbc__algorithm=ball_tree, vect__use_idf=False, nbc__weights=uniform, vect__ngram_range=(1, 3), vect__tokenizer=<function stemming_tokenizer at 0x7fbdd16a0158>, score=0.812500, total=   0.4s\n",
      "[CV] nbc__algorithm=ball_tree, vect__use_idf=False, nbc__weights=uniform, vect__ngram_range=(1, 3), vect__tokenizer=<function stemming_tokenizer at 0x7fbdd16a0158> \n",
      "[CV]  nbc__algorithm=ball_tree, vect__use_idf=False, nbc__weights=uniform, vect__ngram_range=(1, 3), vect__tokenizer=<function stemming_tokenizer at 0x7fbdd16a0158>, score=0.961538, total=   0.3s\n",
      "[CV] nbc__algorithm=ball_tree, vect__use_idf=False, nbc__weights=uniform, vect__ngram_range=(1, 3), vect__tokenizer=<function stemming_tokenizer at 0x7fbdd16a0158> \n",
      "[CV]  nbc__algorithm=ball_tree, vect__use_idf=False, nbc__weights=uniform, vect__ngram_range=(1, 3), vect__tokenizer=<function stemming_tokenizer at 0x7fbdd16a0158>, score=0.902244, total=   0.4s\n",
      "[CV] nbc__algorithm=ball_tree, vect__use_idf=True, nbc__weights=uniform, vect__ngram_range=(1, 3), vect__tokenizer=<function stemming_tokenizer_no_stop_words at 0x7fbdd16a01e0> \n",
      "[CV]  nbc__algorithm=ball_tree, vect__use_idf=False, nbc__weights=uniform, vect__ngram_range=(1, 3), vect__tokenizer=<function stemming_tokenizer at 0x7fbdd16a0158>, score=0.937500, total=   0.4s\n",
      "[CV] nbc__algorithm=ball_tree, vect__use_idf=True, nbc__weights=uniform, vect__ngram_range=(1, 3), vect__tokenizer=<function stemming_tokenizer_no_stop_words at 0x7fbdd16a01e0> \n"
     ]
    },
    {
     "name": "stderr",
     "output_type": "stream",
     "text": [
      "/home/siddhant/python/anaconda3/lib/python3.5/site-packages/sklearn/neighbors/base.py:211: UserWarning: cannot use tree with sparse input: using brute force\n",
      "  warnings.warn(\"cannot use tree with sparse input: \"\n",
      "/home/siddhant/python/anaconda3/lib/python3.5/site-packages/sklearn/neighbors/base.py:211: UserWarning: cannot use tree with sparse input: using brute force\n",
      "  warnings.warn(\"cannot use tree with sparse input: \"\n",
      "/home/siddhant/python/anaconda3/lib/python3.5/site-packages/sklearn/neighbors/base.py:211: UserWarning: cannot use tree with sparse input: using brute force\n",
      "  warnings.warn(\"cannot use tree with sparse input: \"\n"
     ]
    },
    {
     "name": "stdout",
     "output_type": "stream",
     "text": [
      "[CV]  nbc__algorithm=ball_tree, vect__use_idf=False, nbc__weights=uniform, vect__ngram_range=(1, 3), vect__tokenizer=<function stemming_tokenizer at 0x7fbdd16a0158>, score=0.958333, total=   0.4s\n",
      "[CV] nbc__algorithm=ball_tree, vect__use_idf=True, nbc__weights=uniform, vect__ngram_range=(1, 3), vect__tokenizer=<function stemming_tokenizer_no_stop_words at 0x7fbdd16a01e0> \n"
     ]
    },
    {
     "name": "stderr",
     "output_type": "stream",
     "text": [
      "/home/siddhant/python/anaconda3/lib/python3.5/site-packages/sklearn/neighbors/base.py:211: UserWarning: cannot use tree with sparse input: using brute force\n",
      "  warnings.warn(\"cannot use tree with sparse input: \"\n"
     ]
    },
    {
     "name": "stdout",
     "output_type": "stream",
     "text": [
      "[CV]  nbc__algorithm=ball_tree, vect__use_idf=False, nbc__weights=uniform, vect__ngram_range=(1, 3), vect__tokenizer=<function stemming_tokenizer at 0x7fbdd16a0158>, score=0.816667, total=   0.3s\n",
      "[CV] nbc__algorithm=ball_tree, vect__use_idf=True, nbc__weights=uniform, vect__ngram_range=(1, 3), vect__tokenizer=<function stemming_tokenizer_no_stop_words at 0x7fbdd16a01e0> \n",
      "[CV]  nbc__algorithm=ball_tree, vect__use_idf=True, nbc__weights=uniform, vect__ngram_range=(1, 3), vect__tokenizer=<function stemming_tokenizer_no_stop_words at 0x7fbdd16a01e0>, score=0.881538, total=   0.4s\n",
      "[CV] nbc__algorithm=ball_tree, vect__use_idf=True, nbc__weights=uniform, vect__ngram_range=(1, 3), vect__tokenizer=<function stemming_tokenizer_no_stop_words at 0x7fbdd16a01e0> \n"
     ]
    },
    {
     "name": "stderr",
     "output_type": "stream",
     "text": [
      "/home/siddhant/python/anaconda3/lib/python3.5/site-packages/sklearn/neighbors/base.py:211: UserWarning: cannot use tree with sparse input: using brute force\n",
      "  warnings.warn(\"cannot use tree with sparse input: \"\n"
     ]
    },
    {
     "name": "stdout",
     "output_type": "stream",
     "text": [
      "[CV]  nbc__algorithm=ball_tree, vect__use_idf=True, nbc__weights=uniform, vect__ngram_range=(1, 3), vect__tokenizer=<function stemming_tokenizer_no_stop_words at 0x7fbdd16a01e0>, score=0.835245, total=   0.5s\n",
      "[CV] nbc__algorithm=ball_tree, vect__use_idf=True, nbc__weights=uniform, vect__ngram_range=(1, 3), vect__tokenizer=<function stemming_tokenizer_no_stop_words at 0x7fbdd16a01e0> \n"
     ]
    },
    {
     "name": "stderr",
     "output_type": "stream",
     "text": [
      "/home/siddhant/python/anaconda3/lib/python3.5/site-packages/sklearn/neighbors/base.py:211: UserWarning: cannot use tree with sparse input: using brute force\n",
      "  warnings.warn(\"cannot use tree with sparse input: \"\n"
     ]
    },
    {
     "name": "stdout",
     "output_type": "stream",
     "text": [
      "[CV]  nbc__algorithm=ball_tree, vect__use_idf=True, nbc__weights=uniform, vect__ngram_range=(1, 3), vect__tokenizer=<function stemming_tokenizer_no_stop_words at 0x7fbdd16a01e0>, score=0.912879, total=   0.4s\n",
      "[CV] nbc__algorithm=ball_tree, vect__use_idf=True, nbc__weights=uniform, vect__ngram_range=(1, 3), vect__tokenizer=<function stemming_tokenizer_no_stop_words at 0x7fbdd16a01e0> \n"
     ]
    },
    {
     "name": "stderr",
     "output_type": "stream",
     "text": [
      "/home/siddhant/python/anaconda3/lib/python3.5/site-packages/sklearn/neighbors/base.py:211: UserWarning: cannot use tree with sparse input: using brute force\n",
      "  warnings.warn(\"cannot use tree with sparse input: \"\n",
      "/home/siddhant/python/anaconda3/lib/python3.5/site-packages/sklearn/neighbors/base.py:211: UserWarning: cannot use tree with sparse input: using brute force\n",
      "  warnings.warn(\"cannot use tree with sparse input: \"\n"
     ]
    },
    {
     "name": "stdout",
     "output_type": "stream",
     "text": [
      "[CV]  nbc__algorithm=ball_tree, vect__use_idf=True, nbc__weights=uniform, vect__ngram_range=(1, 3), vect__tokenizer=<function stemming_tokenizer_no_stop_words at 0x7fbdd16a01e0>, score=0.750000, total=   0.5s\n",
      "[CV] nbc__algorithm=ball_tree, vect__use_idf=True, nbc__weights=uniform, vect__ngram_range=(1, 3), vect__tokenizer=<function stemming_tokenizer_no_stop_words at 0x7fbdd16a01e0> \n"
     ]
    },
    {
     "name": "stderr",
     "output_type": "stream",
     "text": [
      "/home/siddhant/python/anaconda3/lib/python3.5/site-packages/sklearn/neighbors/base.py:211: UserWarning: cannot use tree with sparse input: using brute force\n",
      "  warnings.warn(\"cannot use tree with sparse input: \"\n",
      "[Parallel(n_jobs=-1)]: Done  64 tasks      | elapsed:   11.5s\n"
     ]
    },
    {
     "name": "stdout",
     "output_type": "stream",
     "text": [
      "[CV]  nbc__algorithm=ball_tree, vect__use_idf=True, nbc__weights=uniform, vect__ngram_range=(1, 3), vect__tokenizer=<function stemming_tokenizer_no_stop_words at 0x7fbdd16a01e0>, score=0.958333, total=   0.4s\n",
      "[CV] nbc__algorithm=ball_tree, vect__use_idf=True, nbc__weights=uniform, vect__ngram_range=(1, 3), vect__tokenizer=<function stemming_tokenizer_no_stop_words at 0x7fbdd16a01e0> \n",
      "[CV]  nbc__algorithm=ball_tree, vect__use_idf=True, nbc__weights=uniform, vect__ngram_range=(1, 3), vect__tokenizer=<function stemming_tokenizer_no_stop_words at 0x7fbdd16a01e0>, score=0.861111, total=   0.5s\n",
      "[CV] nbc__algorithm=ball_tree, vect__use_idf=True, nbc__weights=uniform, vect__ngram_range=(1, 3), vect__tokenizer=<function stemming_tokenizer_no_stop_words at 0x7fbdd16a01e0> \n"
     ]
    },
    {
     "name": "stderr",
     "output_type": "stream",
     "text": [
      "/home/siddhant/python/anaconda3/lib/python3.5/site-packages/sklearn/neighbors/base.py:211: UserWarning: cannot use tree with sparse input: using brute force\n",
      "  warnings.warn(\"cannot use tree with sparse input: \"\n"
     ]
    },
    {
     "name": "stdout",
     "output_type": "stream",
     "text": [
      "[CV]  nbc__algorithm=ball_tree, vect__use_idf=True, nbc__weights=uniform, vect__ngram_range=(1, 3), vect__tokenizer=<function stemming_tokenizer_no_stop_words at 0x7fbdd16a01e0>, score=0.937500, total=   0.4s\n",
      "[CV] nbc__algorithm=ball_tree, vect__use_idf=False, nbc__weights=uniform, vect__ngram_range=(1, 3), vect__tokenizer=<function stemming_tokenizer_no_stop_words at 0x7fbdd16a01e0> \n"
     ]
    },
    {
     "name": "stderr",
     "output_type": "stream",
     "text": [
      "/home/siddhant/python/anaconda3/lib/python3.5/site-packages/sklearn/neighbors/base.py:211: UserWarning: cannot use tree with sparse input: using brute force\n",
      "  warnings.warn(\"cannot use tree with sparse input: \"\n",
      "/home/siddhant/python/anaconda3/lib/python3.5/site-packages/sklearn/neighbors/base.py:211: UserWarning: cannot use tree with sparse input: using brute force\n",
      "  warnings.warn(\"cannot use tree with sparse input: \"\n"
     ]
    },
    {
     "name": "stdout",
     "output_type": "stream",
     "text": [
      "[CV]  nbc__algorithm=ball_tree, vect__use_idf=True, nbc__weights=uniform, vect__ngram_range=(1, 3), vect__tokenizer=<function stemming_tokenizer_no_stop_words at 0x7fbdd16a01e0>, score=0.979167, total=   0.5s\n",
      "[CV] nbc__algorithm=ball_tree, vect__use_idf=False, nbc__weights=uniform, vect__ngram_range=(1, 3), vect__tokenizer=<function stemming_tokenizer_no_stop_words at 0x7fbdd16a01e0> \n"
     ]
    },
    {
     "name": "stderr",
     "output_type": "stream",
     "text": [
      "/home/siddhant/python/anaconda3/lib/python3.5/site-packages/sklearn/neighbors/base.py:211: UserWarning: cannot use tree with sparse input: using brute force\n",
      "  warnings.warn(\"cannot use tree with sparse input: \"\n"
     ]
    },
    {
     "name": "stdout",
     "output_type": "stream",
     "text": [
      "[CV]  nbc__algorithm=ball_tree, vect__use_idf=True, nbc__weights=uniform, vect__ngram_range=(1, 3), vect__tokenizer=<function stemming_tokenizer_no_stop_words at 0x7fbdd16a01e0>, score=0.784722, total=   0.4s\n",
      "[CV]  nbc__algorithm=ball_tree, vect__use_idf=True, nbc__weights=uniform, vect__ngram_range=(1, 3), vect__tokenizer=<function stemming_tokenizer_no_stop_words at 0x7fbdd16a01e0>, score=0.912879, total=   0.4s\n",
      "[CV] nbc__algorithm=ball_tree, vect__use_idf=False, nbc__weights=uniform, vect__ngram_range=(1, 3), vect__tokenizer=<function stemming_tokenizer_no_stop_words at 0x7fbdd16a01e0> \n",
      "[CV] nbc__algorithm=ball_tree, vect__use_idf=False, nbc__weights=uniform, vect__ngram_range=(1, 3), vect__tokenizer=<function stemming_tokenizer_no_stop_words at 0x7fbdd16a01e0> \n"
     ]
    },
    {
     "name": "stderr",
     "output_type": "stream",
     "text": [
      "/home/siddhant/python/anaconda3/lib/python3.5/site-packages/sklearn/neighbors/base.py:211: UserWarning: cannot use tree with sparse input: using brute force\n",
      "  warnings.warn(\"cannot use tree with sparse input: \"\n",
      "/home/siddhant/python/anaconda3/lib/python3.5/site-packages/sklearn/neighbors/base.py:211: UserWarning: cannot use tree with sparse input: using brute force\n",
      "  warnings.warn(\"cannot use tree with sparse input: \"\n",
      "/home/siddhant/python/anaconda3/lib/python3.5/site-packages/sklearn/neighbors/base.py:211: UserWarning: cannot use tree with sparse input: using brute force\n",
      "  warnings.warn(\"cannot use tree with sparse input: \"\n"
     ]
    },
    {
     "name": "stdout",
     "output_type": "stream",
     "text": [
      "[CV]  nbc__algorithm=ball_tree, vect__use_idf=False, nbc__weights=uniform, vect__ngram_range=(1, 3), vect__tokenizer=<function stemming_tokenizer_no_stop_words at 0x7fbdd16a01e0>, score=0.876154, total=   0.4s\n",
      "[CV] nbc__algorithm=ball_tree, vect__use_idf=False, nbc__weights=uniform, vect__ngram_range=(1, 3), vect__tokenizer=<function stemming_tokenizer_no_stop_words at 0x7fbdd16a01e0> \n",
      "[CV]  nbc__algorithm=ball_tree, vect__use_idf=False, nbc__weights=uniform, vect__ngram_range=(1, 3), vect__tokenizer=<function stemming_tokenizer_no_stop_words at 0x7fbdd16a01e0>, score=0.856538, total=   0.3s\n",
      "[CV] nbc__algorithm=ball_tree, vect__use_idf=False, nbc__weights=uniform, vect__ngram_range=(1, 3), vect__tokenizer=<function stemming_tokenizer_no_stop_words at 0x7fbdd16a01e0> \n"
     ]
    },
    {
     "name": "stderr",
     "output_type": "stream",
     "text": [
      "/home/siddhant/python/anaconda3/lib/python3.5/site-packages/sklearn/neighbors/base.py:211: UserWarning: cannot use tree with sparse input: using brute force\n",
      "  warnings.warn(\"cannot use tree with sparse input: \"\n",
      "/home/siddhant/python/anaconda3/lib/python3.5/site-packages/sklearn/neighbors/base.py:211: UserWarning: cannot use tree with sparse input: using brute force\n",
      "  warnings.warn(\"cannot use tree with sparse input: \"\n"
     ]
    },
    {
     "name": "stdout",
     "output_type": "stream",
     "text": [
      "[CV]  nbc__algorithm=ball_tree, vect__use_idf=False, nbc__weights=uniform, vect__ngram_range=(1, 3), vect__tokenizer=<function stemming_tokenizer_no_stop_words at 0x7fbdd16a01e0>, score=0.750000, total=   0.4s\n",
      "[CV]  nbc__algorithm=ball_tree, vect__use_idf=False, nbc__weights=uniform, vect__ngram_range=(1, 3), vect__tokenizer=<function stemming_tokenizer_no_stop_words at 0x7fbdd16a01e0>, score=0.912879, total=   0.5s\n",
      "[CV] nbc__algorithm=ball_tree, vect__use_idf=False, nbc__weights=uniform, vect__ngram_range=(1, 3), vect__tokenizer=<function stemming_tokenizer_no_stop_words at 0x7fbdd16a01e0> \n",
      "[CV] nbc__algorithm=ball_tree, vect__use_idf=False, nbc__weights=uniform, vect__ngram_range=(1, 3), vect__tokenizer=<function stemming_tokenizer_no_stop_words at 0x7fbdd16a01e0> \n",
      "[CV]  nbc__algorithm=ball_tree, vect__use_idf=False, nbc__weights=uniform, vect__ngram_range=(1, 3), vect__tokenizer=<function stemming_tokenizer_no_stop_words at 0x7fbdd16a01e0>, score=0.979167, total=   0.3s\n",
      "[CV] nbc__algorithm=ball_tree, vect__use_idf=False, nbc__weights=uniform, vect__ngram_range=(1, 3), vect__tokenizer=<function stemming_tokenizer_no_stop_words at 0x7fbdd16a01e0> \n",
      "[CV]  nbc__algorithm=ball_tree, vect__use_idf=False, nbc__weights=uniform, vect__ngram_range=(1, 3), vect__tokenizer=<function stemming_tokenizer_no_stop_words at 0x7fbdd16a01e0>, score=0.979167, total=   0.4s\n",
      "[CV] nbc__algorithm=ball_tree, vect__use_idf=False, nbc__weights=uniform, vect__ngram_range=(1, 3), vect__tokenizer=<function stemming_tokenizer_no_stop_words at 0x7fbdd16a01e0> \n"
     ]
    },
    {
     "name": "stderr",
     "output_type": "stream",
     "text": [
      "/home/siddhant/python/anaconda3/lib/python3.5/site-packages/sklearn/neighbors/base.py:211: UserWarning: cannot use tree with sparse input: using brute force\n",
      "  warnings.warn(\"cannot use tree with sparse input: \"\n",
      "/home/siddhant/python/anaconda3/lib/python3.5/site-packages/sklearn/neighbors/base.py:211: UserWarning: cannot use tree with sparse input: using brute force\n",
      "  warnings.warn(\"cannot use tree with sparse input: \"\n",
      "/home/siddhant/python/anaconda3/lib/python3.5/site-packages/sklearn/neighbors/base.py:211: UserWarning: cannot use tree with sparse input: using brute force\n",
      "  warnings.warn(\"cannot use tree with sparse input: \"\n",
      "/home/siddhant/python/anaconda3/lib/python3.5/site-packages/sklearn/neighbors/base.py:211: UserWarning: cannot use tree with sparse input: using brute force\n",
      "  warnings.warn(\"cannot use tree with sparse input: \"\n"
     ]
    },
    {
     "name": "stdout",
     "output_type": "stream",
     "text": [
      "[CV]  nbc__algorithm=ball_tree, vect__use_idf=False, nbc__weights=uniform, vect__ngram_range=(1, 3), vect__tokenizer=<function stemming_tokenizer_no_stop_words at 0x7fbdd16a01e0>, score=0.958333, total=   0.3s\n",
      "[CV] nbc__algorithm=ball_tree, vect__use_idf=True, nbc__weights=distance, vect__ngram_range=(1, 1), vect__tokenizer=<function stemming_tokenizer at 0x7fbdd16a0158> \n",
      "[CV]  nbc__algorithm=ball_tree, vect__use_idf=False, nbc__weights=uniform, vect__ngram_range=(1, 3), vect__tokenizer=<function stemming_tokenizer_no_stop_words at 0x7fbdd16a01e0>, score=0.961538, total=   0.4s\n",
      "[CV] nbc__algorithm=ball_tree, vect__use_idf=True, nbc__weights=distance, vect__ngram_range=(1, 1), vect__tokenizer=<function stemming_tokenizer at 0x7fbdd16a0158> \n",
      "[CV]  nbc__algorithm=ball_tree, vect__use_idf=False, nbc__weights=uniform, vect__ngram_range=(1, 3), vect__tokenizer=<function stemming_tokenizer_no_stop_words at 0x7fbdd16a01e0>, score=0.937500, total=   0.5s\n",
      "[CV] nbc__algorithm=ball_tree, vect__use_idf=True, nbc__weights=distance, vect__ngram_range=(1, 1), vect__tokenizer=<function stemming_tokenizer at 0x7fbdd16a0158> \n"
     ]
    },
    {
     "name": "stderr",
     "output_type": "stream",
     "text": [
      "[Parallel(n_jobs=-1)]: Done  77 tasks      | elapsed:   14.0s\n",
      "/home/siddhant/python/anaconda3/lib/python3.5/site-packages/sklearn/neighbors/base.py:211: UserWarning: cannot use tree with sparse input: using brute force\n",
      "  warnings.warn(\"cannot use tree with sparse input: \"\n"
     ]
    },
    {
     "name": "stdout",
     "output_type": "stream",
     "text": [
      "[CV]  nbc__algorithm=ball_tree, vect__use_idf=False, nbc__weights=uniform, vect__ngram_range=(1, 3), vect__tokenizer=<function stemming_tokenizer_no_stop_words at 0x7fbdd16a01e0>, score=0.916667, total=   0.4s\n",
      "[CV] nbc__algorithm=ball_tree, vect__use_idf=True, nbc__weights=distance, vect__ngram_range=(1, 1), vect__tokenizer=<function stemming_tokenizer at 0x7fbdd16a0158> \n"
     ]
    },
    {
     "name": "stderr",
     "output_type": "stream",
     "text": [
      "/home/siddhant/python/anaconda3/lib/python3.5/site-packages/sklearn/neighbors/base.py:211: UserWarning: cannot use tree with sparse input: using brute force\n",
      "  warnings.warn(\"cannot use tree with sparse input: \"\n",
      "/home/siddhant/python/anaconda3/lib/python3.5/site-packages/sklearn/neighbors/base.py:211: UserWarning: cannot use tree with sparse input: using brute force\n",
      "  warnings.warn(\"cannot use tree with sparse input: \"\n"
     ]
    },
    {
     "name": "stdout",
     "output_type": "stream",
     "text": [
      "[CV]  nbc__algorithm=ball_tree, vect__use_idf=True, nbc__weights=distance, vect__ngram_range=(1, 1), vect__tokenizer=<function stemming_tokenizer at 0x7fbdd16a0158>, score=0.964286, total=   0.3s\n",
      "[CV] nbc__algorithm=ball_tree, vect__use_idf=True, nbc__weights=distance, vect__ngram_range=(1, 1), vect__tokenizer=<function stemming_tokenizer at 0x7fbdd16a0158> \n"
     ]
    },
    {
     "name": "stderr",
     "output_type": "stream",
     "text": [
      "/home/siddhant/python/anaconda3/lib/python3.5/site-packages/sklearn/neighbors/base.py:211: UserWarning: cannot use tree with sparse input: using brute force\n",
      "  warnings.warn(\"cannot use tree with sparse input: \"\n"
     ]
    },
    {
     "name": "stdout",
     "output_type": "stream",
     "text": [
      "[CV]  nbc__algorithm=ball_tree, vect__use_idf=True, nbc__weights=distance, vect__ngram_range=(1, 1), vect__tokenizer=<function stemming_tokenizer at 0x7fbdd16a0158>, score=0.944615, total=   0.4s\n"
     ]
    },
    {
     "name": "stderr",
     "output_type": "stream",
     "text": [
      "/home/siddhant/python/anaconda3/lib/python3.5/site-packages/sklearn/neighbors/base.py:211: UserWarning: cannot use tree with sparse input: using brute force\n",
      "  warnings.warn(\"cannot use tree with sparse input: \"\n"
     ]
    },
    {
     "name": "stdout",
     "output_type": "stream",
     "text": [
      "[CV] nbc__algorithm=ball_tree, vect__use_idf=True, nbc__weights=distance, vect__ngram_range=(1, 1), vect__tokenizer=<function stemming_tokenizer at 0x7fbdd16a0158> \n",
      "[CV]  nbc__algorithm=ball_tree, vect__use_idf=True, nbc__weights=distance, vect__ngram_range=(1, 1), vect__tokenizer=<function stemming_tokenizer at 0x7fbdd16a0158>, score=0.861111, total=   0.4s\n",
      "[CV] nbc__algorithm=ball_tree, vect__use_idf=True, nbc__weights=distance, vect__ngram_range=(1, 1), vect__tokenizer=<function stemming_tokenizer at 0x7fbdd16a0158> \n",
      "[CV]  nbc__algorithm=ball_tree, vect__use_idf=True, nbc__weights=distance, vect__ngram_range=(1, 1), vect__tokenizer=<function stemming_tokenizer at 0x7fbdd16a0158>, score=0.666667, total=   0.3s\n",
      "[CV] nbc__algorithm=ball_tree, vect__use_idf=True, nbc__weights=distance, vect__ngram_range=(1, 1), vect__tokenizer=<function stemming_tokenizer at 0x7fbdd16a0158> \n"
     ]
    },
    {
     "name": "stderr",
     "output_type": "stream",
     "text": [
      "/home/siddhant/python/anaconda3/lib/python3.5/site-packages/sklearn/neighbors/base.py:211: UserWarning: cannot use tree with sparse input: using brute force\n",
      "  warnings.warn(\"cannot use tree with sparse input: \"\n"
     ]
    },
    {
     "name": "stdout",
     "output_type": "stream",
     "text": [
      "[CV]  nbc__algorithm=ball_tree, vect__use_idf=True, nbc__weights=distance, vect__ngram_range=(1, 1), vect__tokenizer=<function stemming_tokenizer at 0x7fbdd16a0158>, score=0.780303, total=   0.3s\n",
      "[CV] nbc__algorithm=ball_tree, vect__use_idf=True, nbc__weights=distance, vect__ngram_range=(1, 1), vect__tokenizer=<function stemming_tokenizer at 0x7fbdd16a0158> \n"
     ]
    },
    {
     "name": "stderr",
     "output_type": "stream",
     "text": [
      "/home/siddhant/python/anaconda3/lib/python3.5/site-packages/sklearn/neighbors/base.py:211: UserWarning: cannot use tree with sparse input: using brute force\n",
      "  warnings.warn(\"cannot use tree with sparse input: \"\n",
      "/home/siddhant/python/anaconda3/lib/python3.5/site-packages/sklearn/neighbors/base.py:211: UserWarning: cannot use tree with sparse input: using brute force\n",
      "  warnings.warn(\"cannot use tree with sparse input: \"\n"
     ]
    },
    {
     "name": "stdout",
     "output_type": "stream",
     "text": [
      "[CV]  nbc__algorithm=ball_tree, vect__use_idf=True, nbc__weights=distance, vect__ngram_range=(1, 1), vect__tokenizer=<function stemming_tokenizer at 0x7fbdd16a0158>, score=0.912879, total=   0.2s\n",
      "[CV] nbc__algorithm=ball_tree, vect__use_idf=True, nbc__weights=distance, vect__ngram_range=(1, 1), vect__tokenizer=<function stemming_tokenizer at 0x7fbdd16a0158> \n",
      "[CV]  nbc__algorithm=ball_tree, vect__use_idf=True, nbc__weights=distance, vect__ngram_range=(1, 1), vect__tokenizer=<function stemming_tokenizer at 0x7fbdd16a0158>, score=0.875000, total=   0.4s\n"
     ]
    },
    {
     "name": "stderr",
     "output_type": "stream",
     "text": [
      "/home/siddhant/python/anaconda3/lib/python3.5/site-packages/sklearn/neighbors/base.py:211: UserWarning: cannot use tree with sparse input: using brute force\n",
      "  warnings.warn(\"cannot use tree with sparse input: \"\n"
     ]
    },
    {
     "name": "stdout",
     "output_type": "stream",
     "text": [
      "[CV] nbc__algorithm=ball_tree, vect__use_idf=False, nbc__weights=distance, vect__ngram_range=(1, 1), vect__tokenizer=<function stemming_tokenizer at 0x7fbdd16a0158> \n",
      "[CV]  nbc__algorithm=ball_tree, vect__use_idf=True, nbc__weights=distance, vect__ngram_range=(1, 1), vect__tokenizer=<function stemming_tokenizer at 0x7fbdd16a0158>, score=0.937500, total=   0.3s\n",
      "[CV] nbc__algorithm=ball_tree, vect__use_idf=False, nbc__weights=distance, vect__ngram_range=(1, 1), vect__tokenizer=<function stemming_tokenizer at 0x7fbdd16a0158> \n"
     ]
    },
    {
     "name": "stderr",
     "output_type": "stream",
     "text": [
      "/home/siddhant/python/anaconda3/lib/python3.5/site-packages/sklearn/neighbors/base.py:211: UserWarning: cannot use tree with sparse input: using brute force\n",
      "  warnings.warn(\"cannot use tree with sparse input: \"\n",
      "/home/siddhant/python/anaconda3/lib/python3.5/site-packages/sklearn/neighbors/base.py:211: UserWarning: cannot use tree with sparse input: using brute force\n",
      "  warnings.warn(\"cannot use tree with sparse input: \"\n"
     ]
    },
    {
     "name": "stdout",
     "output_type": "stream",
     "text": [
      "[CV]  nbc__algorithm=ball_tree, vect__use_idf=True, nbc__weights=distance, vect__ngram_range=(1, 1), vect__tokenizer=<function stemming_tokenizer at 0x7fbdd16a0158>, score=0.937500, total=   0.3s\n",
      "[CV] nbc__algorithm=ball_tree, vect__use_idf=False, nbc__weights=distance, vect__ngram_range=(1, 1), vect__tokenizer=<function stemming_tokenizer at 0x7fbdd16a0158> \n"
     ]
    },
    {
     "name": "stderr",
     "output_type": "stream",
     "text": [
      "/home/siddhant/python/anaconda3/lib/python3.5/site-packages/sklearn/neighbors/base.py:211: UserWarning: cannot use tree with sparse input: using brute force\n",
      "  warnings.warn(\"cannot use tree with sparse input: \"\n"
     ]
    },
    {
     "name": "stdout",
     "output_type": "stream",
     "text": [
      "[CV]  nbc__algorithm=ball_tree, vect__use_idf=True, nbc__weights=distance, vect__ngram_range=(1, 1), vect__tokenizer=<function stemming_tokenizer at 0x7fbdd16a0158>, score=0.803571, total=   0.3s\n",
      "[CV] nbc__algorithm=ball_tree, vect__use_idf=False, nbc__weights=distance, vect__ngram_range=(1, 1), vect__tokenizer=<function stemming_tokenizer at 0x7fbdd16a0158> \n",
      "[CV]  nbc__algorithm=ball_tree, vect__use_idf=False, nbc__weights=distance, vect__ngram_range=(1, 1), vect__tokenizer=<function stemming_tokenizer at 0x7fbdd16a0158>, score=0.882353, total=   0.3s\n",
      "[CV] nbc__algorithm=ball_tree, vect__use_idf=False, nbc__weights=distance, vect__ngram_range=(1, 1), vect__tokenizer=<function stemming_tokenizer at 0x7fbdd16a0158> \n"
     ]
    },
    {
     "name": "stderr",
     "output_type": "stream",
     "text": [
      "/home/siddhant/python/anaconda3/lib/python3.5/site-packages/sklearn/neighbors/base.py:211: UserWarning: cannot use tree with sparse input: using brute force\n",
      "  warnings.warn(\"cannot use tree with sparse input: \"\n",
      "[Parallel(n_jobs=-1)]: Done  90 tasks      | elapsed:   15.9s\n"
     ]
    },
    {
     "name": "stdout",
     "output_type": "stream",
     "text": [
      "[CV]  nbc__algorithm=ball_tree, vect__use_idf=False, nbc__weights=distance, vect__ngram_range=(1, 1), vect__tokenizer=<function stemming_tokenizer at 0x7fbdd16a0158>, score=0.963077, total=   0.5s\n",
      "[CV] nbc__algorithm=ball_tree, vect__use_idf=False, nbc__weights=distance, vect__ngram_range=(1, 1), vect__tokenizer=<function stemming_tokenizer at 0x7fbdd16a0158> \n"
     ]
    },
    {
     "name": "stderr",
     "output_type": "stream",
     "text": [
      "/home/siddhant/python/anaconda3/lib/python3.5/site-packages/sklearn/neighbors/base.py:211: UserWarning: cannot use tree with sparse input: using brute force\n",
      "  warnings.warn(\"cannot use tree with sparse input: \"\n"
     ]
    },
    {
     "name": "stdout",
     "output_type": "stream",
     "text": [
      "[CV]  nbc__algorithm=ball_tree, vect__use_idf=False, nbc__weights=distance, vect__ngram_range=(1, 1), vect__tokenizer=<function stemming_tokenizer at 0x7fbdd16a0158>, score=0.875000, total=   0.3s\n",
      "[CV] nbc__algorithm=ball_tree, vect__use_idf=False, nbc__weights=distance, vect__ngram_range=(1, 1), vect__tokenizer=<function stemming_tokenizer at 0x7fbdd16a0158> \n"
     ]
    },
    {
     "name": "stderr",
     "output_type": "stream",
     "text": [
      "/home/siddhant/python/anaconda3/lib/python3.5/site-packages/sklearn/neighbors/base.py:211: UserWarning: cannot use tree with sparse input: using brute force\n",
      "  warnings.warn(\"cannot use tree with sparse input: \"\n",
      "/home/siddhant/python/anaconda3/lib/python3.5/site-packages/sklearn/neighbors/base.py:211: UserWarning: cannot use tree with sparse input: using brute force\n",
      "  warnings.warn(\"cannot use tree with sparse input: \"\n"
     ]
    },
    {
     "name": "stdout",
     "output_type": "stream",
     "text": [
      "[CV]  nbc__algorithm=ball_tree, vect__use_idf=False, nbc__weights=distance, vect__ngram_range=(1, 1), vect__tokenizer=<function stemming_tokenizer at 0x7fbdd16a0158>, score=0.708333, total=   0.4s\n",
      "[CV] nbc__algorithm=ball_tree, vect__use_idf=False, nbc__weights=distance, vect__ngram_range=(1, 1), vect__tokenizer=<function stemming_tokenizer at 0x7fbdd16a0158> \n",
      "[CV]  nbc__algorithm=ball_tree, vect__use_idf=False, nbc__weights=distance, vect__ngram_range=(1, 1), vect__tokenizer=<function stemming_tokenizer at 0x7fbdd16a0158>, score=0.846591, total=   0.4s\n",
      "[CV] nbc__algorithm=ball_tree, vect__use_idf=False, nbc__weights=distance, vect__ngram_range=(1, 1), vect__tokenizer=<function stemming_tokenizer at 0x7fbdd16a0158> \n"
     ]
    },
    {
     "name": "stderr",
     "output_type": "stream",
     "text": [
      "/home/siddhant/python/anaconda3/lib/python3.5/site-packages/sklearn/neighbors/base.py:211: UserWarning: cannot use tree with sparse input: using brute force\n",
      "  warnings.warn(\"cannot use tree with sparse input: \"\n"
     ]
    },
    {
     "name": "stdout",
     "output_type": "stream",
     "text": [
      "[CV]  nbc__algorithm=ball_tree, vect__use_idf=False, nbc__weights=distance, vect__ngram_range=(1, 1), vect__tokenizer=<function stemming_tokenizer at 0x7fbdd16a0158>, score=1.000000, total=   0.3s\n",
      "[CV] nbc__algorithm=ball_tree, vect__use_idf=False, nbc__weights=distance, vect__ngram_range=(1, 1), vect__tokenizer=<function stemming_tokenizer at 0x7fbdd16a0158> \n",
      "[CV]  nbc__algorithm=ball_tree, vect__use_idf=False, nbc__weights=distance, vect__ngram_range=(1, 1), vect__tokenizer=<function stemming_tokenizer at 0x7fbdd16a0158>, score=0.875000, total=   0.5s\n",
      "[CV] nbc__algorithm=ball_tree, vect__use_idf=True, nbc__weights=distance, vect__ngram_range=(1, 1), vect__tokenizer=<function stemming_tokenizer_no_stop_words at 0x7fbdd16a01e0> \n"
     ]
    },
    {
     "name": "stderr",
     "output_type": "stream",
     "text": [
      "/home/siddhant/python/anaconda3/lib/python3.5/site-packages/sklearn/neighbors/base.py:211: UserWarning: cannot use tree with sparse input: using brute force\n",
      "  warnings.warn(\"cannot use tree with sparse input: \"\n",
      "/home/siddhant/python/anaconda3/lib/python3.5/site-packages/sklearn/neighbors/base.py:211: UserWarning: cannot use tree with sparse input: using brute force\n",
      "  warnings.warn(\"cannot use tree with sparse input: \"\n",
      "/home/siddhant/python/anaconda3/lib/python3.5/site-packages/sklearn/neighbors/base.py:211: UserWarning: cannot use tree with sparse input: using brute force\n",
      "  warnings.warn(\"cannot use tree with sparse input: \"\n",
      "/home/siddhant/python/anaconda3/lib/python3.5/site-packages/sklearn/neighbors/base.py:211: UserWarning: cannot use tree with sparse input: using brute force\n",
      "  warnings.warn(\"cannot use tree with sparse input: \"\n"
     ]
    },
    {
     "name": "stdout",
     "output_type": "stream",
     "text": [
      "[CV]  nbc__algorithm=ball_tree, vect__use_idf=False, nbc__weights=distance, vect__ngram_range=(1, 1), vect__tokenizer=<function stemming_tokenizer at 0x7fbdd16a0158>, score=0.958333, total=   0.3s\n",
      "[CV] nbc__algorithm=ball_tree, vect__use_idf=True, nbc__weights=distance, vect__ngram_range=(1, 1), vect__tokenizer=<function stemming_tokenizer_no_stop_words at 0x7fbdd16a01e0> \n",
      "[CV]  nbc__algorithm=ball_tree, vect__use_idf=False, nbc__weights=distance, vect__ngram_range=(1, 1), vect__tokenizer=<function stemming_tokenizer at 0x7fbdd16a0158>, score=0.961538, total=   0.5s\n",
      "[CV] nbc__algorithm=ball_tree, vect__use_idf=True, nbc__weights=distance, vect__ngram_range=(1, 1), vect__tokenizer=<function stemming_tokenizer_no_stop_words at 0x7fbdd16a01e0> \n"
     ]
    },
    {
     "name": "stderr",
     "output_type": "stream",
     "text": [
      "/home/siddhant/python/anaconda3/lib/python3.5/site-packages/sklearn/neighbors/base.py:211: UserWarning: cannot use tree with sparse input: using brute force\n",
      "  warnings.warn(\"cannot use tree with sparse input: \"\n"
     ]
    },
    {
     "name": "stdout",
     "output_type": "stream",
     "text": [
      "[CV]  nbc__algorithm=ball_tree, vect__use_idf=True, nbc__weights=distance, vect__ngram_range=(1, 1), vect__tokenizer=<function stemming_tokenizer_no_stop_words at 0x7fbdd16a01e0>, score=0.876154, total=   0.3s\n",
      "[CV] nbc__algorithm=ball_tree, vect__use_idf=True, nbc__weights=distance, vect__ngram_range=(1, 1), vect__tokenizer=<function stemming_tokenizer_no_stop_words at 0x7fbdd16a01e0> \n",
      "[CV]  nbc__algorithm=ball_tree, vect__use_idf=False, nbc__weights=distance, vect__ngram_range=(1, 1), vect__tokenizer=<function stemming_tokenizer at 0x7fbdd16a0158>, score=0.816667, total=   0.3s\n",
      "[CV] nbc__algorithm=ball_tree, vect__use_idf=True, nbc__weights=distance, vect__ngram_range=(1, 1), vect__tokenizer=<function stemming_tokenizer_no_stop_words at 0x7fbdd16a01e0> \n"
     ]
    },
    {
     "name": "stderr",
     "output_type": "stream",
     "text": [
      "/home/siddhant/python/anaconda3/lib/python3.5/site-packages/sklearn/neighbors/base.py:211: UserWarning: cannot use tree with sparse input: using brute force\n",
      "  warnings.warn(\"cannot use tree with sparse input: \"\n",
      "/home/siddhant/python/anaconda3/lib/python3.5/site-packages/sklearn/neighbors/base.py:211: UserWarning: cannot use tree with sparse input: using brute force\n",
      "  warnings.warn(\"cannot use tree with sparse input: \"\n"
     ]
    },
    {
     "name": "stdout",
     "output_type": "stream",
     "text": [
      "[CV]  nbc__algorithm=ball_tree, vect__use_idf=True, nbc__weights=distance, vect__ngram_range=(1, 1), vect__tokenizer=<function stemming_tokenizer_no_stop_words at 0x7fbdd16a01e0>, score=0.829744, total=   0.2s\n",
      "[CV] nbc__algorithm=ball_tree, vect__use_idf=True, nbc__weights=distance, vect__ngram_range=(1, 1), vect__tokenizer=<function stemming_tokenizer_no_stop_words at 0x7fbdd16a01e0> \n"
     ]
    },
    {
     "name": "stderr",
     "output_type": "stream",
     "text": [
      "/home/siddhant/python/anaconda3/lib/python3.5/site-packages/sklearn/neighbors/base.py:211: UserWarning: cannot use tree with sparse input: using brute force\n",
      "  warnings.warn(\"cannot use tree with sparse input: \"\n"
     ]
    },
    {
     "name": "stdout",
     "output_type": "stream",
     "text": [
      "[CV]  nbc__algorithm=ball_tree, vect__use_idf=True, nbc__weights=distance, vect__ngram_range=(1, 1), vect__tokenizer=<function stemming_tokenizer_no_stop_words at 0x7fbdd16a01e0>, score=0.958333, total=   0.3s\n",
      "[CV] nbc__algorithm=ball_tree, vect__use_idf=True, nbc__weights=distance, vect__ngram_range=(1, 1), vect__tokenizer=<function stemming_tokenizer_no_stop_words at 0x7fbdd16a01e0> \n",
      "[CV]  nbc__algorithm=ball_tree, vect__use_idf=True, nbc__weights=distance, vect__ngram_range=(1, 1), vect__tokenizer=<function stemming_tokenizer_no_stop_words at 0x7fbdd16a01e0>, score=0.912879, total=   0.3s\n",
      "[CV] nbc__algorithm=ball_tree, vect__use_idf=True, nbc__weights=distance, vect__ngram_range=(1, 1), vect__tokenizer=<function stemming_tokenizer_no_stop_words at 0x7fbdd16a01e0> \n"
     ]
    },
    {
     "name": "stderr",
     "output_type": "stream",
     "text": [
      "/home/siddhant/python/anaconda3/lib/python3.5/site-packages/sklearn/neighbors/base.py:211: UserWarning: cannot use tree with sparse input: using brute force\n",
      "  warnings.warn(\"cannot use tree with sparse input: \"\n"
     ]
    },
    {
     "name": "stdout",
     "output_type": "stream",
     "text": [
      "[CV]  nbc__algorithm=ball_tree, vect__use_idf=True, nbc__weights=distance, vect__ngram_range=(1, 1), vect__tokenizer=<function stemming_tokenizer_no_stop_words at 0x7fbdd16a01e0>, score=0.833333, total=   0.4s\n",
      "[CV] nbc__algorithm=ball_tree, vect__use_idf=True, nbc__weights=distance, vect__ngram_range=(1, 1), vect__tokenizer=<function stemming_tokenizer_no_stop_words at 0x7fbdd16a01e0> \n"
     ]
    },
    {
     "name": "stderr",
     "output_type": "stream",
     "text": [
      "/home/siddhant/python/anaconda3/lib/python3.5/site-packages/sklearn/neighbors/base.py:211: UserWarning: cannot use tree with sparse input: using brute force\n",
      "  warnings.warn(\"cannot use tree with sparse input: \"\n",
      "/home/siddhant/python/anaconda3/lib/python3.5/site-packages/sklearn/neighbors/base.py:211: UserWarning: cannot use tree with sparse input: using brute force\n",
      "  warnings.warn(\"cannot use tree with sparse input: \"\n",
      "[Parallel(n_jobs=-1)]: Done 105 tasks      | elapsed:   18.2s\n",
      "/home/siddhant/python/anaconda3/lib/python3.5/site-packages/sklearn/neighbors/base.py:211: UserWarning: cannot use tree with sparse input: using brute force\n",
      "  warnings.warn(\"cannot use tree with sparse input: \"\n"
     ]
    },
    {
     "name": "stdout",
     "output_type": "stream",
     "text": [
      "[CV]  nbc__algorithm=ball_tree, vect__use_idf=True, nbc__weights=distance, vect__ngram_range=(1, 1), vect__tokenizer=<function stemming_tokenizer_no_stop_words at 0x7fbdd16a01e0>, score=0.958333, total=   0.4s\n",
      "[CV] nbc__algorithm=ball_tree, vect__use_idf=True, nbc__weights=distance, vect__ngram_range=(1, 1), vect__tokenizer=<function stemming_tokenizer_no_stop_words at 0x7fbdd16a01e0> \n",
      "[CV]  nbc__algorithm=ball_tree, vect__use_idf=True, nbc__weights=distance, vect__ngram_range=(1, 1), vect__tokenizer=<function stemming_tokenizer_no_stop_words at 0x7fbdd16a01e0>, score=0.937500, total=   0.3s\n",
      "[CV] nbc__algorithm=ball_tree, vect__use_idf=False, nbc__weights=distance, vect__ngram_range=(1, 1), vect__tokenizer=<function stemming_tokenizer_no_stop_words at 0x7fbdd16a01e0> \n",
      "[CV]  nbc__algorithm=ball_tree, vect__use_idf=True, nbc__weights=distance, vect__ngram_range=(1, 1), vect__tokenizer=<function stemming_tokenizer_no_stop_words at 0x7fbdd16a01e0>, score=1.000000, total=   0.3s\n",
      "[CV] nbc__algorithm=ball_tree, vect__use_idf=False, nbc__weights=distance, vect__ngram_range=(1, 1), vect__tokenizer=<function stemming_tokenizer_no_stop_words at 0x7fbdd16a01e0> \n",
      "[CV]  nbc__algorithm=ball_tree, vect__use_idf=True, nbc__weights=distance, vect__ngram_range=(1, 1), vect__tokenizer=<function stemming_tokenizer_no_stop_words at 0x7fbdd16a01e0>, score=0.979167, total=   0.4s\n"
     ]
    },
    {
     "name": "stderr",
     "output_type": "stream",
     "text": [
      "/home/siddhant/python/anaconda3/lib/python3.5/site-packages/sklearn/neighbors/base.py:211: UserWarning: cannot use tree with sparse input: using brute force\n",
      "  warnings.warn(\"cannot use tree with sparse input: \"\n"
     ]
    },
    {
     "name": "stdout",
     "output_type": "stream",
     "text": [
      "[CV] nbc__algorithm=ball_tree, vect__use_idf=False, nbc__weights=distance, vect__ngram_range=(1, 1), vect__tokenizer=<function stemming_tokenizer_no_stop_words at 0x7fbdd16a01e0> \n"
     ]
    },
    {
     "name": "stderr",
     "output_type": "stream",
     "text": [
      "/home/siddhant/python/anaconda3/lib/python3.5/site-packages/sklearn/neighbors/base.py:211: UserWarning: cannot use tree with sparse input: using brute force\n",
      "  warnings.warn(\"cannot use tree with sparse input: \"\n",
      "/home/siddhant/python/anaconda3/lib/python3.5/site-packages/sklearn/neighbors/base.py:211: UserWarning: cannot use tree with sparse input: using brute force\n",
      "  warnings.warn(\"cannot use tree with sparse input: \"\n",
      "/home/siddhant/python/anaconda3/lib/python3.5/site-packages/sklearn/neighbors/base.py:211: UserWarning: cannot use tree with sparse input: using brute force\n",
      "  warnings.warn(\"cannot use tree with sparse input: \"\n"
     ]
    },
    {
     "name": "stdout",
     "output_type": "stream",
     "text": [
      "[CV]  nbc__algorithm=ball_tree, vect__use_idf=True, nbc__weights=distance, vect__ngram_range=(1, 1), vect__tokenizer=<function stemming_tokenizer_no_stop_words at 0x7fbdd16a01e0>, score=0.887500, total=   0.4s\n",
      "[CV] nbc__algorithm=ball_tree, vect__use_idf=False, nbc__weights=distance, vect__ngram_range=(1, 1), vect__tokenizer=<function stemming_tokenizer_no_stop_words at 0x7fbdd16a01e0> \n",
      "[CV]  nbc__algorithm=ball_tree, vect__use_idf=False, nbc__weights=distance, vect__ngram_range=(1, 1), vect__tokenizer=<function stemming_tokenizer_no_stop_words at 0x7fbdd16a01e0>, score=0.856538, total=   0.3s\n",
      "[CV] nbc__algorithm=ball_tree, vect__use_idf=False, nbc__weights=distance, vect__ngram_range=(1, 1), vect__tokenizer=<function stemming_tokenizer_no_stop_words at 0x7fbdd16a01e0> \n",
      "[CV]  nbc__algorithm=ball_tree, vect__use_idf=False, nbc__weights=distance, vect__ngram_range=(1, 1), vect__tokenizer=<function stemming_tokenizer_no_stop_words at 0x7fbdd16a01e0>, score=0.958333, total=   0.3s\n",
      "[CV] nbc__algorithm=ball_tree, vect__use_idf=False, nbc__weights=distance, vect__ngram_range=(1, 1), vect__tokenizer=<function stemming_tokenizer_no_stop_words at 0x7fbdd16a01e0> \n",
      "[CV]  nbc__algorithm=ball_tree, vect__use_idf=False, nbc__weights=distance, vect__ngram_range=(1, 1), vect__tokenizer=<function stemming_tokenizer_no_stop_words at 0x7fbdd16a01e0>, score=0.921410, total=   0.5s\n"
     ]
    },
    {
     "name": "stderr",
     "output_type": "stream",
     "text": [
      "/home/siddhant/python/anaconda3/lib/python3.5/site-packages/sklearn/neighbors/base.py:211: UserWarning: cannot use tree with sparse input: using brute force\n",
      "  warnings.warn(\"cannot use tree with sparse input: \"\n"
     ]
    },
    {
     "name": "stdout",
     "output_type": "stream",
     "text": [
      "[CV] nbc__algorithm=ball_tree, vect__use_idf=False, nbc__weights=distance, vect__ngram_range=(1, 1), vect__tokenizer=<function stemming_tokenizer_no_stop_words at 0x7fbdd16a01e0> \n"
     ]
    },
    {
     "name": "stderr",
     "output_type": "stream",
     "text": [
      "/home/siddhant/python/anaconda3/lib/python3.5/site-packages/sklearn/neighbors/base.py:211: UserWarning: cannot use tree with sparse input: using brute force\n",
      "  warnings.warn(\"cannot use tree with sparse input: \"\n",
      "/home/siddhant/python/anaconda3/lib/python3.5/site-packages/sklearn/neighbors/base.py:211: UserWarning: cannot use tree with sparse input: using brute force\n",
      "  warnings.warn(\"cannot use tree with sparse input: \"\n",
      "/home/siddhant/python/anaconda3/lib/python3.5/site-packages/sklearn/neighbors/base.py:211: UserWarning: cannot use tree with sparse input: using brute force\n",
      "  warnings.warn(\"cannot use tree with sparse input: \"\n"
     ]
    },
    {
     "name": "stdout",
     "output_type": "stream",
     "text": [
      "[CV]  nbc__algorithm=ball_tree, vect__use_idf=False, nbc__weights=distance, vect__ngram_range=(1, 1), vect__tokenizer=<function stemming_tokenizer_no_stop_words at 0x7fbdd16a01e0>, score=0.750000, total=   0.3s\n",
      "[CV] nbc__algorithm=ball_tree, vect__use_idf=False, nbc__weights=distance, vect__ngram_range=(1, 1), vect__tokenizer=<function stemming_tokenizer_no_stop_words at 0x7fbdd16a01e0> \n",
      "[CV]  nbc__algorithm=ball_tree, vect__use_idf=False, nbc__weights=distance, vect__ngram_range=(1, 1), vect__tokenizer=<function stemming_tokenizer_no_stop_words at 0x7fbdd16a01e0>, score=0.979167, total=   0.3s\n",
      "[CV]  nbc__algorithm=ball_tree, vect__use_idf=False, nbc__weights=distance, vect__ngram_range=(1, 1), vect__tokenizer=<function stemming_tokenizer_no_stop_words at 0x7fbdd16a01e0>, score=1.000000, total=   0.3s\n",
      "[CV] nbc__algorithm=ball_tree, vect__use_idf=False, nbc__weights=distance, vect__ngram_range=(1, 1), vect__tokenizer=<function stemming_tokenizer_no_stop_words at 0x7fbdd16a01e0> \n",
      "[CV] nbc__algorithm=ball_tree, vect__use_idf=False, nbc__weights=distance, vect__ngram_range=(1, 1), vect__tokenizer=<function stemming_tokenizer_no_stop_words at 0x7fbdd16a01e0> \n",
      "[CV]  nbc__algorithm=ball_tree, vect__use_idf=False, nbc__weights=distance, vect__ngram_range=(1, 1), vect__tokenizer=<function stemming_tokenizer_no_stop_words at 0x7fbdd16a01e0>, score=0.979167, total=   0.4s\n"
     ]
    },
    {
     "name": "stderr",
     "output_type": "stream",
     "text": [
      "/home/siddhant/python/anaconda3/lib/python3.5/site-packages/sklearn/neighbors/base.py:211: UserWarning: cannot use tree with sparse input: using brute force\n",
      "  warnings.warn(\"cannot use tree with sparse input: \"\n"
     ]
    },
    {
     "name": "stdout",
     "output_type": "stream",
     "text": [
      "[CV] nbc__algorithm=ball_tree, vect__use_idf=True, nbc__weights=distance, vect__ngram_range=(1, 3), vect__tokenizer=<function stemming_tokenizer at 0x7fbdd16a0158> \n"
     ]
    },
    {
     "name": "stderr",
     "output_type": "stream",
     "text": [
      "/home/siddhant/python/anaconda3/lib/python3.5/site-packages/sklearn/neighbors/base.py:211: UserWarning: cannot use tree with sparse input: using brute force\n",
      "  warnings.warn(\"cannot use tree with sparse input: \"\n",
      "/home/siddhant/python/anaconda3/lib/python3.5/site-packages/sklearn/neighbors/base.py:211: UserWarning: cannot use tree with sparse input: using brute force\n",
      "  warnings.warn(\"cannot use tree with sparse input: \"\n"
     ]
    },
    {
     "name": "stdout",
     "output_type": "stream",
     "text": [
      "[CV]  nbc__algorithm=ball_tree, vect__use_idf=False, nbc__weights=distance, vect__ngram_range=(1, 1), vect__tokenizer=<function stemming_tokenizer_no_stop_words at 0x7fbdd16a01e0>, score=0.902244, total=   0.3s\n",
      "[CV] nbc__algorithm=ball_tree, vect__use_idf=True, nbc__weights=distance, vect__ngram_range=(1, 3), vect__tokenizer=<function stemming_tokenizer at 0x7fbdd16a0158> \n",
      "[CV]  nbc__algorithm=ball_tree, vect__use_idf=False, nbc__weights=distance, vect__ngram_range=(1, 1), vect__tokenizer=<function stemming_tokenizer_no_stop_words at 0x7fbdd16a01e0>, score=1.000000, total=   0.3s\n"
     ]
    },
    {
     "name": "stderr",
     "output_type": "stream",
     "text": [
      "/home/siddhant/python/anaconda3/lib/python3.5/site-packages/sklearn/neighbors/base.py:211: UserWarning: cannot use tree with sparse input: using brute force\n",
      "  warnings.warn(\"cannot use tree with sparse input: \"\n"
     ]
    },
    {
     "name": "stdout",
     "output_type": "stream",
     "text": [
      "[CV] nbc__algorithm=ball_tree, vect__use_idf=True, nbc__weights=distance, vect__ngram_range=(1, 3), vect__tokenizer=<function stemming_tokenizer at 0x7fbdd16a0158> \n",
      "[CV]  nbc__algorithm=ball_tree, vect__use_idf=False, nbc__weights=distance, vect__ngram_range=(1, 1), vect__tokenizer=<function stemming_tokenizer_no_stop_words at 0x7fbdd16a01e0>, score=0.916667, total=   0.4s\n",
      "[CV] nbc__algorithm=ball_tree, vect__use_idf=True, nbc__weights=distance, vect__ngram_range=(1, 3), vect__tokenizer=<function stemming_tokenizer at 0x7fbdd16a0158> \n"
     ]
    },
    {
     "name": "stderr",
     "output_type": "stream",
     "text": [
      "/home/siddhant/python/anaconda3/lib/python3.5/site-packages/sklearn/neighbors/base.py:211: UserWarning: cannot use tree with sparse input: using brute force\n",
      "  warnings.warn(\"cannot use tree with sparse input: \"\n",
      "[Parallel(n_jobs=-1)]: Done 120 tasks      | elapsed:   20.8s\n"
     ]
    },
    {
     "name": "stdout",
     "output_type": "stream",
     "text": [
      "[CV]  nbc__algorithm=ball_tree, vect__use_idf=True, nbc__weights=distance, vect__ngram_range=(1, 3), vect__tokenizer=<function stemming_tokenizer at 0x7fbdd16a0158>, score=0.944615, total=   0.5s\n",
      "[CV] nbc__algorithm=ball_tree, vect__use_idf=True, nbc__weights=distance, vect__ngram_range=(1, 3), vect__tokenizer=<function stemming_tokenizer at 0x7fbdd16a0158> \n"
     ]
    },
    {
     "name": "stderr",
     "output_type": "stream",
     "text": [
      "/home/siddhant/python/anaconda3/lib/python3.5/site-packages/sklearn/neighbors/base.py:211: UserWarning: cannot use tree with sparse input: using brute force\n",
      "  warnings.warn(\"cannot use tree with sparse input: \"\n"
     ]
    },
    {
     "name": "stdout",
     "output_type": "stream",
     "text": [
      "[CV]  nbc__algorithm=ball_tree, vect__use_idf=True, nbc__weights=distance, vect__ngram_range=(1, 3), vect__tokenizer=<function stemming_tokenizer at 0x7fbdd16a0158>, score=0.882353, total=   0.3s\n",
      "[CV] nbc__algorithm=ball_tree, vect__use_idf=True, nbc__weights=distance, vect__ngram_range=(1, 3), vect__tokenizer=<function stemming_tokenizer at 0x7fbdd16a0158> \n"
     ]
    },
    {
     "name": "stderr",
     "output_type": "stream",
     "text": [
      "/home/siddhant/python/anaconda3/lib/python3.5/site-packages/sklearn/neighbors/base.py:211: UserWarning: cannot use tree with sparse input: using brute force\n",
      "  warnings.warn(\"cannot use tree with sparse input: \"\n",
      "/home/siddhant/python/anaconda3/lib/python3.5/site-packages/sklearn/neighbors/base.py:211: UserWarning: cannot use tree with sparse input: using brute force\n",
      "  warnings.warn(\"cannot use tree with sparse input: \"\n"
     ]
    },
    {
     "name": "stdout",
     "output_type": "stream",
     "text": [
      "[CV]  nbc__algorithm=ball_tree, vect__use_idf=True, nbc__weights=distance, vect__ngram_range=(1, 3), vect__tokenizer=<function stemming_tokenizer at 0x7fbdd16a0158>, score=0.666667, total=   0.3s\n",
      "[CV] nbc__algorithm=ball_tree, vect__use_idf=True, nbc__weights=distance, vect__ngram_range=(1, 3), vect__tokenizer=<function stemming_tokenizer at 0x7fbdd16a0158> \n"
     ]
    },
    {
     "name": "stderr",
     "output_type": "stream",
     "text": [
      "/home/siddhant/python/anaconda3/lib/python3.5/site-packages/sklearn/neighbors/base.py:211: UserWarning: cannot use tree with sparse input: using brute force\n",
      "  warnings.warn(\"cannot use tree with sparse input: \"\n"
     ]
    },
    {
     "name": "stdout",
     "output_type": "stream",
     "text": [
      "[CV]  nbc__algorithm=ball_tree, vect__use_idf=True, nbc__weights=distance, vect__ngram_range=(1, 3), vect__tokenizer=<function stemming_tokenizer at 0x7fbdd16a0158>, score=0.861111, total=   0.5s\n",
      "[CV] nbc__algorithm=ball_tree, vect__use_idf=True, nbc__weights=distance, vect__ngram_range=(1, 3), vect__tokenizer=<function stemming_tokenizer at 0x7fbdd16a0158> \n"
     ]
    },
    {
     "name": "stderr",
     "output_type": "stream",
     "text": [
      "/home/siddhant/python/anaconda3/lib/python3.5/site-packages/sklearn/neighbors/base.py:211: UserWarning: cannot use tree with sparse input: using brute force\n",
      "  warnings.warn(\"cannot use tree with sparse input: \"\n",
      "/home/siddhant/python/anaconda3/lib/python3.5/site-packages/sklearn/neighbors/base.py:211: UserWarning: cannot use tree with sparse input: using brute force\n",
      "  warnings.warn(\"cannot use tree with sparse input: \"\n"
     ]
    },
    {
     "name": "stdout",
     "output_type": "stream",
     "text": [
      "[CV]  nbc__algorithm=ball_tree, vect__use_idf=True, nbc__weights=distance, vect__ngram_range=(1, 3), vect__tokenizer=<function stemming_tokenizer at 0x7fbdd16a0158>, score=0.902244, total=   0.3s\n",
      "[CV]  nbc__algorithm=ball_tree, vect__use_idf=True, nbc__weights=distance, vect__ngram_range=(1, 3), vect__tokenizer=<function stemming_tokenizer at 0x7fbdd16a0158>, score=0.780303, total=   0.4s\n",
      "[CV] nbc__algorithm=ball_tree, vect__use_idf=True, nbc__weights=distance, vect__ngram_range=(1, 3), vect__tokenizer=<function stemming_tokenizer at 0x7fbdd16a0158> \n",
      "[CV] nbc__algorithm=ball_tree, vect__use_idf=True, nbc__weights=distance, vect__ngram_range=(1, 3), vect__tokenizer=<function stemming_tokenizer at 0x7fbdd16a0158> \n",
      "[CV]  nbc__algorithm=ball_tree, vect__use_idf=True, nbc__weights=distance, vect__ngram_range=(1, 3), vect__tokenizer=<function stemming_tokenizer at 0x7fbdd16a0158>, score=0.937500, total=   0.3s\n",
      "[CV] nbc__algorithm=ball_tree, vect__use_idf=False, nbc__weights=distance, vect__ngram_range=(1, 3), vect__tokenizer=<function stemming_tokenizer at 0x7fbdd16a0158> \n"
     ]
    },
    {
     "name": "stderr",
     "output_type": "stream",
     "text": [
      "/home/siddhant/python/anaconda3/lib/python3.5/site-packages/sklearn/neighbors/base.py:211: UserWarning: cannot use tree with sparse input: using brute force\n",
      "  warnings.warn(\"cannot use tree with sparse input: \"\n"
     ]
    },
    {
     "name": "stdout",
     "output_type": "stream",
     "text": [
      "[CV]  nbc__algorithm=ball_tree, vect__use_idf=True, nbc__weights=distance, vect__ngram_range=(1, 3), vect__tokenizer=<function stemming_tokenizer at 0x7fbdd16a0158>, score=0.937500, total=   0.3s\n"
     ]
    },
    {
     "name": "stderr",
     "output_type": "stream",
     "text": [
      "/home/siddhant/python/anaconda3/lib/python3.5/site-packages/sklearn/neighbors/base.py:211: UserWarning: cannot use tree with sparse input: using brute force\n",
      "  warnings.warn(\"cannot use tree with sparse input: \"\n"
     ]
    },
    {
     "name": "stdout",
     "output_type": "stream",
     "text": [
      "[CV] nbc__algorithm=ball_tree, vect__use_idf=False, nbc__weights=distance, vect__ngram_range=(1, 3), vect__tokenizer=<function stemming_tokenizer at 0x7fbdd16a0158> \n"
     ]
    },
    {
     "name": "stderr",
     "output_type": "stream",
     "text": [
      "/home/siddhant/python/anaconda3/lib/python3.5/site-packages/sklearn/neighbors/base.py:211: UserWarning: cannot use tree with sparse input: using brute force\n",
      "  warnings.warn(\"cannot use tree with sparse input: \"\n"
     ]
    },
    {
     "name": "stdout",
     "output_type": "stream",
     "text": [
      "[CV]  nbc__algorithm=ball_tree, vect__use_idf=True, nbc__weights=distance, vect__ngram_range=(1, 3), vect__tokenizer=<function stemming_tokenizer at 0x7fbdd16a0158>, score=0.979167, total=   0.3s\n",
      "[CV] nbc__algorithm=ball_tree, vect__use_idf=False, nbc__weights=distance, vect__ngram_range=(1, 3), vect__tokenizer=<function stemming_tokenizer at 0x7fbdd16a0158> \n",
      "[CV]  nbc__algorithm=ball_tree, vect__use_idf=False, nbc__weights=distance, vect__ngram_range=(1, 3), vect__tokenizer=<function stemming_tokenizer at 0x7fbdd16a0158>, score=0.944615, total=   0.3s\n",
      "[CV] nbc__algorithm=ball_tree, vect__use_idf=False, nbc__weights=distance, vect__ngram_range=(1, 3), vect__tokenizer=<function stemming_tokenizer at 0x7fbdd16a0158> \n",
      "[CV]  nbc__algorithm=ball_tree, vect__use_idf=True, nbc__weights=distance, vect__ngram_range=(1, 3), vect__tokenizer=<function stemming_tokenizer at 0x7fbdd16a0158>, score=0.784722, total=   0.3s\n",
      "[CV] nbc__algorithm=ball_tree, vect__use_idf=False, nbc__weights=distance, vect__ngram_range=(1, 3), vect__tokenizer=<function stemming_tokenizer at 0x7fbdd16a0158> \n"
     ]
    },
    {
     "name": "stderr",
     "output_type": "stream",
     "text": [
      "/home/siddhant/python/anaconda3/lib/python3.5/site-packages/sklearn/neighbors/base.py:211: UserWarning: cannot use tree with sparse input: using brute force\n",
      "  warnings.warn(\"cannot use tree with sparse input: \"\n",
      "/home/siddhant/python/anaconda3/lib/python3.5/site-packages/sklearn/neighbors/base.py:211: UserWarning: cannot use tree with sparse input: using brute force\n",
      "  warnings.warn(\"cannot use tree with sparse input: \"\n",
      "/home/siddhant/python/anaconda3/lib/python3.5/site-packages/sklearn/neighbors/base.py:211: UserWarning: cannot use tree with sparse input: using brute force\n",
      "  warnings.warn(\"cannot use tree with sparse input: \"\n"
     ]
    },
    {
     "name": "stdout",
     "output_type": "stream",
     "text": [
      "[CV]  nbc__algorithm=ball_tree, vect__use_idf=False, nbc__weights=distance, vect__ngram_range=(1, 3), vect__tokenizer=<function stemming_tokenizer at 0x7fbdd16a0158>, score=0.882353, total=   0.6s\n",
      "[CV] nbc__algorithm=ball_tree, vect__use_idf=False, nbc__weights=distance, vect__ngram_range=(1, 3), vect__tokenizer=<function stemming_tokenizer at 0x7fbdd16a0158> \n"
     ]
    },
    {
     "name": "stderr",
     "output_type": "stream",
     "text": [
      "/home/siddhant/python/anaconda3/lib/python3.5/site-packages/sklearn/neighbors/base.py:211: UserWarning: cannot use tree with sparse input: using brute force\n",
      "  warnings.warn(\"cannot use tree with sparse input: \"\n"
     ]
    },
    {
     "name": "stdout",
     "output_type": "stream",
     "text": [
      "[CV]  nbc__algorithm=ball_tree, vect__use_idf=False, nbc__weights=distance, vect__ngram_range=(1, 3), vect__tokenizer=<function stemming_tokenizer at 0x7fbdd16a0158>, score=0.887500, total=   0.3s\n",
      "[CV] nbc__algorithm=ball_tree, vect__use_idf=False, nbc__weights=distance, vect__ngram_range=(1, 3), vect__tokenizer=<function stemming_tokenizer at 0x7fbdd16a0158> \n",
      "[CV]  nbc__algorithm=ball_tree, vect__use_idf=False, nbc__weights=distance, vect__ngram_range=(1, 3), vect__tokenizer=<function stemming_tokenizer at 0x7fbdd16a0158>, score=0.846591, total=   0.3s\n",
      "[CV]  nbc__algorithm=ball_tree, vect__use_idf=False, nbc__weights=distance, vect__ngram_range=(1, 3), vect__tokenizer=<function stemming_tokenizer at 0x7fbdd16a0158>, score=0.708333, total=   0.4s\n",
      "[CV] nbc__algorithm=ball_tree, vect__use_idf=False, nbc__weights=distance, vect__ngram_range=(1, 3), vect__tokenizer=<function stemming_tokenizer at 0x7fbdd16a0158> \n",
      "[CV] nbc__algorithm=ball_tree, vect__use_idf=False, nbc__weights=distance, vect__ngram_range=(1, 3), vect__tokenizer=<function stemming_tokenizer at 0x7fbdd16a0158> \n"
     ]
    },
    {
     "name": "stderr",
     "output_type": "stream",
     "text": [
      "/home/siddhant/python/anaconda3/lib/python3.5/site-packages/sklearn/neighbors/base.py:211: UserWarning: cannot use tree with sparse input: using brute force\n",
      "  warnings.warn(\"cannot use tree with sparse input: \"\n",
      "/home/siddhant/python/anaconda3/lib/python3.5/site-packages/sklearn/neighbors/base.py:211: UserWarning: cannot use tree with sparse input: using brute force\n",
      "  warnings.warn(\"cannot use tree with sparse input: \"\n",
      "/home/siddhant/python/anaconda3/lib/python3.5/site-packages/sklearn/neighbors/base.py:211: UserWarning: cannot use tree with sparse input: using brute force\n",
      "  warnings.warn(\"cannot use tree with sparse input: \"\n",
      "/home/siddhant/python/anaconda3/lib/python3.5/site-packages/sklearn/neighbors/base.py:211: UserWarning: cannot use tree with sparse input: using brute force\n",
      "  warnings.warn(\"cannot use tree with sparse input: \"\n"
     ]
    },
    {
     "name": "stdout",
     "output_type": "stream",
     "text": [
      "[CV]  nbc__algorithm=ball_tree, vect__use_idf=False, nbc__weights=distance, vect__ngram_range=(1, 3), vect__tokenizer=<function stemming_tokenizer at 0x7fbdd16a0158>, score=0.902244, total=   0.4s\n",
      "[CV] nbc__algorithm=ball_tree, vect__use_idf=False, nbc__weights=distance, vect__ngram_range=(1, 3), vect__tokenizer=<function stemming_tokenizer at 0x7fbdd16a0158> \n",
      "[CV]  nbc__algorithm=ball_tree, vect__use_idf=False, nbc__weights=distance, vect__ngram_range=(1, 3), vect__tokenizer=<function stemming_tokenizer at 0x7fbdd16a0158>, score=0.958333, total=   0.3s\n",
      "[CV] nbc__algorithm=ball_tree, vect__use_idf=True, nbc__weights=distance, vect__ngram_range=(1, 3), vect__tokenizer=<function stemming_tokenizer_no_stop_words at 0x7fbdd16a01e0> \n"
     ]
    },
    {
     "name": "stderr",
     "output_type": "stream",
     "text": [
      "/home/siddhant/python/anaconda3/lib/python3.5/site-packages/sklearn/neighbors/base.py:211: UserWarning: cannot use tree with sparse input: using brute force\n",
      "  warnings.warn(\"cannot use tree with sparse input: \"\n"
     ]
    },
    {
     "name": "stdout",
     "output_type": "stream",
     "text": [
      "[CV]  nbc__algorithm=ball_tree, vect__use_idf=False, nbc__weights=distance, vect__ngram_range=(1, 3), vect__tokenizer=<function stemming_tokenizer at 0x7fbdd16a0158>, score=0.961538, total=   0.4s\n",
      "[CV] nbc__algorithm=ball_tree, vect__use_idf=True, nbc__weights=distance, vect__ngram_range=(1, 3), vect__tokenizer=<function stemming_tokenizer_no_stop_words at 0x7fbdd16a01e0> \n"
     ]
    },
    {
     "name": "stderr",
     "output_type": "stream",
     "text": [
      "[Parallel(n_jobs=-1)]: Done 137 tasks      | elapsed:   23.7s\n"
     ]
    },
    {
     "name": "stdout",
     "output_type": "stream",
     "text": [
      "[CV]  nbc__algorithm=ball_tree, vect__use_idf=False, nbc__weights=distance, vect__ngram_range=(1, 3), vect__tokenizer=<function stemming_tokenizer at 0x7fbdd16a0158>, score=0.979167, total=   0.5s\n",
      "[CV] nbc__algorithm=ball_tree, vect__use_idf=True, nbc__weights=distance, vect__ngram_range=(1, 3), vect__tokenizer=<function stemming_tokenizer_no_stop_words at 0x7fbdd16a01e0> \n"
     ]
    },
    {
     "name": "stderr",
     "output_type": "stream",
     "text": [
      "/home/siddhant/python/anaconda3/lib/python3.5/site-packages/sklearn/neighbors/base.py:211: UserWarning: cannot use tree with sparse input: using brute force\n",
      "  warnings.warn(\"cannot use tree with sparse input: \"\n"
     ]
    },
    {
     "name": "stdout",
     "output_type": "stream",
     "text": [
      "[CV]  nbc__algorithm=ball_tree, vect__use_idf=False, nbc__weights=distance, vect__ngram_range=(1, 3), vect__tokenizer=<function stemming_tokenizer at 0x7fbdd16a0158>, score=0.816667, total=   0.3s\n",
      "[CV] nbc__algorithm=ball_tree, vect__use_idf=True, nbc__weights=distance, vect__ngram_range=(1, 3), vect__tokenizer=<function stemming_tokenizer_no_stop_words at 0x7fbdd16a01e0> \n"
     ]
    },
    {
     "name": "stderr",
     "output_type": "stream",
     "text": [
      "/home/siddhant/python/anaconda3/lib/python3.5/site-packages/sklearn/neighbors/base.py:211: UserWarning: cannot use tree with sparse input: using brute force\n",
      "  warnings.warn(\"cannot use tree with sparse input: \"\n"
     ]
    },
    {
     "name": "stdout",
     "output_type": "stream",
     "text": [
      "[CV]  nbc__algorithm=ball_tree, vect__use_idf=True, nbc__weights=distance, vect__ngram_range=(1, 3), vect__tokenizer=<function stemming_tokenizer_no_stop_words at 0x7fbdd16a01e0>, score=0.835245, total=   0.4s\n",
      "[CV] nbc__algorithm=ball_tree, vect__use_idf=True, nbc__weights=distance, vect__ngram_range=(1, 3), vect__tokenizer=<function stemming_tokenizer_no_stop_words at 0x7fbdd16a01e0> \n"
     ]
    },
    {
     "name": "stderr",
     "output_type": "stream",
     "text": [
      "/home/siddhant/python/anaconda3/lib/python3.5/site-packages/sklearn/neighbors/base.py:211: UserWarning: cannot use tree with sparse input: using brute force\n",
      "  warnings.warn(\"cannot use tree with sparse input: \"\n",
      "/home/siddhant/python/anaconda3/lib/python3.5/site-packages/sklearn/neighbors/base.py:211: UserWarning: cannot use tree with sparse input: using brute force\n",
      "  warnings.warn(\"cannot use tree with sparse input: \"\n"
     ]
    },
    {
     "name": "stdout",
     "output_type": "stream",
     "text": [
      "[CV]  nbc__algorithm=ball_tree, vect__use_idf=True, nbc__weights=distance, vect__ngram_range=(1, 3), vect__tokenizer=<function stemming_tokenizer_no_stop_words at 0x7fbdd16a01e0>, score=0.881538, total=   0.4s\n",
      "[CV] nbc__algorithm=ball_tree, vect__use_idf=True, nbc__weights=distance, vect__ngram_range=(1, 3), vect__tokenizer=<function stemming_tokenizer_no_stop_words at 0x7fbdd16a01e0> \n"
     ]
    },
    {
     "name": "stderr",
     "output_type": "stream",
     "text": [
      "/home/siddhant/python/anaconda3/lib/python3.5/site-packages/sklearn/neighbors/base.py:211: UserWarning: cannot use tree with sparse input: using brute force\n",
      "  warnings.warn(\"cannot use tree with sparse input: \"\n"
     ]
    },
    {
     "name": "stdout",
     "output_type": "stream",
     "text": [
      "[CV]  nbc__algorithm=ball_tree, vect__use_idf=True, nbc__weights=distance, vect__ngram_range=(1, 3), vect__tokenizer=<function stemming_tokenizer_no_stop_words at 0x7fbdd16a01e0>, score=0.958333, total=   0.6s\n",
      "[CV] nbc__algorithm=ball_tree, vect__use_idf=True, nbc__weights=distance, vect__ngram_range=(1, 3), vect__tokenizer=<function stemming_tokenizer_no_stop_words at 0x7fbdd16a01e0> \n",
      "[CV]  nbc__algorithm=ball_tree, vect__use_idf=True, nbc__weights=distance, vect__ngram_range=(1, 3), vect__tokenizer=<function stemming_tokenizer_no_stop_words at 0x7fbdd16a01e0>, score=0.803571, total=   0.5s\n",
      "[CV] nbc__algorithm=ball_tree, vect__use_idf=True, nbc__weights=distance, vect__ngram_range=(1, 3), vect__tokenizer=<function stemming_tokenizer_no_stop_words at 0x7fbdd16a01e0> \n",
      "[CV]  nbc__algorithm=ball_tree, vect__use_idf=True, nbc__weights=distance, vect__ngram_range=(1, 3), vect__tokenizer=<function stemming_tokenizer_no_stop_words at 0x7fbdd16a01e0>, score=0.861111, total=   0.5s\n",
      "[CV] nbc__algorithm=ball_tree, vect__use_idf=True, nbc__weights=distance, vect__ngram_range=(1, 3), vect__tokenizer=<function stemming_tokenizer_no_stop_words at 0x7fbdd16a01e0> \n"
     ]
    },
    {
     "name": "stderr",
     "output_type": "stream",
     "text": [
      "/home/siddhant/python/anaconda3/lib/python3.5/site-packages/sklearn/neighbors/base.py:211: UserWarning: cannot use tree with sparse input: using brute force\n",
      "  warnings.warn(\"cannot use tree with sparse input: \"\n",
      "/home/siddhant/python/anaconda3/lib/python3.5/site-packages/sklearn/neighbors/base.py:211: UserWarning: cannot use tree with sparse input: using brute force\n",
      "  warnings.warn(\"cannot use tree with sparse input: \"\n"
     ]
    },
    {
     "name": "stdout",
     "output_type": "stream",
     "text": [
      "[CV]  nbc__algorithm=ball_tree, vect__use_idf=True, nbc__weights=distance, vect__ngram_range=(1, 3), vect__tokenizer=<function stemming_tokenizer_no_stop_words at 0x7fbdd16a01e0>, score=0.979167, total=   0.4s\n",
      "[CV] nbc__algorithm=ball_tree, vect__use_idf=True, nbc__weights=distance, vect__ngram_range=(1, 3), vect__tokenizer=<function stemming_tokenizer_no_stop_words at 0x7fbdd16a01e0> \n"
     ]
    },
    {
     "name": "stderr",
     "output_type": "stream",
     "text": [
      "/home/siddhant/python/anaconda3/lib/python3.5/site-packages/sklearn/neighbors/base.py:211: UserWarning: cannot use tree with sparse input: using brute force\n",
      "  warnings.warn(\"cannot use tree with sparse input: \"\n",
      "/home/siddhant/python/anaconda3/lib/python3.5/site-packages/sklearn/neighbors/base.py:211: UserWarning: cannot use tree with sparse input: using brute force\n",
      "  warnings.warn(\"cannot use tree with sparse input: \"\n"
     ]
    },
    {
     "name": "stdout",
     "output_type": "stream",
     "text": [
      "[CV]  nbc__algorithm=ball_tree, vect__use_idf=True, nbc__weights=distance, vect__ngram_range=(1, 3), vect__tokenizer=<function stemming_tokenizer_no_stop_words at 0x7fbdd16a01e0>, score=0.958333, total=   0.5s\n",
      "[CV] nbc__algorithm=ball_tree, vect__use_idf=False, nbc__weights=distance, vect__ngram_range=(1, 3), vect__tokenizer=<function stemming_tokenizer_no_stop_words at 0x7fbdd16a01e0> \n",
      "[CV]  nbc__algorithm=ball_tree, vect__use_idf=True, nbc__weights=distance, vect__ngram_range=(1, 3), vect__tokenizer=<function stemming_tokenizer_no_stop_words at 0x7fbdd16a01e0>, score=0.912879, total=   0.6s\n",
      "[CV] nbc__algorithm=ball_tree, vect__use_idf=False, nbc__weights=distance, vect__ngram_range=(1, 3), vect__tokenizer=<function stemming_tokenizer_no_stop_words at 0x7fbdd16a01e0> \n",
      "[CV]  nbc__algorithm=ball_tree, vect__use_idf=True, nbc__weights=distance, vect__ngram_range=(1, 3), vect__tokenizer=<function stemming_tokenizer_no_stop_words at 0x7fbdd16a01e0>, score=0.979167, total=   0.7s\n"
     ]
    },
    {
     "name": "stderr",
     "output_type": "stream",
     "text": [
      "/home/siddhant/python/anaconda3/lib/python3.5/site-packages/sklearn/neighbors/base.py:211: UserWarning: cannot use tree with sparse input: using brute force\n",
      "  warnings.warn(\"cannot use tree with sparse input: \"\n",
      "/home/siddhant/python/anaconda3/lib/python3.5/site-packages/sklearn/neighbors/base.py:211: UserWarning: cannot use tree with sparse input: using brute force\n",
      "  warnings.warn(\"cannot use tree with sparse input: \"\n"
     ]
    },
    {
     "name": "stdout",
     "output_type": "stream",
     "text": [
      "[CV] nbc__algorithm=ball_tree, vect__use_idf=False, nbc__weights=distance, vect__ngram_range=(1, 3), vect__tokenizer=<function stemming_tokenizer_no_stop_words at 0x7fbdd16a01e0> \n",
      "[CV]  nbc__algorithm=ball_tree, vect__use_idf=False, nbc__weights=distance, vect__ngram_range=(1, 3), vect__tokenizer=<function stemming_tokenizer_no_stop_words at 0x7fbdd16a01e0>, score=0.876154, total=   0.5s\n",
      "[CV] nbc__algorithm=ball_tree, vect__use_idf=False, nbc__weights=distance, vect__ngram_range=(1, 3), vect__tokenizer=<function stemming_tokenizer_no_stop_words at 0x7fbdd16a01e0> \n"
     ]
    },
    {
     "name": "stderr",
     "output_type": "stream",
     "text": [
      "/home/siddhant/python/anaconda3/lib/python3.5/site-packages/sklearn/neighbors/base.py:211: UserWarning: cannot use tree with sparse input: using brute force\n",
      "  warnings.warn(\"cannot use tree with sparse input: \"\n",
      "/home/siddhant/python/anaconda3/lib/python3.5/site-packages/sklearn/neighbors/base.py:211: UserWarning: cannot use tree with sparse input: using brute force\n",
      "  warnings.warn(\"cannot use tree with sparse input: \"\n"
     ]
    },
    {
     "name": "stdout",
     "output_type": "stream",
     "text": [
      "[CV]  nbc__algorithm=ball_tree, vect__use_idf=True, nbc__weights=distance, vect__ngram_range=(1, 3), vect__tokenizer=<function stemming_tokenizer_no_stop_words at 0x7fbdd16a01e0>, score=0.784722, total=   0.7s\n",
      "[CV] nbc__algorithm=ball_tree, vect__use_idf=False, nbc__weights=distance, vect__ngram_range=(1, 3), vect__tokenizer=<function stemming_tokenizer_no_stop_words at 0x7fbdd16a01e0> \n",
      "[CV]  nbc__algorithm=ball_tree, vect__use_idf=False, nbc__weights=distance, vect__ngram_range=(1, 3), vect__tokenizer=<function stemming_tokenizer_no_stop_words at 0x7fbdd16a01e0>, score=0.958333, total=   0.3s\n",
      "[CV] nbc__algorithm=ball_tree, vect__use_idf=False, nbc__weights=distance, vect__ngram_range=(1, 3), vect__tokenizer=<function stemming_tokenizer_no_stop_words at 0x7fbdd16a01e0> \n"
     ]
    },
    {
     "name": "stderr",
     "output_type": "stream",
     "text": [
      "/home/siddhant/python/anaconda3/lib/python3.5/site-packages/sklearn/neighbors/base.py:211: UserWarning: cannot use tree with sparse input: using brute force\n",
      "  warnings.warn(\"cannot use tree with sparse input: \"\n"
     ]
    },
    {
     "name": "stdout",
     "output_type": "stream",
     "text": [
      "[CV]  nbc__algorithm=ball_tree, vect__use_idf=False, nbc__weights=distance, vect__ngram_range=(1, 3), vect__tokenizer=<function stemming_tokenizer_no_stop_words at 0x7fbdd16a01e0>, score=0.856538, total=   0.5s\n",
      "[CV] nbc__algorithm=ball_tree, vect__use_idf=False, nbc__weights=distance, vect__ngram_range=(1, 3), vect__tokenizer=<function stemming_tokenizer_no_stop_words at 0x7fbdd16a01e0> \n"
     ]
    },
    {
     "name": "stderr",
     "output_type": "stream",
     "text": [
      "/home/siddhant/python/anaconda3/lib/python3.5/site-packages/sklearn/neighbors/base.py:211: UserWarning: cannot use tree with sparse input: using brute force\n",
      "  warnings.warn(\"cannot use tree with sparse input: \"\n",
      "/home/siddhant/python/anaconda3/lib/python3.5/site-packages/sklearn/neighbors/base.py:211: UserWarning: cannot use tree with sparse input: using brute force\n",
      "  warnings.warn(\"cannot use tree with sparse input: \"\n"
     ]
    },
    {
     "name": "stdout",
     "output_type": "stream",
     "text": [
      "[CV]  nbc__algorithm=ball_tree, vect__use_idf=False, nbc__weights=distance, vect__ngram_range=(1, 3), vect__tokenizer=<function stemming_tokenizer_no_stop_words at 0x7fbdd16a01e0>, score=0.803571, total=   0.4s\n",
      "[CV] nbc__algorithm=ball_tree, vect__use_idf=False, nbc__weights=distance, vect__ngram_range=(1, 3), vect__tokenizer=<function stemming_tokenizer_no_stop_words at 0x7fbdd16a01e0> \n"
     ]
    },
    {
     "name": "stderr",
     "output_type": "stream",
     "text": [
      "/home/siddhant/python/anaconda3/lib/python3.5/site-packages/sklearn/neighbors/base.py:211: UserWarning: cannot use tree with sparse input: using brute force\n",
      "  warnings.warn(\"cannot use tree with sparse input: \"\n"
     ]
    },
    {
     "name": "stdout",
     "output_type": "stream",
     "text": [
      "[CV]  nbc__algorithm=ball_tree, vect__use_idf=False, nbc__weights=distance, vect__ngram_range=(1, 3), vect__tokenizer=<function stemming_tokenizer_no_stop_words at 0x7fbdd16a01e0>, score=0.979167, total=   0.4s\n",
      "[CV] nbc__algorithm=ball_tree, vect__use_idf=False, nbc__weights=distance, vect__ngram_range=(1, 3), vect__tokenizer=<function stemming_tokenizer_no_stop_words at 0x7fbdd16a01e0> \n"
     ]
    },
    {
     "name": "stderr",
     "output_type": "stream",
     "text": [
      "[Parallel(n_jobs=-1)]: Done 154 tasks      | elapsed:   27.2s\n"
     ]
    },
    {
     "name": "stdout",
     "output_type": "stream",
     "text": [
      "[CV]  nbc__algorithm=ball_tree, vect__use_idf=False, nbc__weights=distance, vect__ngram_range=(1, 3), vect__tokenizer=<function stemming_tokenizer_no_stop_words at 0x7fbdd16a01e0>, score=0.979167, total=   0.4s\n",
      "[CV] nbc__algorithm=ball_tree, vect__use_idf=False, nbc__weights=distance, vect__ngram_range=(1, 3), vect__tokenizer=<function stemming_tokenizer_no_stop_words at 0x7fbdd16a01e0> \n"
     ]
    },
    {
     "name": "stderr",
     "output_type": "stream",
     "text": [
      "/home/siddhant/python/anaconda3/lib/python3.5/site-packages/sklearn/neighbors/base.py:211: UserWarning: cannot use tree with sparse input: using brute force\n",
      "  warnings.warn(\"cannot use tree with sparse input: \"\n"
     ]
    },
    {
     "name": "stdout",
     "output_type": "stream",
     "text": [
      "[CV]  nbc__algorithm=ball_tree, vect__use_idf=False, nbc__weights=distance, vect__ngram_range=(1, 3), vect__tokenizer=<function stemming_tokenizer_no_stop_words at 0x7fbdd16a01e0>, score=1.000000, total=   0.5s\n",
      "[CV] nbc__algorithm=kd_tree, vect__use_idf=True, nbc__weights=uniform, vect__ngram_range=(1, 1), vect__tokenizer=<function stemming_tokenizer at 0x7fbdd16a0158> \n"
     ]
    },
    {
     "name": "stderr",
     "output_type": "stream",
     "text": [
      "/home/siddhant/python/anaconda3/lib/python3.5/site-packages/sklearn/neighbors/base.py:211: UserWarning: cannot use tree with sparse input: using brute force\n",
      "  warnings.warn(\"cannot use tree with sparse input: \"\n",
      "/home/siddhant/python/anaconda3/lib/python3.5/site-packages/sklearn/neighbors/base.py:211: UserWarning: cannot use tree with sparse input: using brute force\n",
      "  warnings.warn(\"cannot use tree with sparse input: \"\n",
      "/home/siddhant/python/anaconda3/lib/python3.5/site-packages/sklearn/neighbors/base.py:211: UserWarning: cannot use tree with sparse input: using brute force\n",
      "  warnings.warn(\"cannot use tree with sparse input: \"\n"
     ]
    },
    {
     "name": "stdout",
     "output_type": "stream",
     "text": [
      "[CV]  nbc__algorithm=ball_tree, vect__use_idf=False, nbc__weights=distance, vect__ngram_range=(1, 3), vect__tokenizer=<function stemming_tokenizer_no_stop_words at 0x7fbdd16a01e0>, score=0.958333, total=   0.3s\n",
      "[CV] nbc__algorithm=kd_tree, vect__use_idf=True, nbc__weights=uniform, vect__ngram_range=(1, 1), vect__tokenizer=<function stemming_tokenizer at 0x7fbdd16a0158> \n",
      "[CV]  nbc__algorithm=ball_tree, vect__use_idf=False, nbc__weights=distance, vect__ngram_range=(1, 3), vect__tokenizer=<function stemming_tokenizer_no_stop_words at 0x7fbdd16a01e0>, score=0.937500, total=   0.6s\n",
      "[CV] nbc__algorithm=kd_tree, vect__use_idf=True, nbc__weights=uniform, vect__ngram_range=(1, 1), vect__tokenizer=<function stemming_tokenizer at 0x7fbdd16a0158> \n",
      "[CV]  nbc__algorithm=kd_tree, vect__use_idf=True, nbc__weights=uniform, vect__ngram_range=(1, 1), vect__tokenizer=<function stemming_tokenizer at 0x7fbdd16a0158>, score=0.899161, total=   0.2s\n",
      "[CV] nbc__algorithm=kd_tree, vect__use_idf=True, nbc__weights=uniform, vect__ngram_range=(1, 1), vect__tokenizer=<function stemming_tokenizer at 0x7fbdd16a0158> \n"
     ]
    },
    {
     "name": "stderr",
     "output_type": "stream",
     "text": [
      "/home/siddhant/python/anaconda3/lib/python3.5/site-packages/sklearn/neighbors/base.py:211: UserWarning: cannot use tree with sparse input: using brute force\n",
      "  warnings.warn(\"cannot use tree with sparse input: \"\n",
      "/home/siddhant/python/anaconda3/lib/python3.5/site-packages/sklearn/neighbors/base.py:211: UserWarning: cannot use tree with sparse input: using brute force\n",
      "  warnings.warn(\"cannot use tree with sparse input: \"\n"
     ]
    },
    {
     "name": "stdout",
     "output_type": "stream",
     "text": [
      "[CV]  nbc__algorithm=ball_tree, vect__use_idf=False, nbc__weights=distance, vect__ngram_range=(1, 3), vect__tokenizer=<function stemming_tokenizer_no_stop_words at 0x7fbdd16a01e0>, score=0.916667, total=   0.4s\n",
      "[CV] nbc__algorithm=kd_tree, vect__use_idf=True, nbc__weights=uniform, vect__ngram_range=(1, 1), vect__tokenizer=<function stemming_tokenizer at 0x7fbdd16a0158> \n"
     ]
    },
    {
     "name": "stderr",
     "output_type": "stream",
     "text": [
      "/home/siddhant/python/anaconda3/lib/python3.5/site-packages/sklearn/neighbors/base.py:211: UserWarning: cannot use tree with sparse input: using brute force\n",
      "  warnings.warn(\"cannot use tree with sparse input: \"\n"
     ]
    },
    {
     "name": "stdout",
     "output_type": "stream",
     "text": [
      "[CV]  nbc__algorithm=kd_tree, vect__use_idf=True, nbc__weights=uniform, vect__ngram_range=(1, 1), vect__tokenizer=<function stemming_tokenizer at 0x7fbdd16a0158>, score=0.816667, total=   0.3s\n",
      "[CV] nbc__algorithm=kd_tree, vect__use_idf=True, nbc__weights=uniform, vect__ngram_range=(1, 1), vect__tokenizer=<function stemming_tokenizer at 0x7fbdd16a0158> \n",
      "[CV]  nbc__algorithm=kd_tree, vect__use_idf=True, nbc__weights=uniform, vect__ngram_range=(1, 1), vect__tokenizer=<function stemming_tokenizer at 0x7fbdd16a0158>, score=0.964286, total=   0.3s\n",
      "[CV] nbc__algorithm=kd_tree, vect__use_idf=True, nbc__weights=uniform, vect__ngram_range=(1, 1), vect__tokenizer=<function stemming_tokenizer at 0x7fbdd16a0158> \n"
     ]
    },
    {
     "name": "stderr",
     "output_type": "stream",
     "text": [
      "/home/siddhant/python/anaconda3/lib/python3.5/site-packages/sklearn/neighbors/base.py:211: UserWarning: cannot use tree with sparse input: using brute force\n",
      "  warnings.warn(\"cannot use tree with sparse input: \"\n"
     ]
    },
    {
     "name": "stdout",
     "output_type": "stream",
     "text": [
      "[CV]  nbc__algorithm=kd_tree, vect__use_idf=True, nbc__weights=uniform, vect__ngram_range=(1, 1), vect__tokenizer=<function stemming_tokenizer at 0x7fbdd16a0158>, score=0.631944, total=   0.4s\n",
      "[CV] nbc__algorithm=kd_tree, vect__use_idf=True, nbc__weights=uniform, vect__ngram_range=(1, 1), vect__tokenizer=<function stemming_tokenizer at 0x7fbdd16a0158> \n"
     ]
    },
    {
     "name": "stderr",
     "output_type": "stream",
     "text": [
      "/home/siddhant/python/anaconda3/lib/python3.5/site-packages/sklearn/neighbors/base.py:211: UserWarning: cannot use tree with sparse input: using brute force\n",
      "  warnings.warn(\"cannot use tree with sparse input: \"\n",
      "/home/siddhant/python/anaconda3/lib/python3.5/site-packages/sklearn/neighbors/base.py:211: UserWarning: cannot use tree with sparse input: using brute force\n",
      "  warnings.warn(\"cannot use tree with sparse input: \"\n"
     ]
    },
    {
     "name": "stdout",
     "output_type": "stream",
     "text": [
      "[CV]  nbc__algorithm=kd_tree, vect__use_idf=True, nbc__weights=uniform, vect__ngram_range=(1, 1), vect__tokenizer=<function stemming_tokenizer at 0x7fbdd16a0158>, score=0.750000, total=   0.5s\n",
      "[CV] nbc__algorithm=kd_tree, vect__use_idf=True, nbc__weights=uniform, vect__ngram_range=(1, 1), vect__tokenizer=<function stemming_tokenizer at 0x7fbdd16a0158> \n",
      "[CV]  nbc__algorithm=kd_tree, vect__use_idf=True, nbc__weights=uniform, vect__ngram_range=(1, 1), vect__tokenizer=<function stemming_tokenizer at 0x7fbdd16a0158>, score=0.875000, total=   0.3s\n"
     ]
    },
    {
     "name": "stderr",
     "output_type": "stream",
     "text": [
      "/home/siddhant/python/anaconda3/lib/python3.5/site-packages/sklearn/neighbors/base.py:211: UserWarning: cannot use tree with sparse input: using brute force\n",
      "  warnings.warn(\"cannot use tree with sparse input: \"\n"
     ]
    },
    {
     "name": "stdout",
     "output_type": "stream",
     "text": [
      "[CV]  nbc__algorithm=kd_tree, vect__use_idf=True, nbc__weights=uniform, vect__ngram_range=(1, 1), vect__tokenizer=<function stemming_tokenizer at 0x7fbdd16a0158>, score=0.875000, total=   0.3s\n",
      "[CV] nbc__algorithm=kd_tree, vect__use_idf=True, nbc__weights=uniform, vect__ngram_range=(1, 1), vect__tokenizer=<function stemming_tokenizer at 0x7fbdd16a0158> \n",
      "[CV] nbc__algorithm=kd_tree, vect__use_idf=False, nbc__weights=uniform, vect__ngram_range=(1, 1), vect__tokenizer=<function stemming_tokenizer at 0x7fbdd16a0158> \n"
     ]
    },
    {
     "name": "stderr",
     "output_type": "stream",
     "text": [
      "/home/siddhant/python/anaconda3/lib/python3.5/site-packages/sklearn/neighbors/base.py:211: UserWarning: cannot use tree with sparse input: using brute force\n",
      "  warnings.warn(\"cannot use tree with sparse input: \"\n",
      "/home/siddhant/python/anaconda3/lib/python3.5/site-packages/sklearn/neighbors/base.py:211: UserWarning: cannot use tree with sparse input: using brute force\n",
      "  warnings.warn(\"cannot use tree with sparse input: \"\n",
      "/home/siddhant/python/anaconda3/lib/python3.5/site-packages/sklearn/neighbors/base.py:211: UserWarning: cannot use tree with sparse input: using brute force\n",
      "  warnings.warn(\"cannot use tree with sparse input: \"\n"
     ]
    },
    {
     "name": "stdout",
     "output_type": "stream",
     "text": [
      "[CV]  nbc__algorithm=kd_tree, vect__use_idf=True, nbc__weights=uniform, vect__ngram_range=(1, 1), vect__tokenizer=<function stemming_tokenizer at 0x7fbdd16a0158>, score=0.937500, total=   0.4s\n",
      "[CV] nbc__algorithm=kd_tree, vect__use_idf=False, nbc__weights=uniform, vect__ngram_range=(1, 1), vect__tokenizer=<function stemming_tokenizer at 0x7fbdd16a0158> \n",
      "[CV]  nbc__algorithm=kd_tree, vect__use_idf=True, nbc__weights=uniform, vect__ngram_range=(1, 1), vect__tokenizer=<function stemming_tokenizer at 0x7fbdd16a0158>, score=0.937500, total=   0.3s\n",
      "[CV] nbc__algorithm=kd_tree, vect__use_idf=False, nbc__weights=uniform, vect__ngram_range=(1, 1), vect__tokenizer=<function stemming_tokenizer at 0x7fbdd16a0158> \n",
      "[CV]  nbc__algorithm=kd_tree, vect__use_idf=False, nbc__weights=uniform, vect__ngram_range=(1, 1), vect__tokenizer=<function stemming_tokenizer at 0x7fbdd16a0158>, score=0.921410, total=   0.3s\n"
     ]
    },
    {
     "name": "stderr",
     "output_type": "stream",
     "text": [
      "/home/siddhant/python/anaconda3/lib/python3.5/site-packages/sklearn/neighbors/base.py:211: UserWarning: cannot use tree with sparse input: using brute force\n",
      "  warnings.warn(\"cannot use tree with sparse input: \"\n"
     ]
    },
    {
     "name": "stdout",
     "output_type": "stream",
     "text": [
      "[CV] nbc__algorithm=kd_tree, vect__use_idf=False, nbc__weights=uniform, vect__ngram_range=(1, 1), vect__tokenizer=<function stemming_tokenizer at 0x7fbdd16a0158> \n",
      "[CV]  nbc__algorithm=kd_tree, vect__use_idf=True, nbc__weights=uniform, vect__ngram_range=(1, 1), vect__tokenizer=<function stemming_tokenizer at 0x7fbdd16a0158>, score=0.750000, total=   0.3s\n",
      "[CV] nbc__algorithm=kd_tree, vect__use_idf=False, nbc__weights=uniform, vect__ngram_range=(1, 1), vect__tokenizer=<function stemming_tokenizer at 0x7fbdd16a0158> \n"
     ]
    },
    {
     "name": "stderr",
     "output_type": "stream",
     "text": [
      "/home/siddhant/python/anaconda3/lib/python3.5/site-packages/sklearn/neighbors/base.py:211: UserWarning: cannot use tree with sparse input: using brute force\n",
      "  warnings.warn(\"cannot use tree with sparse input: \"\n",
      "/home/siddhant/python/anaconda3/lib/python3.5/site-packages/sklearn/neighbors/base.py:211: UserWarning: cannot use tree with sparse input: using brute force\n",
      "  warnings.warn(\"cannot use tree with sparse input: \"\n",
      "/home/siddhant/python/anaconda3/lib/python3.5/site-packages/sklearn/neighbors/base.py:211: UserWarning: cannot use tree with sparse input: using brute force\n",
      "  warnings.warn(\"cannot use tree with sparse input: \"\n"
     ]
    },
    {
     "name": "stdout",
     "output_type": "stream",
     "text": [
      "[CV]  nbc__algorithm=kd_tree, vect__use_idf=False, nbc__weights=uniform, vect__ngram_range=(1, 1), vect__tokenizer=<function stemming_tokenizer at 0x7fbdd16a0158>, score=0.882353, total=   0.3s\n",
      "[CV] nbc__algorithm=kd_tree, vect__use_idf=False, nbc__weights=uniform, vect__ngram_range=(1, 1), vect__tokenizer=<function stemming_tokenizer at 0x7fbdd16a0158> \n",
      "[CV]  nbc__algorithm=kd_tree, vect__use_idf=False, nbc__weights=uniform, vect__ngram_range=(1, 1), vect__tokenizer=<function stemming_tokenizer at 0x7fbdd16a0158>, score=0.842949, total=   0.3s\n",
      "[CV] nbc__algorithm=kd_tree, vect__use_idf=False, nbc__weights=uniform, vect__ngram_range=(1, 1), vect__tokenizer=<function stemming_tokenizer at 0x7fbdd16a0158> \n",
      "[CV]  nbc__algorithm=kd_tree, vect__use_idf=False, nbc__weights=uniform, vect__ngram_range=(1, 1), vect__tokenizer=<function stemming_tokenizer at 0x7fbdd16a0158>, score=0.675000, total=   0.3s\n",
      "[CV] nbc__algorithm=kd_tree, vect__use_idf=False, nbc__weights=uniform, vect__ngram_range=(1, 1), vect__tokenizer=<function stemming_tokenizer at 0x7fbdd16a0158> \n"
     ]
    },
    {
     "name": "stderr",
     "output_type": "stream",
     "text": [
      "[Parallel(n_jobs=-1)]: Done 173 tasks      | elapsed:   30.3s\n",
      "/home/siddhant/python/anaconda3/lib/python3.5/site-packages/sklearn/neighbors/base.py:211: UserWarning: cannot use tree with sparse input: using brute force\n",
      "  warnings.warn(\"cannot use tree with sparse input: \"\n"
     ]
    },
    {
     "name": "stdout",
     "output_type": "stream",
     "text": [
      "[CV]  nbc__algorithm=kd_tree, vect__use_idf=False, nbc__weights=uniform, vect__ngram_range=(1, 1), vect__tokenizer=<function stemming_tokenizer at 0x7fbdd16a0158>, score=0.812500, total=   0.3s\n",
      "[CV] nbc__algorithm=kd_tree, vect__use_idf=False, nbc__weights=uniform, vect__ngram_range=(1, 1), vect__tokenizer=<function stemming_tokenizer at 0x7fbdd16a0158> \n"
     ]
    },
    {
     "name": "stderr",
     "output_type": "stream",
     "text": [
      "/home/siddhant/python/anaconda3/lib/python3.5/site-packages/sklearn/neighbors/base.py:211: UserWarning: cannot use tree with sparse input: using brute force\n",
      "  warnings.warn(\"cannot use tree with sparse input: \"\n",
      "/home/siddhant/python/anaconda3/lib/python3.5/site-packages/sklearn/neighbors/base.py:211: UserWarning: cannot use tree with sparse input: using brute force\n",
      "  warnings.warn(\"cannot use tree with sparse input: \"\n",
      "/home/siddhant/python/anaconda3/lib/python3.5/site-packages/sklearn/neighbors/base.py:211: UserWarning: cannot use tree with sparse input: using brute force\n",
      "  warnings.warn(\"cannot use tree with sparse input: \"\n"
     ]
    },
    {
     "name": "stdout",
     "output_type": "stream",
     "text": [
      "[CV]  nbc__algorithm=kd_tree, vect__use_idf=False, nbc__weights=uniform, vect__ngram_range=(1, 1), vect__tokenizer=<function stemming_tokenizer at 0x7fbdd16a0158>, score=0.961538, total=   0.3s\n",
      "[CV] nbc__algorithm=kd_tree, vect__use_idf=False, nbc__weights=uniform, vect__ngram_range=(1, 1), vect__tokenizer=<function stemming_tokenizer at 0x7fbdd16a0158> \n",
      "[CV]  nbc__algorithm=kd_tree, vect__use_idf=False, nbc__weights=uniform, vect__ngram_range=(1, 1), vect__tokenizer=<function stemming_tokenizer at 0x7fbdd16a0158>, score=0.961538, total=   0.3s\n",
      "[CV] nbc__algorithm=kd_tree, vect__use_idf=True, nbc__weights=uniform, vect__ngram_range=(1, 1), vect__tokenizer=<function stemming_tokenizer_no_stop_words at 0x7fbdd16a01e0> \n",
      "[CV]  nbc__algorithm=kd_tree, vect__use_idf=False, nbc__weights=uniform, vect__ngram_range=(1, 1), vect__tokenizer=<function stemming_tokenizer at 0x7fbdd16a0158>, score=0.875000, total=   0.5s\n",
      "[CV] nbc__algorithm=kd_tree, vect__use_idf=True, nbc__weights=uniform, vect__ngram_range=(1, 1), vect__tokenizer=<function stemming_tokenizer_no_stop_words at 0x7fbdd16a01e0> \n",
      "[CV]  nbc__algorithm=kd_tree, vect__use_idf=False, nbc__weights=uniform, vect__ngram_range=(1, 1), vect__tokenizer=<function stemming_tokenizer at 0x7fbdd16a0158>, score=0.958333, total=   0.3s\n",
      "[CV] nbc__algorithm=kd_tree, vect__use_idf=True, nbc__weights=uniform, vect__ngram_range=(1, 1), vect__tokenizer=<function stemming_tokenizer_no_stop_words at 0x7fbdd16a01e0> \n"
     ]
    },
    {
     "name": "stderr",
     "output_type": "stream",
     "text": [
      "/home/siddhant/python/anaconda3/lib/python3.5/site-packages/sklearn/neighbors/base.py:211: UserWarning: cannot use tree with sparse input: using brute force\n",
      "  warnings.warn(\"cannot use tree with sparse input: \"\n",
      "/home/siddhant/python/anaconda3/lib/python3.5/site-packages/sklearn/neighbors/base.py:211: UserWarning: cannot use tree with sparse input: using brute force\n",
      "  warnings.warn(\"cannot use tree with sparse input: \"\n",
      "/home/siddhant/python/anaconda3/lib/python3.5/site-packages/sklearn/neighbors/base.py:211: UserWarning: cannot use tree with sparse input: using brute force\n",
      "  warnings.warn(\"cannot use tree with sparse input: \"\n",
      "/home/siddhant/python/anaconda3/lib/python3.5/site-packages/sklearn/neighbors/base.py:211: UserWarning: cannot use tree with sparse input: using brute force\n",
      "  warnings.warn(\"cannot use tree with sparse input: \"\n"
     ]
    },
    {
     "name": "stdout",
     "output_type": "stream",
     "text": [
      "[CV]  nbc__algorithm=kd_tree, vect__use_idf=False, nbc__weights=uniform, vect__ngram_range=(1, 1), vect__tokenizer=<function stemming_tokenizer at 0x7fbdd16a0158>, score=0.816667, total=   0.4s\n",
      "[CV] nbc__algorithm=kd_tree, vect__use_idf=True, nbc__weights=uniform, vect__ngram_range=(1, 1), vect__tokenizer=<function stemming_tokenizer_no_stop_words at 0x7fbdd16a01e0> \n",
      "[CV]  nbc__algorithm=kd_tree, vect__use_idf=True, nbc__weights=uniform, vect__ngram_range=(1, 1), vect__tokenizer=<function stemming_tokenizer_no_stop_words at 0x7fbdd16a01e0>, score=0.876154, total=   0.3s\n",
      "[CV] nbc__algorithm=kd_tree, vect__use_idf=True, nbc__weights=uniform, vect__ngram_range=(1, 1), vect__tokenizer=<function stemming_tokenizer_no_stop_words at 0x7fbdd16a01e0> \n",
      "[CV]  nbc__algorithm=kd_tree, vect__use_idf=True, nbc__weights=uniform, vect__ngram_range=(1, 1), vect__tokenizer=<function stemming_tokenizer_no_stop_words at 0x7fbdd16a01e0>, score=0.912879, total=   0.3s\n",
      "[CV] nbc__algorithm=kd_tree, vect__use_idf=True, nbc__weights=uniform, vect__ngram_range=(1, 1), vect__tokenizer=<function stemming_tokenizer_no_stop_words at 0x7fbdd16a01e0> \n",
      "[CV]  nbc__algorithm=kd_tree, vect__use_idf=True, nbc__weights=uniform, vect__ngram_range=(1, 1), vect__tokenizer=<function stemming_tokenizer_no_stop_words at 0x7fbdd16a01e0>, score=0.829744, total=   0.3s\n",
      "[CV] nbc__algorithm=kd_tree, vect__use_idf=True, nbc__weights=uniform, vect__ngram_range=(1, 1), vect__tokenizer=<function stemming_tokenizer_no_stop_words at 0x7fbdd16a01e0> \n"
     ]
    },
    {
     "name": "stderr",
     "output_type": "stream",
     "text": [
      "/home/siddhant/python/anaconda3/lib/python3.5/site-packages/sklearn/neighbors/base.py:211: UserWarning: cannot use tree with sparse input: using brute force\n",
      "  warnings.warn(\"cannot use tree with sparse input: \"\n",
      "/home/siddhant/python/anaconda3/lib/python3.5/site-packages/sklearn/neighbors/base.py:211: UserWarning: cannot use tree with sparse input: using brute force\n",
      "  warnings.warn(\"cannot use tree with sparse input: \"\n",
      "/home/siddhant/python/anaconda3/lib/python3.5/site-packages/sklearn/neighbors/base.py:211: UserWarning: cannot use tree with sparse input: using brute force\n",
      "  warnings.warn(\"cannot use tree with sparse input: \"\n",
      "/home/siddhant/python/anaconda3/lib/python3.5/site-packages/sklearn/neighbors/base.py:211: UserWarning: cannot use tree with sparse input: using brute force\n",
      "  warnings.warn(\"cannot use tree with sparse input: \"\n"
     ]
    },
    {
     "name": "stdout",
     "output_type": "stream",
     "text": [
      "[CV]  nbc__algorithm=kd_tree, vect__use_idf=True, nbc__weights=uniform, vect__ngram_range=(1, 1), vect__tokenizer=<function stemming_tokenizer_no_stop_words at 0x7fbdd16a01e0>, score=0.784722, total=   0.4s\n",
      "[CV] nbc__algorithm=kd_tree, vect__use_idf=True, nbc__weights=uniform, vect__ngram_range=(1, 1), vect__tokenizer=<function stemming_tokenizer_no_stop_words at 0x7fbdd16a01e0> \n",
      "[CV]  nbc__algorithm=kd_tree, vect__use_idf=True, nbc__weights=uniform, vect__ngram_range=(1, 1), vect__tokenizer=<function stemming_tokenizer_no_stop_words at 0x7fbdd16a01e0>, score=0.887500, total=   0.3s\n",
      "[CV] nbc__algorithm=kd_tree, vect__use_idf=True, nbc__weights=uniform, vect__ngram_range=(1, 1), vect__tokenizer=<function stemming_tokenizer_no_stop_words at 0x7fbdd16a01e0> \n",
      "[CV]  nbc__algorithm=kd_tree, vect__use_idf=True, nbc__weights=uniform, vect__ngram_range=(1, 1), vect__tokenizer=<function stemming_tokenizer_no_stop_words at 0x7fbdd16a01e0>, score=0.958333, total=   0.4s\n",
      "[CV] nbc__algorithm=kd_tree, vect__use_idf=True, nbc__weights=uniform, vect__ngram_range=(1, 1), vect__tokenizer=<function stemming_tokenizer_no_stop_words at 0x7fbdd16a01e0> \n"
     ]
    },
    {
     "name": "stderr",
     "output_type": "stream",
     "text": [
      "/home/siddhant/python/anaconda3/lib/python3.5/site-packages/sklearn/neighbors/base.py:211: UserWarning: cannot use tree with sparse input: using brute force\n",
      "  warnings.warn(\"cannot use tree with sparse input: \"\n",
      "/home/siddhant/python/anaconda3/lib/python3.5/site-packages/sklearn/neighbors/base.py:211: UserWarning: cannot use tree with sparse input: using brute force\n",
      "  warnings.warn(\"cannot use tree with sparse input: \"\n"
     ]
    },
    {
     "name": "stdout",
     "output_type": "stream",
     "text": [
      "[CV]  nbc__algorithm=kd_tree, vect__use_idf=True, nbc__weights=uniform, vect__ngram_range=(1, 1), vect__tokenizer=<function stemming_tokenizer_no_stop_words at 0x7fbdd16a01e0>, score=0.979167, total=   0.4s\n"
     ]
    },
    {
     "name": "stderr",
     "output_type": "stream",
     "text": [
      "/home/siddhant/python/anaconda3/lib/python3.5/site-packages/sklearn/neighbors/base.py:211: UserWarning: cannot use tree with sparse input: using brute force\n",
      "  warnings.warn(\"cannot use tree with sparse input: \"\n"
     ]
    },
    {
     "name": "stdout",
     "output_type": "stream",
     "text": [
      "[CV] nbc__algorithm=kd_tree, vect__use_idf=False, nbc__weights=uniform, vect__ngram_range=(1, 1), vect__tokenizer=<function stemming_tokenizer_no_stop_words at 0x7fbdd16a01e0> \n",
      "[CV]  nbc__algorithm=kd_tree, vect__use_idf=True, nbc__weights=uniform, vect__ngram_range=(1, 1), vect__tokenizer=<function stemming_tokenizer_no_stop_words at 0x7fbdd16a01e0>, score=0.937500, total=   0.3s\n",
      "[CV] nbc__algorithm=kd_tree, vect__use_idf=False, nbc__weights=uniform, vect__ngram_range=(1, 1), vect__tokenizer=<function stemming_tokenizer_no_stop_words at 0x7fbdd16a01e0> \n"
     ]
    },
    {
     "name": "stderr",
     "output_type": "stream",
     "text": [
      "/home/siddhant/python/anaconda3/lib/python3.5/site-packages/sklearn/neighbors/base.py:211: UserWarning: cannot use tree with sparse input: using brute force\n",
      "  warnings.warn(\"cannot use tree with sparse input: \"\n"
     ]
    },
    {
     "name": "stdout",
     "output_type": "stream",
     "text": [
      "[CV]  nbc__algorithm=kd_tree, vect__use_idf=True, nbc__weights=uniform, vect__ngram_range=(1, 1), vect__tokenizer=<function stemming_tokenizer_no_stop_words at 0x7fbdd16a01e0>, score=0.887500, total=   0.4s\n",
      "[CV] nbc__algorithm=kd_tree, vect__use_idf=False, nbc__weights=uniform, vect__ngram_range=(1, 1), vect__tokenizer=<function stemming_tokenizer_no_stop_words at 0x7fbdd16a01e0> \n",
      "[CV]  nbc__algorithm=kd_tree, vect__use_idf=True, nbc__weights=uniform, vect__ngram_range=(1, 1), vect__tokenizer=<function stemming_tokenizer_no_stop_words at 0x7fbdd16a01e0>, score=1.000000, total=   0.3s\n"
     ]
    },
    {
     "name": "stderr",
     "output_type": "stream",
     "text": [
      "/home/siddhant/python/anaconda3/lib/python3.5/site-packages/sklearn/neighbors/base.py:211: UserWarning: cannot use tree with sparse input: using brute force\n",
      "  warnings.warn(\"cannot use tree with sparse input: \"\n"
     ]
    },
    {
     "name": "stdout",
     "output_type": "stream",
     "text": [
      "[CV] nbc__algorithm=kd_tree, vect__use_idf=False, nbc__weights=uniform, vect__ngram_range=(1, 1), vect__tokenizer=<function stemming_tokenizer_no_stop_words at 0x7fbdd16a01e0> \n"
     ]
    },
    {
     "name": "stderr",
     "output_type": "stream",
     "text": [
      "/home/siddhant/python/anaconda3/lib/python3.5/site-packages/sklearn/neighbors/base.py:211: UserWarning: cannot use tree with sparse input: using brute force\n",
      "  warnings.warn(\"cannot use tree with sparse input: \"\n"
     ]
    },
    {
     "name": "stdout",
     "output_type": "stream",
     "text": [
      "[CV]  nbc__algorithm=kd_tree, vect__use_idf=False, nbc__weights=uniform, vect__ngram_range=(1, 1), vect__tokenizer=<function stemming_tokenizer_no_stop_words at 0x7fbdd16a01e0>, score=0.921410, total=   0.4s\n",
      "[CV] nbc__algorithm=kd_tree, vect__use_idf=False, nbc__weights=uniform, vect__ngram_range=(1, 1), vect__tokenizer=<function stemming_tokenizer_no_stop_words at 0x7fbdd16a01e0> \n"
     ]
    },
    {
     "name": "stderr",
     "output_type": "stream",
     "text": [
      "/home/siddhant/python/anaconda3/lib/python3.5/site-packages/sklearn/neighbors/base.py:211: UserWarning: cannot use tree with sparse input: using brute force\n",
      "  warnings.warn(\"cannot use tree with sparse input: \"\n"
     ]
    },
    {
     "name": "stdout",
     "output_type": "stream",
     "text": [
      "[CV]  nbc__algorithm=kd_tree, vect__use_idf=False, nbc__weights=uniform, vect__ngram_range=(1, 1), vect__tokenizer=<function stemming_tokenizer_no_stop_words at 0x7fbdd16a01e0>, score=0.856538, total=   0.2s\n",
      "[CV] nbc__algorithm=kd_tree, vect__use_idf=False, nbc__weights=uniform, vect__ngram_range=(1, 1), vect__tokenizer=<function stemming_tokenizer_no_stop_words at 0x7fbdd16a01e0> \n"
     ]
    },
    {
     "name": "stderr",
     "output_type": "stream",
     "text": [
      "[Parallel(n_jobs=-1)]: Done 192 tasks      | elapsed:   33.3s\n",
      "/home/siddhant/python/anaconda3/lib/python3.5/site-packages/sklearn/neighbors/base.py:211: UserWarning: cannot use tree with sparse input: using brute force\n",
      "  warnings.warn(\"cannot use tree with sparse input: \"\n",
      "/home/siddhant/python/anaconda3/lib/python3.5/site-packages/sklearn/neighbors/base.py:211: UserWarning: cannot use tree with sparse input: using brute force\n",
      "  warnings.warn(\"cannot use tree with sparse input: \"\n"
     ]
    },
    {
     "name": "stdout",
     "output_type": "stream",
     "text": [
      "[CV]  nbc__algorithm=kd_tree, vect__use_idf=False, nbc__weights=uniform, vect__ngram_range=(1, 1), vect__tokenizer=<function stemming_tokenizer_no_stop_words at 0x7fbdd16a01e0>, score=0.912879, total=   0.4s\n",
      "[CV] nbc__algorithm=kd_tree, vect__use_idf=False, nbc__weights=uniform, vect__ngram_range=(1, 1), vect__tokenizer=<function stemming_tokenizer_no_stop_words at 0x7fbdd16a01e0> \n",
      "[CV]  nbc__algorithm=kd_tree, vect__use_idf=False, nbc__weights=uniform, vect__ngram_range=(1, 1), vect__tokenizer=<function stemming_tokenizer_no_stop_words at 0x7fbdd16a01e0>, score=0.708333, total=   0.3s\n",
      "[CV] nbc__algorithm=kd_tree, vect__use_idf=False, nbc__weights=uniform, vect__ngram_range=(1, 1), vect__tokenizer=<function stemming_tokenizer_no_stop_words at 0x7fbdd16a01e0> \n",
      "[CV]  nbc__algorithm=kd_tree, vect__use_idf=False, nbc__weights=uniform, vect__ngram_range=(1, 1), vect__tokenizer=<function stemming_tokenizer_no_stop_words at 0x7fbdd16a01e0>, score=0.979167, total=   0.3s\n",
      "[CV]  nbc__algorithm=kd_tree, vect__use_idf=False, nbc__weights=uniform, vect__ngram_range=(1, 1), vect__tokenizer=<function stemming_tokenizer_no_stop_words at 0x7fbdd16a01e0>, score=0.979167, total=   0.4s\n",
      "[CV] nbc__algorithm=kd_tree, vect__use_idf=False, nbc__weights=uniform, vect__ngram_range=(1, 1), vect__tokenizer=<function stemming_tokenizer_no_stop_words at 0x7fbdd16a01e0> \n",
      "[CV] nbc__algorithm=kd_tree, vect__use_idf=False, nbc__weights=uniform, vect__ngram_range=(1, 1), vect__tokenizer=<function stemming_tokenizer_no_stop_words at 0x7fbdd16a01e0> \n"
     ]
    },
    {
     "name": "stderr",
     "output_type": "stream",
     "text": [
      "/home/siddhant/python/anaconda3/lib/python3.5/site-packages/sklearn/neighbors/base.py:211: UserWarning: cannot use tree with sparse input: using brute force\n",
      "  warnings.warn(\"cannot use tree with sparse input: \"\n",
      "/home/siddhant/python/anaconda3/lib/python3.5/site-packages/sklearn/neighbors/base.py:211: UserWarning: cannot use tree with sparse input: using brute force\n",
      "  warnings.warn(\"cannot use tree with sparse input: \"\n",
      "/home/siddhant/python/anaconda3/lib/python3.5/site-packages/sklearn/neighbors/base.py:211: UserWarning: cannot use tree with sparse input: using brute force\n",
      "  warnings.warn(\"cannot use tree with sparse input: \"\n",
      "/home/siddhant/python/anaconda3/lib/python3.5/site-packages/sklearn/neighbors/base.py:211: UserWarning: cannot use tree with sparse input: using brute force\n",
      "  warnings.warn(\"cannot use tree with sparse input: \"\n"
     ]
    },
    {
     "name": "stdout",
     "output_type": "stream",
     "text": [
      "[CV]  nbc__algorithm=kd_tree, vect__use_idf=False, nbc__weights=uniform, vect__ngram_range=(1, 1), vect__tokenizer=<function stemming_tokenizer_no_stop_words at 0x7fbdd16a01e0>, score=0.961538, total=   0.4s\n",
      "[CV] nbc__algorithm=kd_tree, vect__use_idf=True, nbc__weights=uniform, vect__ngram_range=(1, 3), vect__tokenizer=<function stemming_tokenizer at 0x7fbdd16a0158> \n",
      "[CV]  nbc__algorithm=kd_tree, vect__use_idf=False, nbc__weights=uniform, vect__ngram_range=(1, 1), vect__tokenizer=<function stemming_tokenizer_no_stop_words at 0x7fbdd16a01e0>, score=0.916667, total=   0.3s\n",
      "[CV]  nbc__algorithm=kd_tree, vect__use_idf=False, nbc__weights=uniform, vect__ngram_range=(1, 1), vect__tokenizer=<function stemming_tokenizer_no_stop_words at 0x7fbdd16a01e0>, score=0.902244, total=   0.4s\n",
      "[CV] nbc__algorithm=kd_tree, vect__use_idf=True, nbc__weights=uniform, vect__ngram_range=(1, 3), vect__tokenizer=<function stemming_tokenizer at 0x7fbdd16a0158> \n",
      "[CV] nbc__algorithm=kd_tree, vect__use_idf=True, nbc__weights=uniform, vect__ngram_range=(1, 3), vect__tokenizer=<function stemming_tokenizer at 0x7fbdd16a0158> \n"
     ]
    },
    {
     "name": "stderr",
     "output_type": "stream",
     "text": [
      "/home/siddhant/python/anaconda3/lib/python3.5/site-packages/sklearn/neighbors/base.py:211: UserWarning: cannot use tree with sparse input: using brute force\n",
      "  warnings.warn(\"cannot use tree with sparse input: \"\n"
     ]
    },
    {
     "name": "stdout",
     "output_type": "stream",
     "text": [
      "[CV]  nbc__algorithm=kd_tree, vect__use_idf=False, nbc__weights=uniform, vect__ngram_range=(1, 1), vect__tokenizer=<function stemming_tokenizer_no_stop_words at 0x7fbdd16a01e0>, score=1.000000, total=   0.3s\n",
      "[CV] nbc__algorithm=kd_tree, vect__use_idf=True, nbc__weights=uniform, vect__ngram_range=(1, 3), vect__tokenizer=<function stemming_tokenizer at 0x7fbdd16a0158> \n"
     ]
    },
    {
     "name": "stderr",
     "output_type": "stream",
     "text": [
      "/home/siddhant/python/anaconda3/lib/python3.5/site-packages/sklearn/neighbors/base.py:211: UserWarning: cannot use tree with sparse input: using brute force\n",
      "  warnings.warn(\"cannot use tree with sparse input: \"\n"
     ]
    },
    {
     "name": "stdout",
     "output_type": "stream",
     "text": [
      "[CV]  nbc__algorithm=kd_tree, vect__use_idf=True, nbc__weights=uniform, vect__ngram_range=(1, 3), vect__tokenizer=<function stemming_tokenizer at 0x7fbdd16a0158>, score=0.899161, total=   0.3s\n"
     ]
    },
    {
     "name": "stderr",
     "output_type": "stream",
     "text": [
      "/home/siddhant/python/anaconda3/lib/python3.5/site-packages/sklearn/neighbors/base.py:211: UserWarning: cannot use tree with sparse input: using brute force\n",
      "  warnings.warn(\"cannot use tree with sparse input: \"\n"
     ]
    },
    {
     "name": "stdout",
     "output_type": "stream",
     "text": [
      "[CV] nbc__algorithm=kd_tree, vect__use_idf=True, nbc__weights=uniform, vect__ngram_range=(1, 3), vect__tokenizer=<function stemming_tokenizer at 0x7fbdd16a0158> \n",
      "[CV]  nbc__algorithm=kd_tree, vect__use_idf=True, nbc__weights=uniform, vect__ngram_range=(1, 3), vect__tokenizer=<function stemming_tokenizer at 0x7fbdd16a0158>, score=0.882353, total=   0.4s\n"
     ]
    },
    {
     "name": "stderr",
     "output_type": "stream",
     "text": [
      "/home/siddhant/python/anaconda3/lib/python3.5/site-packages/sklearn/neighbors/base.py:211: UserWarning: cannot use tree with sparse input: using brute force\n",
      "  warnings.warn(\"cannot use tree with sparse input: \"\n",
      "/home/siddhant/python/anaconda3/lib/python3.5/site-packages/sklearn/neighbors/base.py:211: UserWarning: cannot use tree with sparse input: using brute force\n",
      "  warnings.warn(\"cannot use tree with sparse input: \"\n"
     ]
    },
    {
     "name": "stdout",
     "output_type": "stream",
     "text": [
      "[CV] nbc__algorithm=kd_tree, vect__use_idf=True, nbc__weights=uniform, vect__ngram_range=(1, 3), vect__tokenizer=<function stemming_tokenizer at 0x7fbdd16a0158> \n",
      "[CV]  nbc__algorithm=kd_tree, vect__use_idf=True, nbc__weights=uniform, vect__ngram_range=(1, 3), vect__tokenizer=<function stemming_tokenizer at 0x7fbdd16a0158>, score=0.816667, total=   0.4s\n",
      "[CV] nbc__algorithm=kd_tree, vect__use_idf=True, nbc__weights=uniform, vect__ngram_range=(1, 3), vect__tokenizer=<function stemming_tokenizer at 0x7fbdd16a0158> \n",
      "[CV]  nbc__algorithm=kd_tree, vect__use_idf=True, nbc__weights=uniform, vect__ngram_range=(1, 3), vect__tokenizer=<function stemming_tokenizer at 0x7fbdd16a0158>, score=0.619048, total=   0.5s\n",
      "[CV] nbc__algorithm=kd_tree, vect__use_idf=True, nbc__weights=uniform, vect__ngram_range=(1, 3), vect__tokenizer=<function stemming_tokenizer at 0x7fbdd16a0158> \n"
     ]
    },
    {
     "name": "stderr",
     "output_type": "stream",
     "text": [
      "/home/siddhant/python/anaconda3/lib/python3.5/site-packages/sklearn/neighbors/base.py:211: UserWarning: cannot use tree with sparse input: using brute force\n",
      "  warnings.warn(\"cannot use tree with sparse input: \"\n"
     ]
    },
    {
     "name": "stdout",
     "output_type": "stream",
     "text": [
      "[CV]  nbc__algorithm=kd_tree, vect__use_idf=True, nbc__weights=uniform, vect__ngram_range=(1, 3), vect__tokenizer=<function stemming_tokenizer at 0x7fbdd16a0158>, score=0.750000, total=   0.3s\n",
      "[CV] nbc__algorithm=kd_tree, vect__use_idf=True, nbc__weights=uniform, vect__ngram_range=(1, 3), vect__tokenizer=<function stemming_tokenizer at 0x7fbdd16a0158> \n"
     ]
    },
    {
     "name": "stderr",
     "output_type": "stream",
     "text": [
      "/home/siddhant/python/anaconda3/lib/python3.5/site-packages/sklearn/neighbors/base.py:211: UserWarning: cannot use tree with sparse input: using brute force\n",
      "  warnings.warn(\"cannot use tree with sparse input: \"\n",
      "/home/siddhant/python/anaconda3/lib/python3.5/site-packages/sklearn/neighbors/base.py:211: UserWarning: cannot use tree with sparse input: using brute force\n",
      "  warnings.warn(\"cannot use tree with sparse input: \"\n"
     ]
    },
    {
     "name": "stdout",
     "output_type": "stream",
     "text": [
      "[CV]  nbc__algorithm=kd_tree, vect__use_idf=True, nbc__weights=uniform, vect__ngram_range=(1, 3), vect__tokenizer=<function stemming_tokenizer at 0x7fbdd16a0158>, score=0.902244, total=   0.5s\n",
      "[CV] nbc__algorithm=kd_tree, vect__use_idf=True, nbc__weights=uniform, vect__ngram_range=(1, 3), vect__tokenizer=<function stemming_tokenizer at 0x7fbdd16a0158> \n"
     ]
    },
    {
     "name": "stderr",
     "output_type": "stream",
     "text": [
      "/home/siddhant/python/anaconda3/lib/python3.5/site-packages/sklearn/neighbors/base.py:211: UserWarning: cannot use tree with sparse input: using brute force\n",
      "  warnings.warn(\"cannot use tree with sparse input: \"\n"
     ]
    },
    {
     "name": "stdout",
     "output_type": "stream",
     "text": [
      "[CV]  nbc__algorithm=kd_tree, vect__use_idf=True, nbc__weights=uniform, vect__ngram_range=(1, 3), vect__tokenizer=<function stemming_tokenizer at 0x7fbdd16a0158>, score=0.902244, total=   0.4s\n",
      "[CV] nbc__algorithm=kd_tree, vect__use_idf=False, nbc__weights=uniform, vect__ngram_range=(1, 3), vect__tokenizer=<function stemming_tokenizer at 0x7fbdd16a0158> \n",
      "[CV]  nbc__algorithm=kd_tree, vect__use_idf=True, nbc__weights=uniform, vect__ngram_range=(1, 3), vect__tokenizer=<function stemming_tokenizer at 0x7fbdd16a0158>, score=0.937500, total=   0.5s\n",
      "[CV] nbc__algorithm=kd_tree, vect__use_idf=False, nbc__weights=uniform, vect__ngram_range=(1, 3), vect__tokenizer=<function stemming_tokenizer at 0x7fbdd16a0158> \n"
     ]
    },
    {
     "name": "stderr",
     "output_type": "stream",
     "text": [
      "/home/siddhant/python/anaconda3/lib/python3.5/site-packages/sklearn/neighbors/base.py:211: UserWarning: cannot use tree with sparse input: using brute force\n",
      "  warnings.warn(\"cannot use tree with sparse input: \"\n"
     ]
    },
    {
     "name": "stdout",
     "output_type": "stream",
     "text": [
      "[CV]  nbc__algorithm=kd_tree, vect__use_idf=True, nbc__weights=uniform, vect__ngram_range=(1, 3), vect__tokenizer=<function stemming_tokenizer at 0x7fbdd16a0158>, score=0.979167, total=   0.5s\n",
      "[CV] nbc__algorithm=kd_tree, vect__use_idf=False, nbc__weights=uniform, vect__ngram_range=(1, 3), vect__tokenizer=<function stemming_tokenizer at 0x7fbdd16a0158> \n"
     ]
    },
    {
     "name": "stderr",
     "output_type": "stream",
     "text": [
      "/home/siddhant/python/anaconda3/lib/python3.5/site-packages/sklearn/neighbors/base.py:211: UserWarning: cannot use tree with sparse input: using brute force\n",
      "  warnings.warn(\"cannot use tree with sparse input: \"\n",
      "/home/siddhant/python/anaconda3/lib/python3.5/site-packages/sklearn/neighbors/base.py:211: UserWarning: cannot use tree with sparse input: using brute force\n",
      "  warnings.warn(\"cannot use tree with sparse input: \"\n"
     ]
    },
    {
     "name": "stdout",
     "output_type": "stream",
     "text": [
      "[CV]  nbc__algorithm=kd_tree, vect__use_idf=True, nbc__weights=uniform, vect__ngram_range=(1, 3), vect__tokenizer=<function stemming_tokenizer at 0x7fbdd16a0158>, score=0.784722, total=   0.5s\n",
      "[CV] nbc__algorithm=kd_tree, vect__use_idf=False, nbc__weights=uniform, vect__ngram_range=(1, 3), vect__tokenizer=<function stemming_tokenizer at 0x7fbdd16a0158> \n"
     ]
    },
    {
     "name": "stderr",
     "output_type": "stream",
     "text": [
      "/home/siddhant/python/anaconda3/lib/python3.5/site-packages/sklearn/neighbors/base.py:211: UserWarning: cannot use tree with sparse input: using brute force\n",
      "  warnings.warn(\"cannot use tree with sparse input: \"\n"
     ]
    },
    {
     "name": "stdout",
     "output_type": "stream",
     "text": [
      "[CV]  nbc__algorithm=kd_tree, vect__use_idf=False, nbc__weights=uniform, vect__ngram_range=(1, 3), vect__tokenizer=<function stemming_tokenizer at 0x7fbdd16a0158>, score=0.899161, total=   0.4s\n",
      "[CV] nbc__algorithm=kd_tree, vect__use_idf=False, nbc__weights=uniform, vect__ngram_range=(1, 3), vect__tokenizer=<function stemming_tokenizer at 0x7fbdd16a0158> \n",
      "[CV]  nbc__algorithm=kd_tree, vect__use_idf=False, nbc__weights=uniform, vect__ngram_range=(1, 3), vect__tokenizer=<function stemming_tokenizer at 0x7fbdd16a0158>, score=0.882353, total=   0.3s\n",
      "[CV] nbc__algorithm=kd_tree, vect__use_idf=False, nbc__weights=uniform, vect__ngram_range=(1, 3), vect__tokenizer=<function stemming_tokenizer at 0x7fbdd16a0158> \n"
     ]
    },
    {
     "name": "stderr",
     "output_type": "stream",
     "text": [
      "/home/siddhant/python/anaconda3/lib/python3.5/site-packages/sklearn/neighbors/base.py:211: UserWarning: cannot use tree with sparse input: using brute force\n",
      "  warnings.warn(\"cannot use tree with sparse input: \"\n"
     ]
    },
    {
     "name": "stdout",
     "output_type": "stream",
     "text": [
      "[CV]  nbc__algorithm=kd_tree, vect__use_idf=False, nbc__weights=uniform, vect__ngram_range=(1, 3), vect__tokenizer=<function stemming_tokenizer at 0x7fbdd16a0158>, score=0.846591, total=   0.4s\n"
     ]
    },
    {
     "name": "stderr",
     "output_type": "stream",
     "text": [
      "/home/siddhant/python/anaconda3/lib/python3.5/site-packages/sklearn/neighbors/base.py:211: UserWarning: cannot use tree with sparse input: using brute force\n",
      "  warnings.warn(\"cannot use tree with sparse input: \"\n"
     ]
    },
    {
     "name": "stdout",
     "output_type": "stream",
     "text": [
      "[CV] nbc__algorithm=kd_tree, vect__use_idf=False, nbc__weights=uniform, vect__ngram_range=(1, 3), vect__tokenizer=<function stemming_tokenizer at 0x7fbdd16a0158> \n"
     ]
    },
    {
     "name": "stderr",
     "output_type": "stream",
     "text": [
      "/home/siddhant/python/anaconda3/lib/python3.5/site-packages/sklearn/neighbors/base.py:211: UserWarning: cannot use tree with sparse input: using brute force\n",
      "  warnings.warn(\"cannot use tree with sparse input: \"\n",
      "[Parallel(n_jobs=-1)]: Done 213 tasks      | elapsed:   37.2s\n",
      "/home/siddhant/python/anaconda3/lib/python3.5/site-packages/sklearn/neighbors/base.py:211: UserWarning: cannot use tree with sparse input: using brute force\n",
      "  warnings.warn(\"cannot use tree with sparse input: \"\n"
     ]
    },
    {
     "name": "stdout",
     "output_type": "stream",
     "text": [
      "[CV]  nbc__algorithm=kd_tree, vect__use_idf=False, nbc__weights=uniform, vect__ngram_range=(1, 3), vect__tokenizer=<function stemming_tokenizer at 0x7fbdd16a0158>, score=0.675000, total=   0.4s\n",
      "[CV] nbc__algorithm=kd_tree, vect__use_idf=False, nbc__weights=uniform, vect__ngram_range=(1, 3), vect__tokenizer=<function stemming_tokenizer at 0x7fbdd16a0158> \n",
      "[CV]  nbc__algorithm=kd_tree, vect__use_idf=False, nbc__weights=uniform, vect__ngram_range=(1, 3), vect__tokenizer=<function stemming_tokenizer at 0x7fbdd16a0158>, score=0.902244, total=   0.3s\n",
      "[CV]  nbc__algorithm=kd_tree, vect__use_idf=False, nbc__weights=uniform, vect__ngram_range=(1, 3), vect__tokenizer=<function stemming_tokenizer at 0x7fbdd16a0158>, score=0.812500, total=   0.4s\n",
      "[CV] nbc__algorithm=kd_tree, vect__use_idf=False, nbc__weights=uniform, vect__ngram_range=(1, 3), vect__tokenizer=<function stemming_tokenizer at 0x7fbdd16a0158> \n",
      "[CV] nbc__algorithm=kd_tree, vect__use_idf=False, nbc__weights=uniform, vect__ngram_range=(1, 3), vect__tokenizer=<function stemming_tokenizer at 0x7fbdd16a0158> \n"
     ]
    },
    {
     "name": "stderr",
     "output_type": "stream",
     "text": [
      "/home/siddhant/python/anaconda3/lib/python3.5/site-packages/sklearn/neighbors/base.py:211: UserWarning: cannot use tree with sparse input: using brute force\n",
      "  warnings.warn(\"cannot use tree with sparse input: \"\n"
     ]
    },
    {
     "name": "stdout",
     "output_type": "stream",
     "text": [
      "[CV]  nbc__algorithm=kd_tree, vect__use_idf=False, nbc__weights=uniform, vect__ngram_range=(1, 3), vect__tokenizer=<function stemming_tokenizer at 0x7fbdd16a0158>, score=0.937500, total=   0.3s\n"
     ]
    },
    {
     "name": "stderr",
     "output_type": "stream",
     "text": [
      "/home/siddhant/python/anaconda3/lib/python3.5/site-packages/sklearn/neighbors/base.py:211: UserWarning: cannot use tree with sparse input: using brute force\n",
      "  warnings.warn(\"cannot use tree with sparse input: \"\n"
     ]
    },
    {
     "name": "stdout",
     "output_type": "stream",
     "text": [
      "[CV] nbc__algorithm=kd_tree, vect__use_idf=True, nbc__weights=uniform, vect__ngram_range=(1, 3), vect__tokenizer=<function stemming_tokenizer_no_stop_words at 0x7fbdd16a01e0> \n"
     ]
    },
    {
     "name": "stderr",
     "output_type": "stream",
     "text": [
      "/home/siddhant/python/anaconda3/lib/python3.5/site-packages/sklearn/neighbors/base.py:211: UserWarning: cannot use tree with sparse input: using brute force\n",
      "  warnings.warn(\"cannot use tree with sparse input: \"\n"
     ]
    },
    {
     "name": "stdout",
     "output_type": "stream",
     "text": [
      "[CV]  nbc__algorithm=kd_tree, vect__use_idf=False, nbc__weights=uniform, vect__ngram_range=(1, 3), vect__tokenizer=<function stemming_tokenizer at 0x7fbdd16a0158>, score=0.816667, total=   0.4s\n",
      "[CV] nbc__algorithm=kd_tree, vect__use_idf=True, nbc__weights=uniform, vect__ngram_range=(1, 3), vect__tokenizer=<function stemming_tokenizer_no_stop_words at 0x7fbdd16a01e0> \n"
     ]
    },
    {
     "name": "stderr",
     "output_type": "stream",
     "text": [
      "/home/siddhant/python/anaconda3/lib/python3.5/site-packages/sklearn/neighbors/base.py:211: UserWarning: cannot use tree with sparse input: using brute force\n",
      "  warnings.warn(\"cannot use tree with sparse input: \"\n"
     ]
    },
    {
     "name": "stdout",
     "output_type": "stream",
     "text": [
      "[CV]  nbc__algorithm=kd_tree, vect__use_idf=False, nbc__weights=uniform, vect__ngram_range=(1, 3), vect__tokenizer=<function stemming_tokenizer at 0x7fbdd16a0158>, score=0.961538, total=   0.3s\n",
      "[CV] nbc__algorithm=kd_tree, vect__use_idf=True, nbc__weights=uniform, vect__ngram_range=(1, 3), vect__tokenizer=<function stemming_tokenizer_no_stop_words at 0x7fbdd16a01e0> \n",
      "[CV]  nbc__algorithm=kd_tree, vect__use_idf=False, nbc__weights=uniform, vect__ngram_range=(1, 3), vect__tokenizer=<function stemming_tokenizer at 0x7fbdd16a0158>, score=0.958333, total=   0.4s\n",
      "[CV] nbc__algorithm=kd_tree, vect__use_idf=True, nbc__weights=uniform, vect__ngram_range=(1, 3), vect__tokenizer=<function stemming_tokenizer_no_stop_words at 0x7fbdd16a01e0> \n",
      "[CV]  nbc__algorithm=kd_tree, vect__use_idf=True, nbc__weights=uniform, vect__ngram_range=(1, 3), vect__tokenizer=<function stemming_tokenizer_no_stop_words at 0x7fbdd16a01e0>, score=0.835245, total=   0.4s\n"
     ]
    },
    {
     "name": "stderr",
     "output_type": "stream",
     "text": [
      "/home/siddhant/python/anaconda3/lib/python3.5/site-packages/sklearn/neighbors/base.py:211: UserWarning: cannot use tree with sparse input: using brute force\n",
      "  warnings.warn(\"cannot use tree with sparse input: \"\n",
      "/home/siddhant/python/anaconda3/lib/python3.5/site-packages/sklearn/neighbors/base.py:211: UserWarning: cannot use tree with sparse input: using brute force\n",
      "  warnings.warn(\"cannot use tree with sparse input: \"\n"
     ]
    },
    {
     "name": "stdout",
     "output_type": "stream",
     "text": [
      "[CV] nbc__algorithm=kd_tree, vect__use_idf=True, nbc__weights=uniform, vect__ngram_range=(1, 3), vect__tokenizer=<function stemming_tokenizer_no_stop_words at 0x7fbdd16a01e0> \n"
     ]
    },
    {
     "name": "stderr",
     "output_type": "stream",
     "text": [
      "/home/siddhant/python/anaconda3/lib/python3.5/site-packages/sklearn/neighbors/base.py:211: UserWarning: cannot use tree with sparse input: using brute force\n",
      "  warnings.warn(\"cannot use tree with sparse input: \"\n"
     ]
    },
    {
     "name": "stdout",
     "output_type": "stream",
     "text": [
      "[CV]  nbc__algorithm=kd_tree, vect__use_idf=True, nbc__weights=uniform, vect__ngram_range=(1, 3), vect__tokenizer=<function stemming_tokenizer_no_stop_words at 0x7fbdd16a01e0>, score=0.912879, total=   0.4s\n",
      "[CV] nbc__algorithm=kd_tree, vect__use_idf=True, nbc__weights=uniform, vect__ngram_range=(1, 3), vect__tokenizer=<function stemming_tokenizer_no_stop_words at 0x7fbdd16a01e0> \n"
     ]
    },
    {
     "name": "stderr",
     "output_type": "stream",
     "text": [
      "/home/siddhant/python/anaconda3/lib/python3.5/site-packages/sklearn/neighbors/base.py:211: UserWarning: cannot use tree with sparse input: using brute force\n",
      "  warnings.warn(\"cannot use tree with sparse input: \"\n"
     ]
    },
    {
     "name": "stdout",
     "output_type": "stream",
     "text": [
      "[CV]  nbc__algorithm=kd_tree, vect__use_idf=True, nbc__weights=uniform, vect__ngram_range=(1, 3), vect__tokenizer=<function stemming_tokenizer_no_stop_words at 0x7fbdd16a01e0>, score=0.881538, total=   0.5s\n",
      "[CV] nbc__algorithm=kd_tree, vect__use_idf=True, nbc__weights=uniform, vect__ngram_range=(1, 3), vect__tokenizer=<function stemming_tokenizer_no_stop_words at 0x7fbdd16a01e0> \n",
      "[CV]  nbc__algorithm=kd_tree, vect__use_idf=True, nbc__weights=uniform, vect__ngram_range=(1, 3), vect__tokenizer=<function stemming_tokenizer_no_stop_words at 0x7fbdd16a01e0>, score=0.750000, total=   0.4s\n",
      "[CV] nbc__algorithm=kd_tree, vect__use_idf=True, nbc__weights=uniform, vect__ngram_range=(1, 3), vect__tokenizer=<function stemming_tokenizer_no_stop_words at 0x7fbdd16a01e0> \n"
     ]
    },
    {
     "name": "stderr",
     "output_type": "stream",
     "text": [
      "/home/siddhant/python/anaconda3/lib/python3.5/site-packages/sklearn/neighbors/base.py:211: UserWarning: cannot use tree with sparse input: using brute force\n",
      "  warnings.warn(\"cannot use tree with sparse input: \"\n"
     ]
    },
    {
     "name": "stdout",
     "output_type": "stream",
     "text": [
      "[CV]  nbc__algorithm=kd_tree, vect__use_idf=True, nbc__weights=uniform, vect__ngram_range=(1, 3), vect__tokenizer=<function stemming_tokenizer_no_stop_words at 0x7fbdd16a01e0>, score=0.861111, total=   0.4s\n",
      "[CV] nbc__algorithm=kd_tree, vect__use_idf=True, nbc__weights=uniform, vect__ngram_range=(1, 3), vect__tokenizer=<function stemming_tokenizer_no_stop_words at 0x7fbdd16a01e0> \n"
     ]
    },
    {
     "name": "stderr",
     "output_type": "stream",
     "text": [
      "/home/siddhant/python/anaconda3/lib/python3.5/site-packages/sklearn/neighbors/base.py:211: UserWarning: cannot use tree with sparse input: using brute force\n",
      "  warnings.warn(\"cannot use tree with sparse input: \"\n"
     ]
    },
    {
     "name": "stdout",
     "output_type": "stream",
     "text": [
      "[CV]  nbc__algorithm=kd_tree, vect__use_idf=True, nbc__weights=uniform, vect__ngram_range=(1, 3), vect__tokenizer=<function stemming_tokenizer_no_stop_words at 0x7fbdd16a01e0>, score=0.958333, total=   0.4s\n"
     ]
    },
    {
     "name": "stderr",
     "output_type": "stream",
     "text": [
      "/home/siddhant/python/anaconda3/lib/python3.5/site-packages/sklearn/neighbors/base.py:211: UserWarning: cannot use tree with sparse input: using brute force\n",
      "  warnings.warn(\"cannot use tree with sparse input: \"\n"
     ]
    },
    {
     "name": "stdout",
     "output_type": "stream",
     "text": [
      "[CV] nbc__algorithm=kd_tree, vect__use_idf=True, nbc__weights=uniform, vect__ngram_range=(1, 3), vect__tokenizer=<function stemming_tokenizer_no_stop_words at 0x7fbdd16a01e0> \n"
     ]
    },
    {
     "name": "stderr",
     "output_type": "stream",
     "text": [
      "/home/siddhant/python/anaconda3/lib/python3.5/site-packages/sklearn/neighbors/base.py:211: UserWarning: cannot use tree with sparse input: using brute force\n",
      "  warnings.warn(\"cannot use tree with sparse input: \"\n"
     ]
    },
    {
     "name": "stdout",
     "output_type": "stream",
     "text": [
      "[CV]  nbc__algorithm=kd_tree, vect__use_idf=True, nbc__weights=uniform, vect__ngram_range=(1, 3), vect__tokenizer=<function stemming_tokenizer_no_stop_words at 0x7fbdd16a01e0>, score=0.979167, total=   0.5s\n"
     ]
    },
    {
     "name": "stderr",
     "output_type": "stream",
     "text": [
      "/home/siddhant/python/anaconda3/lib/python3.5/site-packages/sklearn/neighbors/base.py:211: UserWarning: cannot use tree with sparse input: using brute force\n",
      "  warnings.warn(\"cannot use tree with sparse input: \"\n"
     ]
    },
    {
     "name": "stdout",
     "output_type": "stream",
     "text": [
      "[CV] nbc__algorithm=kd_tree, vect__use_idf=False, nbc__weights=uniform, vect__ngram_range=(1, 3), vect__tokenizer=<function stemming_tokenizer_no_stop_words at 0x7fbdd16a01e0> \n",
      "[CV]  nbc__algorithm=kd_tree, vect__use_idf=True, nbc__weights=uniform, vect__ngram_range=(1, 3), vect__tokenizer=<function stemming_tokenizer_no_stop_words at 0x7fbdd16a01e0>, score=0.937500, total=   0.4s\n",
      "[CV] nbc__algorithm=kd_tree, vect__use_idf=False, nbc__weights=uniform, vect__ngram_range=(1, 3), vect__tokenizer=<function stemming_tokenizer_no_stop_words at 0x7fbdd16a01e0> \n",
      "[CV]  nbc__algorithm=kd_tree, vect__use_idf=True, nbc__weights=uniform, vect__ngram_range=(1, 3), vect__tokenizer=<function stemming_tokenizer_no_stop_words at 0x7fbdd16a01e0>, score=0.912879, total=   0.3s\n",
      "[CV] nbc__algorithm=kd_tree, vect__use_idf=False, nbc__weights=uniform, vect__ngram_range=(1, 3), vect__tokenizer=<function stemming_tokenizer_no_stop_words at 0x7fbdd16a01e0> \n",
      "[CV]  nbc__algorithm=kd_tree, vect__use_idf=True, nbc__weights=uniform, vect__ngram_range=(1, 3), vect__tokenizer=<function stemming_tokenizer_no_stop_words at 0x7fbdd16a01e0>, score=0.784722, total=   0.3s\n",
      "[CV] nbc__algorithm=kd_tree, vect__use_idf=False, nbc__weights=uniform, vect__ngram_range=(1, 3), vect__tokenizer=<function stemming_tokenizer_no_stop_words at 0x7fbdd16a01e0> \n"
     ]
    },
    {
     "name": "stderr",
     "output_type": "stream",
     "text": [
      "/home/siddhant/python/anaconda3/lib/python3.5/site-packages/sklearn/neighbors/base.py:211: UserWarning: cannot use tree with sparse input: using brute force\n",
      "  warnings.warn(\"cannot use tree with sparse input: \"\n",
      "/home/siddhant/python/anaconda3/lib/python3.5/site-packages/sklearn/neighbors/base.py:211: UserWarning: cannot use tree with sparse input: using brute force\n",
      "  warnings.warn(\"cannot use tree with sparse input: \"\n",
      "/home/siddhant/python/anaconda3/lib/python3.5/site-packages/sklearn/neighbors/base.py:211: UserWarning: cannot use tree with sparse input: using brute force\n",
      "  warnings.warn(\"cannot use tree with sparse input: \"\n",
      "/home/siddhant/python/anaconda3/lib/python3.5/site-packages/sklearn/neighbors/base.py:211: UserWarning: cannot use tree with sparse input: using brute force\n",
      "  warnings.warn(\"cannot use tree with sparse input: \"\n"
     ]
    },
    {
     "name": "stdout",
     "output_type": "stream",
     "text": [
      "[CV]  nbc__algorithm=kd_tree, vect__use_idf=False, nbc__weights=uniform, vect__ngram_range=(1, 3), vect__tokenizer=<function stemming_tokenizer_no_stop_words at 0x7fbdd16a01e0>, score=0.856538, total=   0.4s\n",
      "[CV] nbc__algorithm=kd_tree, vect__use_idf=False, nbc__weights=uniform, vect__ngram_range=(1, 3), vect__tokenizer=<function stemming_tokenizer_no_stop_words at 0x7fbdd16a01e0> \n",
      "[CV]  nbc__algorithm=kd_tree, vect__use_idf=False, nbc__weights=uniform, vect__ngram_range=(1, 3), vect__tokenizer=<function stemming_tokenizer_no_stop_words at 0x7fbdd16a01e0>, score=0.876154, total=   0.5s\n",
      "[CV] nbc__algorithm=kd_tree, vect__use_idf=False, nbc__weights=uniform, vect__ngram_range=(1, 3), vect__tokenizer=<function stemming_tokenizer_no_stop_words at 0x7fbdd16a01e0> \n",
      "[CV]  nbc__algorithm=kd_tree, vect__use_idf=False, nbc__weights=uniform, vect__ngram_range=(1, 3), vect__tokenizer=<function stemming_tokenizer_no_stop_words at 0x7fbdd16a01e0>, score=0.750000, total=   0.4s\n",
      "[CV] nbc__algorithm=kd_tree, vect__use_idf=False, nbc__weights=uniform, vect__ngram_range=(1, 3), vect__tokenizer=<function stemming_tokenizer_no_stop_words at 0x7fbdd16a01e0> \n",
      "[CV]  nbc__algorithm=kd_tree, vect__use_idf=False, nbc__weights=uniform, vect__ngram_range=(1, 3), vect__tokenizer=<function stemming_tokenizer_no_stop_words at 0x7fbdd16a01e0>, score=0.912879, total=   0.5s\n"
     ]
    },
    {
     "name": "stderr",
     "output_type": "stream",
     "text": [
      "/home/siddhant/python/anaconda3/lib/python3.5/site-packages/sklearn/neighbors/base.py:211: UserWarning: cannot use tree with sparse input: using brute force\n",
      "  warnings.warn(\"cannot use tree with sparse input: \"\n"
     ]
    },
    {
     "name": "stdout",
     "output_type": "stream",
     "text": [
      "[CV] nbc__algorithm=kd_tree, vect__use_idf=False, nbc__weights=uniform, vect__ngram_range=(1, 3), vect__tokenizer=<function stemming_tokenizer_no_stop_words at 0x7fbdd16a01e0> \n"
     ]
    },
    {
     "name": "stderr",
     "output_type": "stream",
     "text": [
      "/home/siddhant/python/anaconda3/lib/python3.5/site-packages/sklearn/neighbors/base.py:211: UserWarning: cannot use tree with sparse input: using brute force\n",
      "  warnings.warn(\"cannot use tree with sparse input: \"\n",
      "/home/siddhant/python/anaconda3/lib/python3.5/site-packages/sklearn/neighbors/base.py:211: UserWarning: cannot use tree with sparse input: using brute force\n",
      "  warnings.warn(\"cannot use tree with sparse input: \"\n",
      "[Parallel(n_jobs=-1)]: Done 234 tasks      | elapsed:   41.0s\n"
     ]
    },
    {
     "name": "stdout",
     "output_type": "stream",
     "text": [
      "[CV]  nbc__algorithm=kd_tree, vect__use_idf=False, nbc__weights=uniform, vect__ngram_range=(1, 3), vect__tokenizer=<function stemming_tokenizer_no_stop_words at 0x7fbdd16a01e0>, score=0.979167, total=   0.4s\n",
      "[CV] nbc__algorithm=kd_tree, vect__use_idf=False, nbc__weights=uniform, vect__ngram_range=(1, 3), vect__tokenizer=<function stemming_tokenizer_no_stop_words at 0x7fbdd16a01e0> \n"
     ]
    },
    {
     "name": "stderr",
     "output_type": "stream",
     "text": [
      "/home/siddhant/python/anaconda3/lib/python3.5/site-packages/sklearn/neighbors/base.py:211: UserWarning: cannot use tree with sparse input: using brute force\n",
      "  warnings.warn(\"cannot use tree with sparse input: \"\n",
      "/home/siddhant/python/anaconda3/lib/python3.5/site-packages/sklearn/neighbors/base.py:211: UserWarning: cannot use tree with sparse input: using brute force\n",
      "  warnings.warn(\"cannot use tree with sparse input: \"\n"
     ]
    },
    {
     "name": "stdout",
     "output_type": "stream",
     "text": [
      "[CV]  nbc__algorithm=kd_tree, vect__use_idf=False, nbc__weights=uniform, vect__ngram_range=(1, 3), vect__tokenizer=<function stemming_tokenizer_no_stop_words at 0x7fbdd16a01e0>, score=0.979167, total=   0.5s\n",
      "[CV] nbc__algorithm=kd_tree, vect__use_idf=False, nbc__weights=uniform, vect__ngram_range=(1, 3), vect__tokenizer=<function stemming_tokenizer_no_stop_words at 0x7fbdd16a01e0> \n",
      "[CV]  nbc__algorithm=kd_tree, vect__use_idf=False, nbc__weights=uniform, vect__ngram_range=(1, 3), vect__tokenizer=<function stemming_tokenizer_no_stop_words at 0x7fbdd16a01e0>, score=0.961538, total=   0.4s\n",
      "[CV] nbc__algorithm=kd_tree, vect__use_idf=True, nbc__weights=distance, vect__ngram_range=(1, 1), vect__tokenizer=<function stemming_tokenizer at 0x7fbdd16a0158> \n",
      "[CV]  nbc__algorithm=kd_tree, vect__use_idf=False, nbc__weights=uniform, vect__ngram_range=(1, 3), vect__tokenizer=<function stemming_tokenizer_no_stop_words at 0x7fbdd16a01e0>, score=0.937500, total=   0.4s\n",
      "[CV] nbc__algorithm=kd_tree, vect__use_idf=True, nbc__weights=distance, vect__ngram_range=(1, 1), vect__tokenizer=<function stemming_tokenizer at 0x7fbdd16a0158> \n"
     ]
    },
    {
     "name": "stderr",
     "output_type": "stream",
     "text": [
      "/home/siddhant/python/anaconda3/lib/python3.5/site-packages/sklearn/neighbors/base.py:211: UserWarning: cannot use tree with sparse input: using brute force\n",
      "  warnings.warn(\"cannot use tree with sparse input: \"\n",
      "/home/siddhant/python/anaconda3/lib/python3.5/site-packages/sklearn/neighbors/base.py:211: UserWarning: cannot use tree with sparse input: using brute force\n",
      "  warnings.warn(\"cannot use tree with sparse input: \"\n",
      "/home/siddhant/python/anaconda3/lib/python3.5/site-packages/sklearn/neighbors/base.py:211: UserWarning: cannot use tree with sparse input: using brute force\n",
      "  warnings.warn(\"cannot use tree with sparse input: \"\n"
     ]
    },
    {
     "name": "stdout",
     "output_type": "stream",
     "text": [
      "[CV]  nbc__algorithm=kd_tree, vect__use_idf=False, nbc__weights=uniform, vect__ngram_range=(1, 3), vect__tokenizer=<function stemming_tokenizer_no_stop_words at 0x7fbdd16a01e0>, score=0.958333, total=   0.3s\n",
      "[CV] nbc__algorithm=kd_tree, vect__use_idf=True, nbc__weights=distance, vect__ngram_range=(1, 1), vect__tokenizer=<function stemming_tokenizer at 0x7fbdd16a0158> \n",
      "[CV]  nbc__algorithm=kd_tree, vect__use_idf=True, nbc__weights=distance, vect__ngram_range=(1, 1), vect__tokenizer=<function stemming_tokenizer at 0x7fbdd16a0158>, score=0.964286, total=   0.3s\n",
      "[CV]  nbc__algorithm=kd_tree, vect__use_idf=True, nbc__weights=distance, vect__ngram_range=(1, 1), vect__tokenizer=<function stemming_tokenizer at 0x7fbdd16a0158>, score=0.944615, total=   0.3s\n",
      "[CV] nbc__algorithm=kd_tree, vect__use_idf=True, nbc__weights=distance, vect__ngram_range=(1, 1), vect__tokenizer=<function stemming_tokenizer at 0x7fbdd16a0158> \n",
      "[CV] nbc__algorithm=kd_tree, vect__use_idf=True, nbc__weights=distance, vect__ngram_range=(1, 1), vect__tokenizer=<function stemming_tokenizer at 0x7fbdd16a0158> \n",
      "[CV]  nbc__algorithm=kd_tree, vect__use_idf=False, nbc__weights=uniform, vect__ngram_range=(1, 3), vect__tokenizer=<function stemming_tokenizer_no_stop_words at 0x7fbdd16a01e0>, score=0.916667, total=   0.4s\n",
      "[CV] nbc__algorithm=kd_tree, vect__use_idf=True, nbc__weights=distance, vect__ngram_range=(1, 1), vect__tokenizer=<function stemming_tokenizer at 0x7fbdd16a0158> \n"
     ]
    },
    {
     "name": "stderr",
     "output_type": "stream",
     "text": [
      "/home/siddhant/python/anaconda3/lib/python3.5/site-packages/sklearn/neighbors/base.py:211: UserWarning: cannot use tree with sparse input: using brute force\n",
      "  warnings.warn(\"cannot use tree with sparse input: \"\n",
      "/home/siddhant/python/anaconda3/lib/python3.5/site-packages/sklearn/neighbors/base.py:211: UserWarning: cannot use tree with sparse input: using brute force\n",
      "  warnings.warn(\"cannot use tree with sparse input: \"\n",
      "/home/siddhant/python/anaconda3/lib/python3.5/site-packages/sklearn/neighbors/base.py:211: UserWarning: cannot use tree with sparse input: using brute force\n",
      "  warnings.warn(\"cannot use tree with sparse input: \"\n",
      "/home/siddhant/python/anaconda3/lib/python3.5/site-packages/sklearn/neighbors/base.py:211: UserWarning: cannot use tree with sparse input: using brute force\n",
      "  warnings.warn(\"cannot use tree with sparse input: \"\n"
     ]
    },
    {
     "name": "stdout",
     "output_type": "stream",
     "text": [
      "[CV]  nbc__algorithm=kd_tree, vect__use_idf=True, nbc__weights=distance, vect__ngram_range=(1, 1), vect__tokenizer=<function stemming_tokenizer at 0x7fbdd16a0158>, score=0.861111, total=   0.4s\n",
      "[CV] nbc__algorithm=kd_tree, vect__use_idf=True, nbc__weights=distance, vect__ngram_range=(1, 1), vect__tokenizer=<function stemming_tokenizer at 0x7fbdd16a0158> \n",
      "[CV]  nbc__algorithm=kd_tree, vect__use_idf=True, nbc__weights=distance, vect__ngram_range=(1, 1), vect__tokenizer=<function stemming_tokenizer at 0x7fbdd16a0158>, score=0.666667, total=   0.4s\n",
      "[CV] nbc__algorithm=kd_tree, vect__use_idf=True, nbc__weights=distance, vect__ngram_range=(1, 1), vect__tokenizer=<function stemming_tokenizer at 0x7fbdd16a0158> \n",
      "[CV]  nbc__algorithm=kd_tree, vect__use_idf=True, nbc__weights=distance, vect__ngram_range=(1, 1), vect__tokenizer=<function stemming_tokenizer at 0x7fbdd16a0158>, score=0.875000, total=   0.3s\n",
      "[CV]  nbc__algorithm=kd_tree, vect__use_idf=True, nbc__weights=distance, vect__ngram_range=(1, 1), vect__tokenizer=<function stemming_tokenizer at 0x7fbdd16a0158>, score=0.780303, total=   0.4s\n",
      "[CV] nbc__algorithm=kd_tree, vect__use_idf=True, nbc__weights=distance, vect__ngram_range=(1, 1), vect__tokenizer=<function stemming_tokenizer at 0x7fbdd16a0158> \n",
      "[CV] nbc__algorithm=kd_tree, vect__use_idf=True, nbc__weights=distance, vect__ngram_range=(1, 1), vect__tokenizer=<function stemming_tokenizer at 0x7fbdd16a0158> \n"
     ]
    },
    {
     "name": "stderr",
     "output_type": "stream",
     "text": [
      "/home/siddhant/python/anaconda3/lib/python3.5/site-packages/sklearn/neighbors/base.py:211: UserWarning: cannot use tree with sparse input: using brute force\n",
      "  warnings.warn(\"cannot use tree with sparse input: \"\n",
      "/home/siddhant/python/anaconda3/lib/python3.5/site-packages/sklearn/neighbors/base.py:211: UserWarning: cannot use tree with sparse input: using brute force\n",
      "  warnings.warn(\"cannot use tree with sparse input: \"\n",
      "/home/siddhant/python/anaconda3/lib/python3.5/site-packages/sklearn/neighbors/base.py:211: UserWarning: cannot use tree with sparse input: using brute force\n",
      "  warnings.warn(\"cannot use tree with sparse input: \"\n",
      "/home/siddhant/python/anaconda3/lib/python3.5/site-packages/sklearn/neighbors/base.py:211: UserWarning: cannot use tree with sparse input: using brute force\n",
      "  warnings.warn(\"cannot use tree with sparse input: \"\n"
     ]
    },
    {
     "name": "stdout",
     "output_type": "stream",
     "text": [
      "[CV]  nbc__algorithm=kd_tree, vect__use_idf=True, nbc__weights=distance, vect__ngram_range=(1, 1), vect__tokenizer=<function stemming_tokenizer at 0x7fbdd16a0158>, score=0.912879, total=   0.3s\n",
      "[CV] nbc__algorithm=kd_tree, vect__use_idf=False, nbc__weights=distance, vect__ngram_range=(1, 1), vect__tokenizer=<function stemming_tokenizer at 0x7fbdd16a0158> \n",
      "[CV]  nbc__algorithm=kd_tree, vect__use_idf=True, nbc__weights=distance, vect__ngram_range=(1, 1), vect__tokenizer=<function stemming_tokenizer at 0x7fbdd16a0158>, score=0.937500, total=   0.3s\n",
      "[CV] nbc__algorithm=kd_tree, vect__use_idf=False, nbc__weights=distance, vect__ngram_range=(1, 1), vect__tokenizer=<function stemming_tokenizer at 0x7fbdd16a0158> \n",
      "[CV]  nbc__algorithm=kd_tree, vect__use_idf=True, nbc__weights=distance, vect__ngram_range=(1, 1), vect__tokenizer=<function stemming_tokenizer at 0x7fbdd16a0158>, score=0.937500, total=   0.4s\n",
      "[CV] nbc__algorithm=kd_tree, vect__use_idf=False, nbc__weights=distance, vect__ngram_range=(1, 1), vect__tokenizer=<function stemming_tokenizer at 0x7fbdd16a0158> \n",
      "[CV]  nbc__algorithm=kd_tree, vect__use_idf=True, nbc__weights=distance, vect__ngram_range=(1, 1), vect__tokenizer=<function stemming_tokenizer at 0x7fbdd16a0158>, score=0.803571, total=   0.3s\n",
      "[CV] nbc__algorithm=kd_tree, vect__use_idf=False, nbc__weights=distance, vect__ngram_range=(1, 1), vect__tokenizer=<function stemming_tokenizer at 0x7fbdd16a0158> \n"
     ]
    },
    {
     "name": "stderr",
     "output_type": "stream",
     "text": [
      "/home/siddhant/python/anaconda3/lib/python3.5/site-packages/sklearn/neighbors/base.py:211: UserWarning: cannot use tree with sparse input: using brute force\n",
      "  warnings.warn(\"cannot use tree with sparse input: \"\n",
      "/home/siddhant/python/anaconda3/lib/python3.5/site-packages/sklearn/neighbors/base.py:211: UserWarning: cannot use tree with sparse input: using brute force\n",
      "  warnings.warn(\"cannot use tree with sparse input: \"\n"
     ]
    },
    {
     "name": "stdout",
     "output_type": "stream",
     "text": [
      "[CV]  nbc__algorithm=kd_tree, vect__use_idf=False, nbc__weights=distance, vect__ngram_range=(1, 1), vect__tokenizer=<function stemming_tokenizer at 0x7fbdd16a0158>, score=0.963077, total=   0.3s\n",
      "[CV] nbc__algorithm=kd_tree, vect__use_idf=False, nbc__weights=distance, vect__ngram_range=(1, 1), vect__tokenizer=<function stemming_tokenizer at 0x7fbdd16a0158> \n"
     ]
    },
    {
     "name": "stderr",
     "output_type": "stream",
     "text": [
      "/home/siddhant/python/anaconda3/lib/python3.5/site-packages/sklearn/neighbors/base.py:211: UserWarning: cannot use tree with sparse input: using brute force\n",
      "  warnings.warn(\"cannot use tree with sparse input: \"\n",
      "/home/siddhant/python/anaconda3/lib/python3.5/site-packages/sklearn/neighbors/base.py:211: UserWarning: cannot use tree with sparse input: using brute force\n",
      "  warnings.warn(\"cannot use tree with sparse input: \"\n"
     ]
    },
    {
     "name": "stdout",
     "output_type": "stream",
     "text": [
      "[CV]  nbc__algorithm=kd_tree, vect__use_idf=False, nbc__weights=distance, vect__ngram_range=(1, 1), vect__tokenizer=<function stemming_tokenizer at 0x7fbdd16a0158>, score=0.708333, total=   0.2s\n",
      "[CV] nbc__algorithm=kd_tree, vect__use_idf=False, nbc__weights=distance, vect__ngram_range=(1, 1), vect__tokenizer=<function stemming_tokenizer at 0x7fbdd16a0158> \n"
     ]
    },
    {
     "name": "stderr",
     "output_type": "stream",
     "text": [
      "/home/siddhant/python/anaconda3/lib/python3.5/site-packages/sklearn/neighbors/base.py:211: UserWarning: cannot use tree with sparse input: using brute force\n",
      "  warnings.warn(\"cannot use tree with sparse input: \"\n"
     ]
    },
    {
     "name": "stdout",
     "output_type": "stream",
     "text": [
      "[CV]  nbc__algorithm=kd_tree, vect__use_idf=False, nbc__weights=distance, vect__ngram_range=(1, 1), vect__tokenizer=<function stemming_tokenizer at 0x7fbdd16a0158>, score=0.875000, total=   0.4s\n",
      "[CV] nbc__algorithm=kd_tree, vect__use_idf=False, nbc__weights=distance, vect__ngram_range=(1, 1), vect__tokenizer=<function stemming_tokenizer at 0x7fbdd16a0158> \n",
      "[CV]  nbc__algorithm=kd_tree, vect__use_idf=False, nbc__weights=distance, vect__ngram_range=(1, 1), vect__tokenizer=<function stemming_tokenizer at 0x7fbdd16a0158>, score=0.882353, total=   0.5s\n"
     ]
    },
    {
     "name": "stderr",
     "output_type": "stream",
     "text": [
      "/home/siddhant/python/anaconda3/lib/python3.5/site-packages/sklearn/neighbors/base.py:211: UserWarning: cannot use tree with sparse input: using brute force\n",
      "  warnings.warn(\"cannot use tree with sparse input: \"\n"
     ]
    },
    {
     "name": "stdout",
     "output_type": "stream",
     "text": [
      "[CV] nbc__algorithm=kd_tree, vect__use_idf=False, nbc__weights=distance, vect__ngram_range=(1, 1), vect__tokenizer=<function stemming_tokenizer at 0x7fbdd16a0158> \n",
      "[CV]  nbc__algorithm=kd_tree, vect__use_idf=False, nbc__weights=distance, vect__ngram_range=(1, 1), vect__tokenizer=<function stemming_tokenizer at 0x7fbdd16a0158>, score=0.846591, total=   0.3s\n",
      "[CV] nbc__algorithm=kd_tree, vect__use_idf=False, nbc__weights=distance, vect__ngram_range=(1, 1), vect__tokenizer=<function stemming_tokenizer at 0x7fbdd16a0158> \n"
     ]
    },
    {
     "name": "stderr",
     "output_type": "stream",
     "text": [
      "/home/siddhant/python/anaconda3/lib/python3.5/site-packages/sklearn/neighbors/base.py:211: UserWarning: cannot use tree with sparse input: using brute force\n",
      "  warnings.warn(\"cannot use tree with sparse input: \"\n"
     ]
    },
    {
     "name": "stdout",
     "output_type": "stream",
     "text": [
      "[CV]  nbc__algorithm=kd_tree, vect__use_idf=False, nbc__weights=distance, vect__ngram_range=(1, 1), vect__tokenizer=<function stemming_tokenizer at 0x7fbdd16a0158>, score=0.875000, total=   0.3s\n",
      "[CV] nbc__algorithm=kd_tree, vect__use_idf=False, nbc__weights=distance, vect__ngram_range=(1, 1), vect__tokenizer=<function stemming_tokenizer at 0x7fbdd16a0158> \n"
     ]
    },
    {
     "name": "stderr",
     "output_type": "stream",
     "text": [
      "/home/siddhant/python/anaconda3/lib/python3.5/site-packages/sklearn/neighbors/base.py:211: UserWarning: cannot use tree with sparse input: using brute force\n",
      "  warnings.warn(\"cannot use tree with sparse input: \"\n"
     ]
    },
    {
     "name": "stdout",
     "output_type": "stream",
     "text": [
      "[CV]  nbc__algorithm=kd_tree, vect__use_idf=False, nbc__weights=distance, vect__ngram_range=(1, 1), vect__tokenizer=<function stemming_tokenizer at 0x7fbdd16a0158>, score=1.000000, total=   0.3s\n",
      "[CV] nbc__algorithm=kd_tree, vect__use_idf=True, nbc__weights=distance, vect__ngram_range=(1, 1), vect__tokenizer=<function stemming_tokenizer_no_stop_words at 0x7fbdd16a01e0> \n"
     ]
    },
    {
     "name": "stderr",
     "output_type": "stream",
     "text": [
      "/home/siddhant/python/anaconda3/lib/python3.5/site-packages/sklearn/neighbors/base.py:211: UserWarning: cannot use tree with sparse input: using brute force\n",
      "  warnings.warn(\"cannot use tree with sparse input: \"\n",
      "/home/siddhant/python/anaconda3/lib/python3.5/site-packages/sklearn/neighbors/base.py:211: UserWarning: cannot use tree with sparse input: using brute force\n",
      "  warnings.warn(\"cannot use tree with sparse input: \"\n"
     ]
    },
    {
     "name": "stdout",
     "output_type": "stream",
     "text": [
      "[CV]  nbc__algorithm=kd_tree, vect__use_idf=False, nbc__weights=distance, vect__ngram_range=(1, 1), vect__tokenizer=<function stemming_tokenizer at 0x7fbdd16a0158>, score=0.961538, total=   0.5s\n"
     ]
    },
    {
     "name": "stderr",
     "output_type": "stream",
     "text": [
      "[Parallel(n_jobs=-1)]: Done 257 tasks      | elapsed:   45.0s\n"
     ]
    },
    {
     "name": "stdout",
     "output_type": "stream",
     "text": [
      "[CV] nbc__algorithm=kd_tree, vect__use_idf=True, nbc__weights=distance, vect__ngram_range=(1, 1), vect__tokenizer=<function stemming_tokenizer_no_stop_words at 0x7fbdd16a01e0> \n",
      "[CV]  nbc__algorithm=kd_tree, vect__use_idf=False, nbc__weights=distance, vect__ngram_range=(1, 1), vect__tokenizer=<function stemming_tokenizer at 0x7fbdd16a0158>, score=0.958333, total=   0.3s\n",
      "[CV] nbc__algorithm=kd_tree, vect__use_idf=True, nbc__weights=distance, vect__ngram_range=(1, 1), vect__tokenizer=<function stemming_tokenizer_no_stop_words at 0x7fbdd16a01e0> \n"
     ]
    },
    {
     "name": "stderr",
     "output_type": "stream",
     "text": [
      "/home/siddhant/python/anaconda3/lib/python3.5/site-packages/sklearn/neighbors/base.py:211: UserWarning: cannot use tree with sparse input: using brute force\n",
      "  warnings.warn(\"cannot use tree with sparse input: \"\n"
     ]
    },
    {
     "name": "stdout",
     "output_type": "stream",
     "text": [
      "[CV]  nbc__algorithm=kd_tree, vect__use_idf=False, nbc__weights=distance, vect__ngram_range=(1, 1), vect__tokenizer=<function stemming_tokenizer at 0x7fbdd16a0158>, score=0.816667, total=   0.3s\n"
     ]
    },
    {
     "name": "stderr",
     "output_type": "stream",
     "text": [
      "/home/siddhant/python/anaconda3/lib/python3.5/site-packages/sklearn/neighbors/base.py:211: UserWarning: cannot use tree with sparse input: using brute force\n",
      "  warnings.warn(\"cannot use tree with sparse input: \"\n"
     ]
    },
    {
     "name": "stdout",
     "output_type": "stream",
     "text": [
      "[CV] nbc__algorithm=kd_tree, vect__use_idf=True, nbc__weights=distance, vect__ngram_range=(1, 1), vect__tokenizer=<function stemming_tokenizer_no_stop_words at 0x7fbdd16a01e0> \n"
     ]
    },
    {
     "name": "stderr",
     "output_type": "stream",
     "text": [
      "/home/siddhant/python/anaconda3/lib/python3.5/site-packages/sklearn/neighbors/base.py:211: UserWarning: cannot use tree with sparse input: using brute force\n",
      "  warnings.warn(\"cannot use tree with sparse input: \"\n",
      "/home/siddhant/python/anaconda3/lib/python3.5/site-packages/sklearn/neighbors/base.py:211: UserWarning: cannot use tree with sparse input: using brute force\n",
      "  warnings.warn(\"cannot use tree with sparse input: \"\n"
     ]
    },
    {
     "name": "stdout",
     "output_type": "stream",
     "text": [
      "[CV]  nbc__algorithm=kd_tree, vect__use_idf=True, nbc__weights=distance, vect__ngram_range=(1, 1), vect__tokenizer=<function stemming_tokenizer_no_stop_words at 0x7fbdd16a01e0>, score=0.876154, total=   0.4s\n",
      "[CV]  nbc__algorithm=kd_tree, vect__use_idf=True, nbc__weights=distance, vect__ngram_range=(1, 1), vect__tokenizer=<function stemming_tokenizer_no_stop_words at 0x7fbdd16a01e0>, score=0.829744, total=   0.3s\n",
      "[CV] nbc__algorithm=kd_tree, vect__use_idf=True, nbc__weights=distance, vect__ngram_range=(1, 1), vect__tokenizer=<function stemming_tokenizer_no_stop_words at 0x7fbdd16a01e0> \n",
      "[CV] nbc__algorithm=kd_tree, vect__use_idf=True, nbc__weights=distance, vect__ngram_range=(1, 1), vect__tokenizer=<function stemming_tokenizer_no_stop_words at 0x7fbdd16a01e0> \n",
      "[CV]  nbc__algorithm=kd_tree, vect__use_idf=True, nbc__weights=distance, vect__ngram_range=(1, 1), vect__tokenizer=<function stemming_tokenizer_no_stop_words at 0x7fbdd16a01e0>, score=0.958333, total=   0.3s\n",
      "[CV] nbc__algorithm=kd_tree, vect__use_idf=True, nbc__weights=distance, vect__ngram_range=(1, 1), vect__tokenizer=<function stemming_tokenizer_no_stop_words at 0x7fbdd16a01e0> \n",
      "[CV]  nbc__algorithm=kd_tree, vect__use_idf=True, nbc__weights=distance, vect__ngram_range=(1, 1), vect__tokenizer=<function stemming_tokenizer_no_stop_words at 0x7fbdd16a01e0>, score=0.833333, total=   0.3s\n"
     ]
    },
    {
     "name": "stderr",
     "output_type": "stream",
     "text": [
      "/home/siddhant/python/anaconda3/lib/python3.5/site-packages/sklearn/neighbors/base.py:211: UserWarning: cannot use tree with sparse input: using brute force\n",
      "  warnings.warn(\"cannot use tree with sparse input: \"\n"
     ]
    },
    {
     "name": "stdout",
     "output_type": "stream",
     "text": [
      "[CV] nbc__algorithm=kd_tree, vect__use_idf=True, nbc__weights=distance, vect__ngram_range=(1, 1), vect__tokenizer=<function stemming_tokenizer_no_stop_words at 0x7fbdd16a01e0> \n"
     ]
    },
    {
     "name": "stderr",
     "output_type": "stream",
     "text": [
      "/home/siddhant/python/anaconda3/lib/python3.5/site-packages/sklearn/neighbors/base.py:211: UserWarning: cannot use tree with sparse input: using brute force\n",
      "  warnings.warn(\"cannot use tree with sparse input: \"\n",
      "/home/siddhant/python/anaconda3/lib/python3.5/site-packages/sklearn/neighbors/base.py:211: UserWarning: cannot use tree with sparse input: using brute force\n",
      "  warnings.warn(\"cannot use tree with sparse input: \"\n"
     ]
    },
    {
     "name": "stdout",
     "output_type": "stream",
     "text": [
      "[CV]  nbc__algorithm=kd_tree, vect__use_idf=True, nbc__weights=distance, vect__ngram_range=(1, 1), vect__tokenizer=<function stemming_tokenizer_no_stop_words at 0x7fbdd16a01e0>, score=0.958333, total=   0.3s\n",
      "[CV] nbc__algorithm=kd_tree, vect__use_idf=True, nbc__weights=distance, vect__ngram_range=(1, 1), vect__tokenizer=<function stemming_tokenizer_no_stop_words at 0x7fbdd16a01e0> \n"
     ]
    },
    {
     "name": "stderr",
     "output_type": "stream",
     "text": [
      "/home/siddhant/python/anaconda3/lib/python3.5/site-packages/sklearn/neighbors/base.py:211: UserWarning: cannot use tree with sparse input: using brute force\n",
      "  warnings.warn(\"cannot use tree with sparse input: \"\n"
     ]
    },
    {
     "name": "stdout",
     "output_type": "stream",
     "text": [
      "[CV]  nbc__algorithm=kd_tree, vect__use_idf=True, nbc__weights=distance, vect__ngram_range=(1, 1), vect__tokenizer=<function stemming_tokenizer_no_stop_words at 0x7fbdd16a01e0>, score=0.912879, total=   0.4s\n",
      "[CV] nbc__algorithm=kd_tree, vect__use_idf=True, nbc__weights=distance, vect__ngram_range=(1, 1), vect__tokenizer=<function stemming_tokenizer_no_stop_words at 0x7fbdd16a01e0> \n",
      "[CV]  nbc__algorithm=kd_tree, vect__use_idf=True, nbc__weights=distance, vect__ngram_range=(1, 1), vect__tokenizer=<function stemming_tokenizer_no_stop_words at 0x7fbdd16a01e0>, score=0.979167, total=   0.3s\n",
      "[CV] nbc__algorithm=kd_tree, vect__use_idf=False, nbc__weights=distance, vect__ngram_range=(1, 1), vect__tokenizer=<function stemming_tokenizer_no_stop_words at 0x7fbdd16a01e0> \n"
     ]
    },
    {
     "name": "stderr",
     "output_type": "stream",
     "text": [
      "/home/siddhant/python/anaconda3/lib/python3.5/site-packages/sklearn/neighbors/base.py:211: UserWarning: cannot use tree with sparse input: using brute force\n",
      "  warnings.warn(\"cannot use tree with sparse input: \"\n"
     ]
    },
    {
     "name": "stdout",
     "output_type": "stream",
     "text": [
      "[CV]  nbc__algorithm=kd_tree, vect__use_idf=True, nbc__weights=distance, vect__ngram_range=(1, 1), vect__tokenizer=<function stemming_tokenizer_no_stop_words at 0x7fbdd16a01e0>, score=0.937500, total=   0.4s\n",
      "[CV] nbc__algorithm=kd_tree, vect__use_idf=False, nbc__weights=distance, vect__ngram_range=(1, 1), vect__tokenizer=<function stemming_tokenizer_no_stop_words at 0x7fbdd16a01e0> \n"
     ]
    },
    {
     "name": "stderr",
     "output_type": "stream",
     "text": [
      "/home/siddhant/python/anaconda3/lib/python3.5/site-packages/sklearn/neighbors/base.py:211: UserWarning: cannot use tree with sparse input: using brute force\n",
      "  warnings.warn(\"cannot use tree with sparse input: \"\n"
     ]
    },
    {
     "name": "stdout",
     "output_type": "stream",
     "text": [
      "[CV]  nbc__algorithm=kd_tree, vect__use_idf=True, nbc__weights=distance, vect__ngram_range=(1, 1), vect__tokenizer=<function stemming_tokenizer_no_stop_words at 0x7fbdd16a01e0>, score=1.000000, total=   0.3s\n",
      "[CV] nbc__algorithm=kd_tree, vect__use_idf=False, nbc__weights=distance, vect__ngram_range=(1, 1), vect__tokenizer=<function stemming_tokenizer_no_stop_words at 0x7fbdd16a01e0> \n"
     ]
    },
    {
     "name": "stderr",
     "output_type": "stream",
     "text": [
      "/home/siddhant/python/anaconda3/lib/python3.5/site-packages/sklearn/neighbors/base.py:211: UserWarning: cannot use tree with sparse input: using brute force\n",
      "  warnings.warn(\"cannot use tree with sparse input: \"\n",
      "/home/siddhant/python/anaconda3/lib/python3.5/site-packages/sklearn/neighbors/base.py:211: UserWarning: cannot use tree with sparse input: using brute force\n",
      "  warnings.warn(\"cannot use tree with sparse input: \"\n",
      "/home/siddhant/python/anaconda3/lib/python3.5/site-packages/sklearn/neighbors/base.py:211: UserWarning: cannot use tree with sparse input: using brute force\n",
      "  warnings.warn(\"cannot use tree with sparse input: \"\n"
     ]
    },
    {
     "name": "stdout",
     "output_type": "stream",
     "text": [
      "[CV]  nbc__algorithm=kd_tree, vect__use_idf=True, nbc__weights=distance, vect__ngram_range=(1, 1), vect__tokenizer=<function stemming_tokenizer_no_stop_words at 0x7fbdd16a01e0>, score=0.887500, total=   0.4s\n",
      "[CV] nbc__algorithm=kd_tree, vect__use_idf=False, nbc__weights=distance, vect__ngram_range=(1, 1), vect__tokenizer=<function stemming_tokenizer_no_stop_words at 0x7fbdd16a01e0> \n",
      "[CV]  nbc__algorithm=kd_tree, vect__use_idf=False, nbc__weights=distance, vect__ngram_range=(1, 1), vect__tokenizer=<function stemming_tokenizer_no_stop_words at 0x7fbdd16a01e0>, score=0.921410, total=   0.4s\n",
      "[CV] nbc__algorithm=kd_tree, vect__use_idf=False, nbc__weights=distance, vect__ngram_range=(1, 1), vect__tokenizer=<function stemming_tokenizer_no_stop_words at 0x7fbdd16a01e0> \n",
      "[CV]  nbc__algorithm=kd_tree, vect__use_idf=False, nbc__weights=distance, vect__ngram_range=(1, 1), vect__tokenizer=<function stemming_tokenizer_no_stop_words at 0x7fbdd16a01e0>, score=0.958333, total=   0.3s\n",
      "[CV] nbc__algorithm=kd_tree, vect__use_idf=False, nbc__weights=distance, vect__ngram_range=(1, 1), vect__tokenizer=<function stemming_tokenizer_no_stop_words at 0x7fbdd16a01e0> \n"
     ]
    },
    {
     "name": "stderr",
     "output_type": "stream",
     "text": [
      "/home/siddhant/python/anaconda3/lib/python3.5/site-packages/sklearn/neighbors/base.py:211: UserWarning: cannot use tree with sparse input: using brute force\n",
      "  warnings.warn(\"cannot use tree with sparse input: \"\n"
     ]
    },
    {
     "name": "stdout",
     "output_type": "stream",
     "text": [
      "[CV]  nbc__algorithm=kd_tree, vect__use_idf=False, nbc__weights=distance, vect__ngram_range=(1, 1), vect__tokenizer=<function stemming_tokenizer_no_stop_words at 0x7fbdd16a01e0>, score=0.856538, total=   0.4s\n",
      "[CV] nbc__algorithm=kd_tree, vect__use_idf=False, nbc__weights=distance, vect__ngram_range=(1, 1), vect__tokenizer=<function stemming_tokenizer_no_stop_words at 0x7fbdd16a01e0> \n"
     ]
    },
    {
     "name": "stderr",
     "output_type": "stream",
     "text": [
      "/home/siddhant/python/anaconda3/lib/python3.5/site-packages/sklearn/neighbors/base.py:211: UserWarning: cannot use tree with sparse input: using brute force\n",
      "  warnings.warn(\"cannot use tree with sparse input: \"\n",
      "/home/siddhant/python/anaconda3/lib/python3.5/site-packages/sklearn/neighbors/base.py:211: UserWarning: cannot use tree with sparse input: using brute force\n",
      "  warnings.warn(\"cannot use tree with sparse input: \"\n",
      "/home/siddhant/python/anaconda3/lib/python3.5/site-packages/sklearn/neighbors/base.py:211: UserWarning: cannot use tree with sparse input: using brute force\n",
      "  warnings.warn(\"cannot use tree with sparse input: \"\n"
     ]
    },
    {
     "name": "stdout",
     "output_type": "stream",
     "text": [
      "[CV]  nbc__algorithm=kd_tree, vect__use_idf=False, nbc__weights=distance, vect__ngram_range=(1, 1), vect__tokenizer=<function stemming_tokenizer_no_stop_words at 0x7fbdd16a01e0>, score=0.750000, total=   0.3s\n",
      "[CV] nbc__algorithm=kd_tree, vect__use_idf=False, nbc__weights=distance, vect__ngram_range=(1, 1), vect__tokenizer=<function stemming_tokenizer_no_stop_words at 0x7fbdd16a01e0> \n",
      "[CV]  nbc__algorithm=kd_tree, vect__use_idf=False, nbc__weights=distance, vect__ngram_range=(1, 1), vect__tokenizer=<function stemming_tokenizer_no_stop_words at 0x7fbdd16a01e0>, score=0.979167, total=   0.4s\n",
      "[CV] nbc__algorithm=kd_tree, vect__use_idf=False, nbc__weights=distance, vect__ngram_range=(1, 1), vect__tokenizer=<function stemming_tokenizer_no_stop_words at 0x7fbdd16a01e0> \n",
      "[CV]  nbc__algorithm=kd_tree, vect__use_idf=False, nbc__weights=distance, vect__ngram_range=(1, 1), vect__tokenizer=<function stemming_tokenizer_no_stop_words at 0x7fbdd16a01e0>, score=0.979167, total=   0.3s\n"
     ]
    },
    {
     "name": "stderr",
     "output_type": "stream",
     "text": [
      "/home/siddhant/python/anaconda3/lib/python3.5/site-packages/sklearn/neighbors/base.py:211: UserWarning: cannot use tree with sparse input: using brute force\n",
      "  warnings.warn(\"cannot use tree with sparse input: \"\n"
     ]
    },
    {
     "name": "stdout",
     "output_type": "stream",
     "text": [
      "[CV] nbc__algorithm=kd_tree, vect__use_idf=False, nbc__weights=distance, vect__ngram_range=(1, 1), vect__tokenizer=<function stemming_tokenizer_no_stop_words at 0x7fbdd16a01e0> \n",
      "[CV]  nbc__algorithm=kd_tree, vect__use_idf=False, nbc__weights=distance, vect__ngram_range=(1, 1), vect__tokenizer=<function stemming_tokenizer_no_stop_words at 0x7fbdd16a01e0>, score=1.000000, total=   0.3s\n",
      "[CV] nbc__algorithm=kd_tree, vect__use_idf=True, nbc__weights=distance, vect__ngram_range=(1, 3), vect__tokenizer=<function stemming_tokenizer at 0x7fbdd16a0158> \n"
     ]
    },
    {
     "name": "stderr",
     "output_type": "stream",
     "text": [
      "/home/siddhant/python/anaconda3/lib/python3.5/site-packages/sklearn/neighbors/base.py:211: UserWarning: cannot use tree with sparse input: using brute force\n",
      "  warnings.warn(\"cannot use tree with sparse input: \"\n",
      "/home/siddhant/python/anaconda3/lib/python3.5/site-packages/sklearn/neighbors/base.py:211: UserWarning: cannot use tree with sparse input: using brute force\n",
      "  warnings.warn(\"cannot use tree with sparse input: \"\n"
     ]
    },
    {
     "name": "stdout",
     "output_type": "stream",
     "text": [
      "[CV]  nbc__algorithm=kd_tree, vect__use_idf=False, nbc__weights=distance, vect__ngram_range=(1, 1), vect__tokenizer=<function stemming_tokenizer_no_stop_words at 0x7fbdd16a01e0>, score=0.902244, total=   0.5s\n",
      "[CV] nbc__algorithm=kd_tree, vect__use_idf=True, nbc__weights=distance, vect__ngram_range=(1, 3), vect__tokenizer=<function stemming_tokenizer at 0x7fbdd16a0158> \n"
     ]
    },
    {
     "name": "stderr",
     "output_type": "stream",
     "text": [
      "/home/siddhant/python/anaconda3/lib/python3.5/site-packages/sklearn/neighbors/base.py:211: UserWarning: cannot use tree with sparse input: using brute force\n",
      "  warnings.warn(\"cannot use tree with sparse input: \"\n"
     ]
    },
    {
     "name": "stdout",
     "output_type": "stream",
     "text": [
      "[CV]  nbc__algorithm=kd_tree, vect__use_idf=False, nbc__weights=distance, vect__ngram_range=(1, 1), vect__tokenizer=<function stemming_tokenizer_no_stop_words at 0x7fbdd16a01e0>, score=1.000000, total=   0.5s\n",
      "[CV]  nbc__algorithm=kd_tree, vect__use_idf=False, nbc__weights=distance, vect__ngram_range=(1, 1), vect__tokenizer=<function stemming_tokenizer_no_stop_words at 0x7fbdd16a01e0>, score=0.916667, total=   0.3s\n",
      "[CV] nbc__algorithm=kd_tree, vect__use_idf=True, nbc__weights=distance, vect__ngram_range=(1, 3), vect__tokenizer=<function stemming_tokenizer at 0x7fbdd16a0158> \n",
      "[CV] nbc__algorithm=kd_tree, vect__use_idf=True, nbc__weights=distance, vect__ngram_range=(1, 3), vect__tokenizer=<function stemming_tokenizer at 0x7fbdd16a0158> \n"
     ]
    },
    {
     "name": "stderr",
     "output_type": "stream",
     "text": [
      "/home/siddhant/python/anaconda3/lib/python3.5/site-packages/sklearn/neighbors/base.py:211: UserWarning: cannot use tree with sparse input: using brute force\n",
      "  warnings.warn(\"cannot use tree with sparse input: \"\n",
      "[Parallel(n_jobs=-1)]: Done 280 tasks      | elapsed:   49.0s\n",
      "/home/siddhant/python/anaconda3/lib/python3.5/site-packages/sklearn/neighbors/base.py:211: UserWarning: cannot use tree with sparse input: using brute force\n",
      "  warnings.warn(\"cannot use tree with sparse input: \"\n"
     ]
    },
    {
     "name": "stdout",
     "output_type": "stream",
     "text": [
      "[CV]  nbc__algorithm=kd_tree, vect__use_idf=True, nbc__weights=distance, vect__ngram_range=(1, 3), vect__tokenizer=<function stemming_tokenizer at 0x7fbdd16a0158>, score=0.944615, total=   0.5s\n",
      "[CV] nbc__algorithm=kd_tree, vect__use_idf=True, nbc__weights=distance, vect__ngram_range=(1, 3), vect__tokenizer=<function stemming_tokenizer at 0x7fbdd16a0158> \n"
     ]
    },
    {
     "name": "stderr",
     "output_type": "stream",
     "text": [
      "/home/siddhant/python/anaconda3/lib/python3.5/site-packages/sklearn/neighbors/base.py:211: UserWarning: cannot use tree with sparse input: using brute force\n",
      "  warnings.warn(\"cannot use tree with sparse input: \"\n"
     ]
    },
    {
     "name": "stdout",
     "output_type": "stream",
     "text": [
      "[CV]  nbc__algorithm=kd_tree, vect__use_idf=True, nbc__weights=distance, vect__ngram_range=(1, 3), vect__tokenizer=<function stemming_tokenizer at 0x7fbdd16a0158>, score=0.666667, total=   0.3s\n",
      "[CV] nbc__algorithm=kd_tree, vect__use_idf=True, nbc__weights=distance, vect__ngram_range=(1, 3), vect__tokenizer=<function stemming_tokenizer at 0x7fbdd16a0158> \n"
     ]
    },
    {
     "name": "stderr",
     "output_type": "stream",
     "text": [
      "/home/siddhant/python/anaconda3/lib/python3.5/site-packages/sklearn/neighbors/base.py:211: UserWarning: cannot use tree with sparse input: using brute force\n",
      "  warnings.warn(\"cannot use tree with sparse input: \"\n"
     ]
    },
    {
     "name": "stdout",
     "output_type": "stream",
     "text": [
      "[CV]  nbc__algorithm=kd_tree, vect__use_idf=True, nbc__weights=distance, vect__ngram_range=(1, 3), vect__tokenizer=<function stemming_tokenizer at 0x7fbdd16a0158>, score=0.882353, total=   0.3s\n",
      "[CV] nbc__algorithm=kd_tree, vect__use_idf=True, nbc__weights=distance, vect__ngram_range=(1, 3), vect__tokenizer=<function stemming_tokenizer at 0x7fbdd16a0158> \n",
      "[CV]  nbc__algorithm=kd_tree, vect__use_idf=True, nbc__weights=distance, vect__ngram_range=(1, 3), vect__tokenizer=<function stemming_tokenizer at 0x7fbdd16a0158>, score=0.780303, total=   0.3s\n",
      "[CV] nbc__algorithm=kd_tree, vect__use_idf=True, nbc__weights=distance, vect__ngram_range=(1, 3), vect__tokenizer=<function stemming_tokenizer at 0x7fbdd16a0158> \n",
      "[CV]  nbc__algorithm=kd_tree, vect__use_idf=True, nbc__weights=distance, vect__ngram_range=(1, 3), vect__tokenizer=<function stemming_tokenizer at 0x7fbdd16a0158>, score=0.861111, total=   0.5s\n",
      "[CV] nbc__algorithm=kd_tree, vect__use_idf=True, nbc__weights=distance, vect__ngram_range=(1, 3), vect__tokenizer=<function stemming_tokenizer at 0x7fbdd16a0158> \n"
     ]
    },
    {
     "name": "stderr",
     "output_type": "stream",
     "text": [
      "/home/siddhant/python/anaconda3/lib/python3.5/site-packages/sklearn/neighbors/base.py:211: UserWarning: cannot use tree with sparse input: using brute force\n",
      "  warnings.warn(\"cannot use tree with sparse input: \"\n",
      "/home/siddhant/python/anaconda3/lib/python3.5/site-packages/sklearn/neighbors/base.py:211: UserWarning: cannot use tree with sparse input: using brute force\n",
      "  warnings.warn(\"cannot use tree with sparse input: \"\n",
      "/home/siddhant/python/anaconda3/lib/python3.5/site-packages/sklearn/neighbors/base.py:211: UserWarning: cannot use tree with sparse input: using brute force\n",
      "  warnings.warn(\"cannot use tree with sparse input: \"\n",
      "/home/siddhant/python/anaconda3/lib/python3.5/site-packages/sklearn/neighbors/base.py:211: UserWarning: cannot use tree with sparse input: using brute force\n",
      "  warnings.warn(\"cannot use tree with sparse input: \"\n"
     ]
    },
    {
     "name": "stdout",
     "output_type": "stream",
     "text": [
      "[CV]  nbc__algorithm=kd_tree, vect__use_idf=True, nbc__weights=distance, vect__ngram_range=(1, 3), vect__tokenizer=<function stemming_tokenizer at 0x7fbdd16a0158>, score=0.902244, total=   0.5s\n",
      "[CV] nbc__algorithm=kd_tree, vect__use_idf=True, nbc__weights=distance, vect__ngram_range=(1, 3), vect__tokenizer=<function stemming_tokenizer at 0x7fbdd16a0158> \n",
      "[CV]  nbc__algorithm=kd_tree, vect__use_idf=True, nbc__weights=distance, vect__ngram_range=(1, 3), vect__tokenizer=<function stemming_tokenizer at 0x7fbdd16a0158>, score=0.937500, total=   0.4s\n",
      "[CV] nbc__algorithm=kd_tree, vect__use_idf=False, nbc__weights=distance, vect__ngram_range=(1, 3), vect__tokenizer=<function stemming_tokenizer at 0x7fbdd16a0158> \n",
      "[CV]  nbc__algorithm=kd_tree, vect__use_idf=True, nbc__weights=distance, vect__ngram_range=(1, 3), vect__tokenizer=<function stemming_tokenizer at 0x7fbdd16a0158>, score=0.937500, total=   0.3s\n",
      "[CV] nbc__algorithm=kd_tree, vect__use_idf=False, nbc__weights=distance, vect__ngram_range=(1, 3), vect__tokenizer=<function stemming_tokenizer at 0x7fbdd16a0158> \n"
     ]
    },
    {
     "name": "stderr",
     "output_type": "stream",
     "text": [
      "/home/siddhant/python/anaconda3/lib/python3.5/site-packages/sklearn/neighbors/base.py:211: UserWarning: cannot use tree with sparse input: using brute force\n",
      "  warnings.warn(\"cannot use tree with sparse input: \"\n"
     ]
    },
    {
     "name": "stdout",
     "output_type": "stream",
     "text": [
      "[CV]  nbc__algorithm=kd_tree, vect__use_idf=True, nbc__weights=distance, vect__ngram_range=(1, 3), vect__tokenizer=<function stemming_tokenizer at 0x7fbdd16a0158>, score=0.979167, total=   0.3s\n",
      "[CV] nbc__algorithm=kd_tree, vect__use_idf=False, nbc__weights=distance, vect__ngram_range=(1, 3), vect__tokenizer=<function stemming_tokenizer at 0x7fbdd16a0158> \n"
     ]
    },
    {
     "name": "stderr",
     "output_type": "stream",
     "text": [
      "/home/siddhant/python/anaconda3/lib/python3.5/site-packages/sklearn/neighbors/base.py:211: UserWarning: cannot use tree with sparse input: using brute force\n",
      "  warnings.warn(\"cannot use tree with sparse input: \"\n",
      "/home/siddhant/python/anaconda3/lib/python3.5/site-packages/sklearn/neighbors/base.py:211: UserWarning: cannot use tree with sparse input: using brute force\n",
      "  warnings.warn(\"cannot use tree with sparse input: \"\n"
     ]
    },
    {
     "name": "stdout",
     "output_type": "stream",
     "text": [
      "[CV]  nbc__algorithm=kd_tree, vect__use_idf=True, nbc__weights=distance, vect__ngram_range=(1, 3), vect__tokenizer=<function stemming_tokenizer at 0x7fbdd16a0158>, score=0.784722, total=   0.3s\n",
      "[CV] nbc__algorithm=kd_tree, vect__use_idf=False, nbc__weights=distance, vect__ngram_range=(1, 3), vect__tokenizer=<function stemming_tokenizer at 0x7fbdd16a0158> \n",
      "[CV]  nbc__algorithm=kd_tree, vect__use_idf=False, nbc__weights=distance, vect__ngram_range=(1, 3), vect__tokenizer=<function stemming_tokenizer at 0x7fbdd16a0158>, score=0.882353, total=   0.3s\n",
      "[CV] nbc__algorithm=kd_tree, vect__use_idf=False, nbc__weights=distance, vect__ngram_range=(1, 3), vect__tokenizer=<function stemming_tokenizer at 0x7fbdd16a0158> \n",
      "[CV]  nbc__algorithm=kd_tree, vect__use_idf=False, nbc__weights=distance, vect__ngram_range=(1, 3), vect__tokenizer=<function stemming_tokenizer at 0x7fbdd16a0158>, score=0.944615, total=   0.4s\n",
      "[CV] nbc__algorithm=kd_tree, vect__use_idf=False, nbc__weights=distance, vect__ngram_range=(1, 3), vect__tokenizer=<function stemming_tokenizer at 0x7fbdd16a0158> \n"
     ]
    },
    {
     "name": "stderr",
     "output_type": "stream",
     "text": [
      "/home/siddhant/python/anaconda3/lib/python3.5/site-packages/sklearn/neighbors/base.py:211: UserWarning: cannot use tree with sparse input: using brute force\n",
      "  warnings.warn(\"cannot use tree with sparse input: \"\n",
      "/home/siddhant/python/anaconda3/lib/python3.5/site-packages/sklearn/neighbors/base.py:211: UserWarning: cannot use tree with sparse input: using brute force\n",
      "  warnings.warn(\"cannot use tree with sparse input: \"\n",
      "/home/siddhant/python/anaconda3/lib/python3.5/site-packages/sklearn/neighbors/base.py:211: UserWarning: cannot use tree with sparse input: using brute force\n",
      "  warnings.warn(\"cannot use tree with sparse input: \"\n",
      "/home/siddhant/python/anaconda3/lib/python3.5/site-packages/sklearn/neighbors/base.py:211: UserWarning: cannot use tree with sparse input: using brute force\n",
      "  warnings.warn(\"cannot use tree with sparse input: \"\n"
     ]
    },
    {
     "name": "stdout",
     "output_type": "stream",
     "text": [
      "[CV]  nbc__algorithm=kd_tree, vect__use_idf=False, nbc__weights=distance, vect__ngram_range=(1, 3), vect__tokenizer=<function stemming_tokenizer at 0x7fbdd16a0158>, score=0.887500, total=   0.8s\n",
      "[CV] nbc__algorithm=kd_tree, vect__use_idf=False, nbc__weights=distance, vect__ngram_range=(1, 3), vect__tokenizer=<function stemming_tokenizer at 0x7fbdd16a0158> \n",
      "[CV]  nbc__algorithm=kd_tree, vect__use_idf=False, nbc__weights=distance, vect__ngram_range=(1, 3), vect__tokenizer=<function stemming_tokenizer at 0x7fbdd16a0158>, score=0.846591, total=   0.4s\n",
      "[CV] nbc__algorithm=kd_tree, vect__use_idf=False, nbc__weights=distance, vect__ngram_range=(1, 3), vect__tokenizer=<function stemming_tokenizer at 0x7fbdd16a0158> \n",
      "[CV]  nbc__algorithm=kd_tree, vect__use_idf=False, nbc__weights=distance, vect__ngram_range=(1, 3), vect__tokenizer=<function stemming_tokenizer at 0x7fbdd16a0158>, score=0.708333, total=   0.7s\n",
      "[CV] nbc__algorithm=kd_tree, vect__use_idf=False, nbc__weights=distance, vect__ngram_range=(1, 3), vect__tokenizer=<function stemming_tokenizer at 0x7fbdd16a0158> \n"
     ]
    },
    {
     "name": "stderr",
     "output_type": "stream",
     "text": [
      "/home/siddhant/python/anaconda3/lib/python3.5/site-packages/sklearn/neighbors/base.py:211: UserWarning: cannot use tree with sparse input: using brute force\n",
      "  warnings.warn(\"cannot use tree with sparse input: \"\n"
     ]
    },
    {
     "name": "stdout",
     "output_type": "stream",
     "text": [
      "[CV]  nbc__algorithm=kd_tree, vect__use_idf=False, nbc__weights=distance, vect__ngram_range=(1, 3), vect__tokenizer=<function stemming_tokenizer at 0x7fbdd16a0158>, score=0.902244, total=   0.6s\n",
      "[CV] nbc__algorithm=kd_tree, vect__use_idf=False, nbc__weights=distance, vect__ngram_range=(1, 3), vect__tokenizer=<function stemming_tokenizer at 0x7fbdd16a0158> \n"
     ]
    },
    {
     "name": "stderr",
     "output_type": "stream",
     "text": [
      "/home/siddhant/python/anaconda3/lib/python3.5/site-packages/sklearn/neighbors/base.py:211: UserWarning: cannot use tree with sparse input: using brute force\n",
      "  warnings.warn(\"cannot use tree with sparse input: \"\n"
     ]
    },
    {
     "name": "stdout",
     "output_type": "stream",
     "text": [
      "[CV]  nbc__algorithm=kd_tree, vect__use_idf=False, nbc__weights=distance, vect__ngram_range=(1, 3), vect__tokenizer=<function stemming_tokenizer at 0x7fbdd16a0158>, score=0.979167, total=   0.4s\n",
      "[CV] nbc__algorithm=kd_tree, vect__use_idf=True, nbc__weights=distance, vect__ngram_range=(1, 3), vect__tokenizer=<function stemming_tokenizer_no_stop_words at 0x7fbdd16a01e0> \n"
     ]
    },
    {
     "name": "stderr",
     "output_type": "stream",
     "text": [
      "/home/siddhant/python/anaconda3/lib/python3.5/site-packages/sklearn/neighbors/base.py:211: UserWarning: cannot use tree with sparse input: using brute force\n",
      "  warnings.warn(\"cannot use tree with sparse input: \"\n",
      "/home/siddhant/python/anaconda3/lib/python3.5/site-packages/sklearn/neighbors/base.py:211: UserWarning: cannot use tree with sparse input: using brute force\n",
      "  warnings.warn(\"cannot use tree with sparse input: \"\n"
     ]
    },
    {
     "name": "stdout",
     "output_type": "stream",
     "text": [
      "[CV]  nbc__algorithm=kd_tree, vect__use_idf=False, nbc__weights=distance, vect__ngram_range=(1, 3), vect__tokenizer=<function stemming_tokenizer at 0x7fbdd16a0158>, score=0.961538, total=   0.5s\n",
      "[CV] nbc__algorithm=kd_tree, vect__use_idf=True, nbc__weights=distance, vect__ngram_range=(1, 3), vect__tokenizer=<function stemming_tokenizer_no_stop_words at 0x7fbdd16a01e0> \n"
     ]
    },
    {
     "name": "stderr",
     "output_type": "stream",
     "text": [
      "/home/siddhant/python/anaconda3/lib/python3.5/site-packages/sklearn/neighbors/base.py:211: UserWarning: cannot use tree with sparse input: using brute force\n",
      "  warnings.warn(\"cannot use tree with sparse input: \"\n"
     ]
    },
    {
     "name": "stdout",
     "output_type": "stream",
     "text": [
      "[CV]  nbc__algorithm=kd_tree, vect__use_idf=False, nbc__weights=distance, vect__ngram_range=(1, 3), vect__tokenizer=<function stemming_tokenizer at 0x7fbdd16a0158>, score=0.958333, total=   0.5s\n",
      "[CV] nbc__algorithm=kd_tree, vect__use_idf=True, nbc__weights=distance, vect__ngram_range=(1, 3), vect__tokenizer=<function stemming_tokenizer_no_stop_words at 0x7fbdd16a01e0> \n",
      "[CV]  nbc__algorithm=kd_tree, vect__use_idf=False, nbc__weights=distance, vect__ngram_range=(1, 3), vect__tokenizer=<function stemming_tokenizer at 0x7fbdd16a0158>, score=0.816667, total=   0.4s\n",
      "[CV] nbc__algorithm=kd_tree, vect__use_idf=True, nbc__weights=distance, vect__ngram_range=(1, 3), vect__tokenizer=<function stemming_tokenizer_no_stop_words at 0x7fbdd16a01e0> \n"
     ]
    },
    {
     "name": "stderr",
     "output_type": "stream",
     "text": [
      "/home/siddhant/python/anaconda3/lib/python3.5/site-packages/sklearn/neighbors/base.py:211: UserWarning: cannot use tree with sparse input: using brute force\n",
      "  warnings.warn(\"cannot use tree with sparse input: \"\n"
     ]
    },
    {
     "name": "stdout",
     "output_type": "stream",
     "text": [
      "[CV]  nbc__algorithm=kd_tree, vect__use_idf=True, nbc__weights=distance, vect__ngram_range=(1, 3), vect__tokenizer=<function stemming_tokenizer_no_stop_words at 0x7fbdd16a01e0>, score=0.835245, total=   0.3s\n",
      "[CV] nbc__algorithm=kd_tree, vect__use_idf=True, nbc__weights=distance, vect__ngram_range=(1, 3), vect__tokenizer=<function stemming_tokenizer_no_stop_words at 0x7fbdd16a01e0> \n"
     ]
    },
    {
     "name": "stderr",
     "output_type": "stream",
     "text": [
      "/home/siddhant/python/anaconda3/lib/python3.5/site-packages/sklearn/neighbors/base.py:211: UserWarning: cannot use tree with sparse input: using brute force\n",
      "  warnings.warn(\"cannot use tree with sparse input: \"\n"
     ]
    },
    {
     "name": "stdout",
     "output_type": "stream",
     "text": [
      "[CV]  nbc__algorithm=kd_tree, vect__use_idf=True, nbc__weights=distance, vect__ngram_range=(1, 3), vect__tokenizer=<function stemming_tokenizer_no_stop_words at 0x7fbdd16a01e0>, score=0.881538, total=   0.4s\n",
      "[CV] nbc__algorithm=kd_tree, vect__use_idf=True, nbc__weights=distance, vect__ngram_range=(1, 3), vect__tokenizer=<function stemming_tokenizer_no_stop_words at 0x7fbdd16a01e0> \n"
     ]
    },
    {
     "name": "stderr",
     "output_type": "stream",
     "text": [
      "/home/siddhant/python/anaconda3/lib/python3.5/site-packages/sklearn/neighbors/base.py:211: UserWarning: cannot use tree with sparse input: using brute force\n",
      "  warnings.warn(\"cannot use tree with sparse input: \"\n",
      "/home/siddhant/python/anaconda3/lib/python3.5/site-packages/sklearn/neighbors/base.py:211: UserWarning: cannot use tree with sparse input: using brute force\n",
      "  warnings.warn(\"cannot use tree with sparse input: \"\n"
     ]
    },
    {
     "name": "stdout",
     "output_type": "stream",
     "text": [
      "[CV]  nbc__algorithm=kd_tree, vect__use_idf=True, nbc__weights=distance, vect__ngram_range=(1, 3), vect__tokenizer=<function stemming_tokenizer_no_stop_words at 0x7fbdd16a01e0>, score=0.958333, total=   0.4s\n",
      "[CV] nbc__algorithm=kd_tree, vect__use_idf=True, nbc__weights=distance, vect__ngram_range=(1, 3), vect__tokenizer=<function stemming_tokenizer_no_stop_words at 0x7fbdd16a01e0> \n"
     ]
    },
    {
     "name": "stderr",
     "output_type": "stream",
     "text": [
      "/home/siddhant/python/anaconda3/lib/python3.5/site-packages/sklearn/neighbors/base.py:211: UserWarning: cannot use tree with sparse input: using brute force\n",
      "  warnings.warn(\"cannot use tree with sparse input: \"\n"
     ]
    },
    {
     "name": "stdout",
     "output_type": "stream",
     "text": [
      "[CV]  nbc__algorithm=kd_tree, vect__use_idf=True, nbc__weights=distance, vect__ngram_range=(1, 3), vect__tokenizer=<function stemming_tokenizer_no_stop_words at 0x7fbdd16a01e0>, score=0.803571, total=   0.5s\n",
      "[CV] nbc__algorithm=kd_tree, vect__use_idf=True, nbc__weights=distance, vect__ngram_range=(1, 3), vect__tokenizer=<function stemming_tokenizer_no_stop_words at 0x7fbdd16a01e0> \n",
      "[CV]  nbc__algorithm=kd_tree, vect__use_idf=True, nbc__weights=distance, vect__ngram_range=(1, 3), vect__tokenizer=<function stemming_tokenizer_no_stop_words at 0x7fbdd16a01e0>, score=0.861111, total=   0.4s\n",
      "[CV] nbc__algorithm=kd_tree, vect__use_idf=True, nbc__weights=distance, vect__ngram_range=(1, 3), vect__tokenizer=<function stemming_tokenizer_no_stop_words at 0x7fbdd16a01e0> \n"
     ]
    },
    {
     "name": "stderr",
     "output_type": "stream",
     "text": [
      "/home/siddhant/python/anaconda3/lib/python3.5/site-packages/sklearn/neighbors/base.py:211: UserWarning: cannot use tree with sparse input: using brute force\n",
      "  warnings.warn(\"cannot use tree with sparse input: \"\n",
      "[Parallel(n_jobs=-1)]: Done 305 tasks      | elapsed:   54.2s\n"
     ]
    },
    {
     "name": "stdout",
     "output_type": "stream",
     "text": [
      "[CV]  nbc__algorithm=kd_tree, vect__use_idf=True, nbc__weights=distance, vect__ngram_range=(1, 3), vect__tokenizer=<function stemming_tokenizer_no_stop_words at 0x7fbdd16a01e0>, score=0.958333, total=   0.4s\n",
      "[CV] nbc__algorithm=kd_tree, vect__use_idf=True, nbc__weights=distance, vect__ngram_range=(1, 3), vect__tokenizer=<function stemming_tokenizer_no_stop_words at 0x7fbdd16a01e0> \n"
     ]
    },
    {
     "name": "stderr",
     "output_type": "stream",
     "text": [
      "/home/siddhant/python/anaconda3/lib/python3.5/site-packages/sklearn/neighbors/base.py:211: UserWarning: cannot use tree with sparse input: using brute force\n",
      "  warnings.warn(\"cannot use tree with sparse input: \"\n"
     ]
    },
    {
     "name": "stdout",
     "output_type": "stream",
     "text": [
      "[CV]  nbc__algorithm=kd_tree, vect__use_idf=True, nbc__weights=distance, vect__ngram_range=(1, 3), vect__tokenizer=<function stemming_tokenizer_no_stop_words at 0x7fbdd16a01e0>, score=0.979167, total=   0.4s\n",
      "[CV] nbc__algorithm=kd_tree, vect__use_idf=False, nbc__weights=distance, vect__ngram_range=(1, 3), vect__tokenizer=<function stemming_tokenizer_no_stop_words at 0x7fbdd16a01e0> \n"
     ]
    },
    {
     "name": "stderr",
     "output_type": "stream",
     "text": [
      "/home/siddhant/python/anaconda3/lib/python3.5/site-packages/sklearn/neighbors/base.py:211: UserWarning: cannot use tree with sparse input: using brute force\n",
      "  warnings.warn(\"cannot use tree with sparse input: \"\n",
      "/home/siddhant/python/anaconda3/lib/python3.5/site-packages/sklearn/neighbors/base.py:211: UserWarning: cannot use tree with sparse input: using brute force\n",
      "  warnings.warn(\"cannot use tree with sparse input: \"\n"
     ]
    },
    {
     "name": "stdout",
     "output_type": "stream",
     "text": [
      "[CV]  nbc__algorithm=kd_tree, vect__use_idf=True, nbc__weights=distance, vect__ngram_range=(1, 3), vect__tokenizer=<function stemming_tokenizer_no_stop_words at 0x7fbdd16a01e0>, score=0.912879, total=   0.4s\n",
      "[CV] nbc__algorithm=kd_tree, vect__use_idf=False, nbc__weights=distance, vect__ngram_range=(1, 3), vect__tokenizer=<function stemming_tokenizer_no_stop_words at 0x7fbdd16a01e0> \n",
      "[CV]  nbc__algorithm=kd_tree, vect__use_idf=True, nbc__weights=distance, vect__ngram_range=(1, 3), vect__tokenizer=<function stemming_tokenizer_no_stop_words at 0x7fbdd16a01e0>, score=0.979167, total=   0.6s\n",
      "[CV] nbc__algorithm=kd_tree, vect__use_idf=False, nbc__weights=distance, vect__ngram_range=(1, 3), vect__tokenizer=<function stemming_tokenizer_no_stop_words at 0x7fbdd16a01e0> \n"
     ]
    },
    {
     "name": "stderr",
     "output_type": "stream",
     "text": [
      "/home/siddhant/python/anaconda3/lib/python3.5/site-packages/sklearn/neighbors/base.py:211: UserWarning: cannot use tree with sparse input: using brute force\n",
      "  warnings.warn(\"cannot use tree with sparse input: \"\n",
      "/home/siddhant/python/anaconda3/lib/python3.5/site-packages/sklearn/neighbors/base.py:211: UserWarning: cannot use tree with sparse input: using brute force\n",
      "  warnings.warn(\"cannot use tree with sparse input: \"\n"
     ]
    },
    {
     "name": "stdout",
     "output_type": "stream",
     "text": [
      "[CV]  nbc__algorithm=kd_tree, vect__use_idf=True, nbc__weights=distance, vect__ngram_range=(1, 3), vect__tokenizer=<function stemming_tokenizer_no_stop_words at 0x7fbdd16a01e0>, score=0.784722, total=   0.5s\n",
      "[CV] nbc__algorithm=kd_tree, vect__use_idf=False, nbc__weights=distance, vect__ngram_range=(1, 3), vect__tokenizer=<function stemming_tokenizer_no_stop_words at 0x7fbdd16a01e0> \n",
      "[CV]  nbc__algorithm=kd_tree, vect__use_idf=False, nbc__weights=distance, vect__ngram_range=(1, 3), vect__tokenizer=<function stemming_tokenizer_no_stop_words at 0x7fbdd16a01e0>, score=0.876154, total=   0.5s\n",
      "[CV] nbc__algorithm=kd_tree, vect__use_idf=False, nbc__weights=distance, vect__ngram_range=(1, 3), vect__tokenizer=<function stemming_tokenizer_no_stop_words at 0x7fbdd16a01e0> \n",
      "[CV]  nbc__algorithm=kd_tree, vect__use_idf=False, nbc__weights=distance, vect__ngram_range=(1, 3), vect__tokenizer=<function stemming_tokenizer_no_stop_words at 0x7fbdd16a01e0>, score=0.856538, total=   0.3s\n",
      "[CV] nbc__algorithm=kd_tree, vect__use_idf=False, nbc__weights=distance, vect__ngram_range=(1, 3), vect__tokenizer=<function stemming_tokenizer_no_stop_words at 0x7fbdd16a01e0> \n"
     ]
    },
    {
     "name": "stderr",
     "output_type": "stream",
     "text": [
      "/home/siddhant/python/anaconda3/lib/python3.5/site-packages/sklearn/neighbors/base.py:211: UserWarning: cannot use tree with sparse input: using brute force\n",
      "  warnings.warn(\"cannot use tree with sparse input: \"\n",
      "/home/siddhant/python/anaconda3/lib/python3.5/site-packages/sklearn/neighbors/base.py:211: UserWarning: cannot use tree with sparse input: using brute force\n",
      "  warnings.warn(\"cannot use tree with sparse input: \"\n",
      "/home/siddhant/python/anaconda3/lib/python3.5/site-packages/sklearn/neighbors/base.py:211: UserWarning: cannot use tree with sparse input: using brute force\n",
      "  warnings.warn(\"cannot use tree with sparse input: \"\n"
     ]
    },
    {
     "name": "stdout",
     "output_type": "stream",
     "text": [
      "[CV]  nbc__algorithm=kd_tree, vect__use_idf=False, nbc__weights=distance, vect__ngram_range=(1, 3), vect__tokenizer=<function stemming_tokenizer_no_stop_words at 0x7fbdd16a01e0>, score=0.958333, total=   0.5s\n"
     ]
    },
    {
     "name": "stderr",
     "output_type": "stream",
     "text": [
      "/home/siddhant/python/anaconda3/lib/python3.5/site-packages/sklearn/neighbors/base.py:211: UserWarning: cannot use tree with sparse input: using brute force\n",
      "  warnings.warn(\"cannot use tree with sparse input: \"\n"
     ]
    },
    {
     "name": "stdout",
     "output_type": "stream",
     "text": [
      "[CV] nbc__algorithm=kd_tree, vect__use_idf=False, nbc__weights=distance, vect__ngram_range=(1, 3), vect__tokenizer=<function stemming_tokenizer_no_stop_words at 0x7fbdd16a01e0> \n",
      "[CV]  nbc__algorithm=kd_tree, vect__use_idf=False, nbc__weights=distance, vect__ngram_range=(1, 3), vect__tokenizer=<function stemming_tokenizer_no_stop_words at 0x7fbdd16a01e0>, score=0.979167, total=   0.4s\n",
      "[CV] nbc__algorithm=kd_tree, vect__use_idf=False, nbc__weights=distance, vect__ngram_range=(1, 3), vect__tokenizer=<function stemming_tokenizer_no_stop_words at 0x7fbdd16a01e0> \n",
      "[CV]  nbc__algorithm=kd_tree, vect__use_idf=False, nbc__weights=distance, vect__ngram_range=(1, 3), vect__tokenizer=<function stemming_tokenizer_no_stop_words at 0x7fbdd16a01e0>, score=0.803571, total=   0.4s\n",
      "[CV] nbc__algorithm=kd_tree, vect__use_idf=False, nbc__weights=distance, vect__ngram_range=(1, 3), vect__tokenizer=<function stemming_tokenizer_no_stop_words at 0x7fbdd16a01e0> \n",
      "[CV]  nbc__algorithm=kd_tree, vect__use_idf=False, nbc__weights=distance, vect__ngram_range=(1, 3), vect__tokenizer=<function stemming_tokenizer_no_stop_words at 0x7fbdd16a01e0>, score=0.979167, total=   0.5s\n",
      "[CV] nbc__algorithm=kd_tree, vect__use_idf=False, nbc__weights=distance, vect__ngram_range=(1, 3), vect__tokenizer=<function stemming_tokenizer_no_stop_words at 0x7fbdd16a01e0> \n"
     ]
    },
    {
     "name": "stderr",
     "output_type": "stream",
     "text": [
      "/home/siddhant/python/anaconda3/lib/python3.5/site-packages/sklearn/neighbors/base.py:211: UserWarning: cannot use tree with sparse input: using brute force\n",
      "  warnings.warn(\"cannot use tree with sparse input: \"\n",
      "/home/siddhant/python/anaconda3/lib/python3.5/site-packages/sklearn/neighbors/base.py:211: UserWarning: cannot use tree with sparse input: using brute force\n",
      "  warnings.warn(\"cannot use tree with sparse input: \"\n",
      "/home/siddhant/python/anaconda3/lib/python3.5/site-packages/sklearn/neighbors/base.py:211: UserWarning: cannot use tree with sparse input: using brute force\n",
      "  warnings.warn(\"cannot use tree with sparse input: \"\n",
      "/home/siddhant/python/anaconda3/lib/python3.5/site-packages/sklearn/neighbors/base.py:211: UserWarning: cannot use tree with sparse input: using brute force\n",
      "  warnings.warn(\"cannot use tree with sparse input: \"\n"
     ]
    },
    {
     "name": "stdout",
     "output_type": "stream",
     "text": [
      "[CV]  nbc__algorithm=kd_tree, vect__use_idf=False, nbc__weights=distance, vect__ngram_range=(1, 3), vect__tokenizer=<function stemming_tokenizer_no_stop_words at 0x7fbdd16a01e0>, score=0.958333, total=   0.3s\n",
      "[CV]  nbc__algorithm=kd_tree, vect__use_idf=False, nbc__weights=distance, vect__ngram_range=(1, 3), vect__tokenizer=<function stemming_tokenizer_no_stop_words at 0x7fbdd16a01e0>, score=0.937500, total=   0.4s\n",
      "[CV]  nbc__algorithm=kd_tree, vect__use_idf=False, nbc__weights=distance, vect__ngram_range=(1, 3), vect__tokenizer=<function stemming_tokenizer_no_stop_words at 0x7fbdd16a01e0>, score=0.916667, total=   0.3s\n",
      "[CV]  nbc__algorithm=kd_tree, vect__use_idf=False, nbc__weights=distance, vect__ngram_range=(1, 3), vect__tokenizer=<function stemming_tokenizer_no_stop_words at 0x7fbdd16a01e0>, score=1.000000, total=   0.7s\n"
     ]
    },
    {
     "name": "stderr",
     "output_type": "stream",
     "text": [
      "[Parallel(n_jobs=-1)]: Done 320 out of 320 | elapsed:   56.9s finished\n",
      "/home/siddhant/python/anaconda3/lib/python3.5/site-packages/sklearn/neighbors/base.py:211: UserWarning: cannot use tree with sparse input: using brute force\n",
      "  warnings.warn(\"cannot use tree with sparse input: \"\n",
      "/home/siddhant/python/anaconda3/lib/python3.5/site-packages/sklearn/model_selection/_search.py:667: DeprecationWarning: The grid_scores_ attribute was deprecated in version 0.18 in favor of the more elaborate cv_results_ attribute. The grid_scores_ attribute will not be available from 0.20\n",
      "  DeprecationWarning)\n"
     ]
    },
    {
     "data": {
      "text/plain": [
       "[mean: 0.84443, std: 0.10015, params: {'nbc__algorithm': 'ball_tree', 'vect__use_idf': True, 'nbc__weights': 'uniform', 'vect__ngram_range': (1, 1), 'vect__tokenizer': <function stemming_tokenizer at 0x7fbdd16a0158>},\n",
       " mean: 0.87099, std: 0.08502, params: {'nbc__algorithm': 'ball_tree', 'vect__use_idf': False, 'nbc__weights': 'uniform', 'vect__ngram_range': (1, 1), 'vect__tokenizer': <function stemming_tokenizer at 0x7fbdd16a0158>},\n",
       " mean: 0.90492, std: 0.06329, params: {'nbc__algorithm': 'ball_tree', 'vect__use_idf': True, 'nbc__weights': 'uniform', 'vect__ngram_range': (1, 1), 'vect__tokenizer': <function stemming_tokenizer_no_stop_words at 0x7fbdd16a01e0>},\n",
       " mean: 0.91359, std: 0.07997, params: {'nbc__algorithm': 'ball_tree', 'vect__use_idf': False, 'nbc__weights': 'uniform', 'vect__ngram_range': (1, 1), 'vect__tokenizer': <function stemming_tokenizer_no_stop_words at 0x7fbdd16a01e0>},\n",
       " mean: 0.84767, std: 0.10095, params: {'nbc__algorithm': 'ball_tree', 'vect__use_idf': True, 'nbc__weights': 'uniform', 'vect__ngram_range': (1, 3), 'vect__tokenizer': <function stemming_tokenizer at 0x7fbdd16a0158>},\n",
       " mean: 0.86937, std: 0.08216, params: {'nbc__algorithm': 'ball_tree', 'vect__use_idf': False, 'nbc__weights': 'uniform', 'vect__ngram_range': (1, 3), 'vect__tokenizer': <function stemming_tokenizer at 0x7fbdd16a0158>},\n",
       " mean: 0.88115, std: 0.07054, params: {'nbc__algorithm': 'ball_tree', 'vect__use_idf': True, 'nbc__weights': 'uniform', 'vect__ngram_range': (1, 3), 'vect__tokenizer': <function stemming_tokenizer_no_stop_words at 0x7fbdd16a01e0>},\n",
       " mean: 0.91241, std: 0.06700, params: {'nbc__algorithm': 'ball_tree', 'vect__use_idf': False, 'nbc__weights': 'uniform', 'vect__ngram_range': (1, 3), 'vect__tokenizer': <function stemming_tokenizer_no_stop_words at 0x7fbdd16a01e0>},\n",
       " mean: 0.86905, std: 0.08904, params: {'nbc__algorithm': 'ball_tree', 'vect__use_idf': True, 'nbc__weights': 'distance', 'vect__ngram_range': (1, 1), 'vect__tokenizer': <function stemming_tokenizer at 0x7fbdd16a0158>},\n",
       " mean: 0.88897, std: 0.08245, params: {'nbc__algorithm': 'ball_tree', 'vect__use_idf': False, 'nbc__weights': 'distance', 'vect__ngram_range': (1, 1), 'vect__tokenizer': <function stemming_tokenizer at 0x7fbdd16a0158>},\n",
       " mean: 0.91676, std: 0.05636, params: {'nbc__algorithm': 'ball_tree', 'vect__use_idf': True, 'nbc__weights': 'distance', 'vect__ngram_range': (1, 1), 'vect__tokenizer': <function stemming_tokenizer_no_stop_words at 0x7fbdd16a01e0>},\n",
       " mean: 0.92604, std: 0.07357, params: {'nbc__algorithm': 'ball_tree', 'vect__use_idf': False, 'nbc__weights': 'distance', 'vect__ngram_range': (1, 1), 'vect__tokenizer': <function stemming_tokenizer_no_stop_words at 0x7fbdd16a01e0>},\n",
       " mean: 0.86800, std: 0.09191, params: {'nbc__algorithm': 'ball_tree', 'vect__use_idf': True, 'nbc__weights': 'distance', 'vect__ngram_range': (1, 3), 'vect__tokenizer': <function stemming_tokenizer at 0x7fbdd16a0158>},\n",
       " mean: 0.88894, std: 0.07822, params: {'nbc__algorithm': 'ball_tree', 'vect__use_idf': False, 'nbc__weights': 'distance', 'vect__ngram_range': (1, 3), 'vect__tokenizer': <function stemming_tokenizer at 0x7fbdd16a0158>},\n",
       " mean: 0.89510, std: 0.06923, params: {'nbc__algorithm': 'ball_tree', 'vect__use_idf': True, 'nbc__weights': 'distance', 'vect__ngram_range': (1, 3), 'vect__tokenizer': <function stemming_tokenizer_no_stop_words at 0x7fbdd16a01e0>},\n",
       " mean: 0.92605, std: 0.05978, params: {'nbc__algorithm': 'ball_tree', 'vect__use_idf': False, 'nbc__weights': 'distance', 'vect__ngram_range': (1, 3), 'vect__tokenizer': <function stemming_tokenizer_no_stop_words at 0x7fbdd16a01e0>},\n",
       " mean: 0.84443, std: 0.10015, params: {'nbc__algorithm': 'kd_tree', 'vect__use_idf': True, 'nbc__weights': 'uniform', 'vect__ngram_range': (1, 1), 'vect__tokenizer': <function stemming_tokenizer at 0x7fbdd16a0158>},\n",
       " mean: 0.87099, std: 0.08502, params: {'nbc__algorithm': 'kd_tree', 'vect__use_idf': False, 'nbc__weights': 'uniform', 'vect__ngram_range': (1, 1), 'vect__tokenizer': <function stemming_tokenizer at 0x7fbdd16a0158>},\n",
       " mean: 0.90492, std: 0.06329, params: {'nbc__algorithm': 'kd_tree', 'vect__use_idf': True, 'nbc__weights': 'uniform', 'vect__ngram_range': (1, 1), 'vect__tokenizer': <function stemming_tokenizer_no_stop_words at 0x7fbdd16a01e0>},\n",
       " mean: 0.91359, std: 0.07997, params: {'nbc__algorithm': 'kd_tree', 'vect__use_idf': False, 'nbc__weights': 'uniform', 'vect__ngram_range': (1, 1), 'vect__tokenizer': <function stemming_tokenizer_no_stop_words at 0x7fbdd16a01e0>},\n",
       " mean: 0.84767, std: 0.10095, params: {'nbc__algorithm': 'kd_tree', 'vect__use_idf': True, 'nbc__weights': 'uniform', 'vect__ngram_range': (1, 3), 'vect__tokenizer': <function stemming_tokenizer at 0x7fbdd16a0158>},\n",
       " mean: 0.86937, std: 0.08216, params: {'nbc__algorithm': 'kd_tree', 'vect__use_idf': False, 'nbc__weights': 'uniform', 'vect__ngram_range': (1, 3), 'vect__tokenizer': <function stemming_tokenizer at 0x7fbdd16a0158>},\n",
       " mean: 0.88115, std: 0.07054, params: {'nbc__algorithm': 'kd_tree', 'vect__use_idf': True, 'nbc__weights': 'uniform', 'vect__ngram_range': (1, 3), 'vect__tokenizer': <function stemming_tokenizer_no_stop_words at 0x7fbdd16a01e0>},\n",
       " mean: 0.91241, std: 0.06700, params: {'nbc__algorithm': 'kd_tree', 'vect__use_idf': False, 'nbc__weights': 'uniform', 'vect__ngram_range': (1, 3), 'vect__tokenizer': <function stemming_tokenizer_no_stop_words at 0x7fbdd16a01e0>},\n",
       " mean: 0.86905, std: 0.08904, params: {'nbc__algorithm': 'kd_tree', 'vect__use_idf': True, 'nbc__weights': 'distance', 'vect__ngram_range': (1, 1), 'vect__tokenizer': <function stemming_tokenizer at 0x7fbdd16a0158>},\n",
       " mean: 0.88897, std: 0.08245, params: {'nbc__algorithm': 'kd_tree', 'vect__use_idf': False, 'nbc__weights': 'distance', 'vect__ngram_range': (1, 1), 'vect__tokenizer': <function stemming_tokenizer at 0x7fbdd16a0158>},\n",
       " mean: 0.91676, std: 0.05636, params: {'nbc__algorithm': 'kd_tree', 'vect__use_idf': True, 'nbc__weights': 'distance', 'vect__ngram_range': (1, 1), 'vect__tokenizer': <function stemming_tokenizer_no_stop_words at 0x7fbdd16a01e0>},\n",
       " mean: 0.92604, std: 0.07357, params: {'nbc__algorithm': 'kd_tree', 'vect__use_idf': False, 'nbc__weights': 'distance', 'vect__ngram_range': (1, 1), 'vect__tokenizer': <function stemming_tokenizer_no_stop_words at 0x7fbdd16a01e0>},\n",
       " mean: 0.86800, std: 0.09191, params: {'nbc__algorithm': 'kd_tree', 'vect__use_idf': True, 'nbc__weights': 'distance', 'vect__ngram_range': (1, 3), 'vect__tokenizer': <function stemming_tokenizer at 0x7fbdd16a0158>},\n",
       " mean: 0.88894, std: 0.07822, params: {'nbc__algorithm': 'kd_tree', 'vect__use_idf': False, 'nbc__weights': 'distance', 'vect__ngram_range': (1, 3), 'vect__tokenizer': <function stemming_tokenizer at 0x7fbdd16a0158>},\n",
       " mean: 0.89510, std: 0.06923, params: {'nbc__algorithm': 'kd_tree', 'vect__use_idf': True, 'nbc__weights': 'distance', 'vect__ngram_range': (1, 3), 'vect__tokenizer': <function stemming_tokenizer_no_stop_words at 0x7fbdd16a01e0>},\n",
       " mean: 0.92605, std: 0.05978, params: {'nbc__algorithm': 'kd_tree', 'vect__use_idf': False, 'nbc__weights': 'distance', 'vect__ngram_range': (1, 3), 'vect__tokenizer': <function stemming_tokenizer_no_stop_words at 0x7fbdd16a01e0>}]"
      ]
     },
     "execution_count": 5,
     "metadata": {},
     "output_type": "execute_result"
    }
   ],
   "source": [
    "grid_fit=grid_search.fit(X_train, Y_train)\n",
    "grid_fit.grid_scores_"
   ]
  },
  {
   "cell_type": "code",
   "execution_count": 32,
   "metadata": {
    "collapsed": true
   },
   "outputs": [],
   "source": []
  },
  {
   "cell_type": "code",
   "execution_count": 6,
   "metadata": {
    "collapsed": false
   },
   "outputs": [
    {
     "name": "stdout",
     "output_type": "stream",
     "text": [
      "\n",
      "Best Estimator:\n",
      "Pipeline(steps=[('vect', TfidfVectorizer(analyzer='word', binary=False, decode_error='strict',\n",
      "        dtype=<class 'numpy.int64'>, encoding='utf-8', input='content',\n",
      "        lowercase=True, max_df=1.0, max_features=None, min_df=1,\n",
      "        ngram_range=(1, 3), norm='l2', preprocessor=None, smooth_idf=True,\n",
      "  ...wski',\n",
      "           metric_params=None, n_jobs=1, n_neighbors=5, p=2,\n",
      "           weights='distance'))])\n",
      "\n",
      "Best Parameters:\n",
      "{'nbc__algorithm': 'ball_tree',\n",
      " 'nbc__weights': 'distance',\n",
      " 'vect__ngram_range': (1, 3),\n",
      " 'vect__tokenizer': <function stemming_tokenizer_no_stop_words at 0x7fbdd16a01e0>,\n",
      " 'vect__use_idf': False}\n",
      "\n",
      "Used Scorer Function:\n",
      "make_scorer(average_precision_score, average=weighted)\n",
      "\n",
      "Number of Folds:\n",
      "10\n",
      "\n"
     ]
    }
   ],
   "source": [
    "print()\n",
    "print(\"Best Estimator:\")\n",
    "pp.pprint(grid_search.best_estimator_)\n",
    "print()\n",
    "print(\"Best Parameters:\")\n",
    "pp.pprint(grid_search.best_params_)\n",
    "print()\n",
    "print(\"Used Scorer Function:\")\n",
    "pp.pprint(grid_search.scorer_)\n",
    "print()\n",
    "print(\"Number of Folds:\")\n",
    "pp.pprint(grid_search.n_splits_)\n",
    "print()"
   ]
  },
  {
   "cell_type": "code",
   "execution_count": 7,
   "metadata": {
    "collapsed": false
   },
   "outputs": [
    {
     "name": "stdout",
     "output_type": "stream",
     "text": [
      "\n",
      "----------------------------------------------------\n",
      "             precision    recall  f1-score   support\n",
      "\n",
      "        Ham       0.81      0.98      0.89        52\n",
      "       Spam       0.98      0.77      0.86        53\n",
      "\n",
      "avg / total       0.89      0.88      0.87       105\n",
      "\n",
      "----------------------------------------------------\n",
      "\n",
      "\n",
      "Confusion Matrix: True-Classes X Predicted-Classes\n",
      "[[51  1]\n",
      " [12 41]]\n",
      "\n"
     ]
    }
   ],
   "source": [
    "\n",
    "\n",
    "#Evaluation\n",
    "Y_predicted = grid_search.predict(X_test)\n",
    "\n",
    "# Evaluate the performance of the classifier on the original Test-Set\n",
    "output_classification_report = metrics.classification_report(\n",
    "                                    Y_test,\n",
    "                                    Y_predicted,\n",
    "                                    target_names=target_names)\n",
    "print()\n",
    "print (\"----------------------------------------------------\")\n",
    "print(output_classification_report)\n",
    "print (\"----------------------------------------------------\")\n",
    "print()\n",
    "\n",
    "# Compute the confusion matrix\n",
    "confusion_matrix = metrics.confusion_matrix(Y_test, Y_predicted)\n",
    "print()\n",
    "print(\"Confusion Matrix: True-Classes X Predicted-Classes\")\n",
    "print(confusion_matrix)\n",
    "print()"
   ]
  },
  {
   "cell_type": "code",
   "execution_count": 8,
   "metadata": {
    "collapsed": false
   },
   "outputs": [
    {
     "data": {
      "text/plain": [
       "(0.76987454918344078, 0.87619047619047619)"
      ]
     },
     "execution_count": 8,
     "metadata": {},
     "output_type": "execute_result"
    }
   ],
   "source": [
    "#Mathews_core coeff,#Normalized accuracy \n",
    "\n",
    "metrics.matthews_corrcoef(Y_test,Y_predicted),metrics.accuracy_score(Y_test,Y_predicted)\n"
   ]
  }
 ],
 "metadata": {
  "anaconda-cloud": {},
  "kernelspec": {
   "display_name": "Python [default]",
   "language": "python",
   "name": "python3"
  },
  "language_info": {
   "codemirror_mode": {
    "name": "ipython",
    "version": 3
   },
   "file_extension": ".py",
   "mimetype": "text/x-python",
   "name": "python",
   "nbconvert_exporter": "python",
   "pygments_lexer": "ipython3",
   "version": "3.5.2"
  }
 },
 "nbformat": 4,
 "nbformat_minor": 1
}
