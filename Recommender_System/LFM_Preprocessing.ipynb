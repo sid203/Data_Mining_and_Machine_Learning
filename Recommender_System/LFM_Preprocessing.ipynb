{
 "cells": [
  {
   "cell_type": "code",
   "execution_count": 6,
   "metadata": {
    "collapsed": false
   },
   "outputs": [],
   "source": [
    "#Preprocessing\n",
    "import numpy as np\n",
    "import math \n",
    "import pandas as pd\n",
    "import pickle \n",
    "\n",
    "def pre_processing(train_file_names):\n",
    "    \n",
    "    \n",
    "    for i in train_file_names:\n",
    "        Train=(pickle.load(open(i,'rb'))).T\n",
    "        Train.index.name='Book'\n",
    "        r,n=Train.shape\n",
    "        col_mean=np.matrix(Train.mean())       \n",
    "        Train_col=Train.values-col_mean                                #Subtract Column mean from respective columns\n",
    "        row_mean=np.matrix(Train.mean(axis=1))\n",
    "        Train_processed=Train_col-row_mean.T                           #Subtract Row mean from resulting matrix\n",
    "        new_data=pd.DataFrame(Train_processed, columns=Train.columns)\n",
    "        new_data.set_index(Train.index,inplace=True)\n",
    "        new_data.to_pickle('test'+i+'kl')                              #Save the new Training file\n",
    "        pd.DataFrame(col_mean).to_pickle('Column_mean_'+i+'kl')        #Save Column mean for denormalization\n",
    "        pd.DataFrame(row_mean).to_pickle('Row_mean_'+i+'kl')           #Save Row mean for denormalization\n",
    "\n"
   ]
  },
  {
   "cell_type": "code",
   "execution_count": 5,
   "metadata": {
    "collapsed": false
   },
   "outputs": [],
   "source": [
    "train_file_names=['Train0.p','Train1.p','Train2.p','Train3.p','Train4.p']\n",
    "\n",
    "pre_processing(train_file_names)                                       #Generate Training files"
   ]
  }
 ],
 "metadata": {
  "anaconda-cloud": {},
  "kernelspec": {
   "display_name": "Python [conda root]",
   "language": "python",
   "name": "conda-root-py"
  },
  "language_info": {
   "codemirror_mode": {
    "name": "ipython",
    "version": 3
   },
   "file_extension": ".py",
   "mimetype": "text/x-python",
   "name": "python",
   "nbconvert_exporter": "python",
   "pygments_lexer": "ipython3",
   "version": "3.5.2"
  }
 },
 "nbformat": 4,
 "nbformat_minor": 1
}
