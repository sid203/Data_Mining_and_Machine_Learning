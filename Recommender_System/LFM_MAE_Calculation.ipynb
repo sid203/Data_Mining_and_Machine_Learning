{
 "cells": [
  {
   "cell_type": "code",
   "execution_count": 2,
   "metadata": {
    "collapsed": true
   },
   "outputs": [],
   "source": [
    "import numpy as np\n",
    "import pandas as pd\n",
    "import pickle\n",
    "\n",
    "'''Generate indices to index nonzero values in Training and Test set '''\n",
    "\n",
    "\n",
    "def gen_indices(Test0,Test1,Test2,Test3,Test4):\n",
    "    tmp0=np.transpose(np.nonzero(Test0.values))\n",
    "    Test0_indices=np.mat((Test0.index[tmp0[:,0]],Test0.columns[tmp0[:,1]])).T\n",
    "    \n",
    "    tmp1=np.transpose(np.nonzero(Test1.values))\n",
    "    Test1_indices=np.mat((Test1.index[tmp1[:,0]],Test1.columns[tmp1[:,1]])).T\n",
    "    \n",
    "    tmp2=np.transpose(np.nonzero(Test2.values))\n",
    "    Test2_indices=np.mat((Test2.index[tmp2[:,0]],Test2.columns[tmp2[:,1]])).T\n",
    "    \n",
    "    tmp3=np.transpose(np.nonzero(Test3.values))\n",
    "    Test3_indices=np.mat((Test3.index[tmp3[:,0]],Test3.columns[tmp3[:,1]])).T\n",
    "    \n",
    "    tmp4=np.transpose(np.nonzero(Test4.values))\n",
    "    Test4_indices=np.mat((Test4.index[tmp4[:,0]],Test4.columns[tmp4[:,1]])).T\n",
    "    \n",
    "    return Test0_indices,Test1_indices,Test2_indices,Test3_indices,Test4_indices\n",
    "\n",
    "\n",
    "\n",
    "'''Mean absolute error function '''\n",
    "\n",
    "\n",
    "\n",
    "def mae(Train0,Train1,Train2,Train3,Train4,Test0,Test1,Test2,Test3,Test4):\n",
    "    \n",
    "    \n",
    "    Test0_indices,Test1_indices,Test2_indices,Test3_indices,Test4_indices=gen_indices(Test0,Test1,Test2,Test3,Test4)\n",
    "\n",
    "    \n",
    "    mae0=0\n",
    "    for i in Test0_indices:\n",
    "        x=np.ravel(i)\n",
    "        mae0=mae0+abs(Train0.loc[x[0],x[1]]-Test0.loc[x[0],x[1]])\n",
    "    \n",
    "    mae0=(mae0/Test0_indices.shape[0])\n",
    "    \n",
    "    mae1=0\n",
    "    for i in Test1_indices:\n",
    "        x=np.ravel(i)\n",
    "        mae1=mae1+abs(Train1.loc[x[0],x[1]]-Test1.loc[x[0],x[1]])\n",
    "    \n",
    "    mae1=(mae1/Test1_indices.shape[0])\n",
    "    \n",
    "    mae2=0\n",
    "    for i in Test2_indices:\n",
    "        x=np.ravel(i)\n",
    "        mae2=mae2+abs(Train2.loc[x[0],x[1]]-Test2.loc[x[0],x[1]])\n",
    "    \n",
    "    mae2=(mae2/Test2_indices.shape[0])\n",
    "    \n",
    "    mae3=0\n",
    "    for i in Test3_indices:\n",
    "        x=np.ravel(i)\n",
    "        mae3=mae3+abs(Train3.loc[x[0],x[1]]-Test3.loc[x[0],x[1]])\n",
    "    \n",
    "    mae3=(mae3/Test3_indices.shape[0])\n",
    "    \n",
    "    mae4=0\n",
    "    for i in Test4_indices:\n",
    "        x=np.ravel(i)\n",
    "        mae4=mae4+abs(Train4.loc[x[0],x[1]]-Test4.loc[x[0],x[1]])\n",
    "    \n",
    "    mae4=(mae4/Test4_indices.shape[0])\n",
    "    \n",
    "    \n",
    "    return ((mae0+mae1+mae2+mae3+mae4)/5)\n",
    "\n",
    "\n"
   ]
  },
  {
   "cell_type": "code",
   "execution_count": 3,
   "metadata": {
    "collapsed": false
   },
   "outputs": [
    {
     "data": {
      "text/plain": [
       "0.34926944712212432"
      ]
     },
     "execution_count": 3,
     "metadata": {},
     "output_type": "execute_result"
    }
   ],
   "source": [
    "# Load Training files\n",
    "\n",
    "Train0=(pickle.load(open('Train0Final_Predictions.pkl','rb'))).T            #Train file 0\n",
    "Train0.fillna(0,inplace=True)\n",
    "Train1=(pickle.load(open('Train1Final_Predictions.pkl','rb'))).T            #Train file 1        \n",
    "Train1.fillna(0,inplace=True)\n",
    "Train2=(pickle.load(open('Train2Final_Predictions.pkl','rb'))).T            #Train file 2\n",
    "Train2.fillna(0,inplace=True)\n",
    "Train3=(pickle.load(open('Train3Final_Predictions.pkl','rb'))).T            #Train file 3\n",
    "Train3.fillna(0,inplace=True)\n",
    "Train4=(pickle.load(open('Train4Final_Predictions.pkl','rb'))).T            #Train file 4\n",
    "Train4.fillna(0,inplace=True)\n",
    "\n",
    "#Load Test files\n",
    "\n",
    "Test0=pickle.load(open('Test0svd.p','rb'))         \n",
    "Test0.fillna(0,inplace=True)\n",
    "Test1=pickle.load(open('Test1svd.p','rb'))         \n",
    "Test1.fillna(0,inplace=True)\n",
    "Test2=pickle.load(open('Test2svd.p','rb'))         \n",
    "Test2.fillna(0,inplace=True)\n",
    "Test3=pickle.load(open('Test3svd.p','rb'))         \n",
    "Test3.fillna(0,inplace=True)\n",
    "Test4=pickle.load(open('Test4svd.p','rb'))         \n",
    "Test4.fillna(0,inplace=True)\n",
    "mae_total=mae(Train0,Train1,Train2,Train3,Train4,Test0,Test1,Test2,Test3,Test4)\n",
    "mae_total/10"
   ]
  },
  {
   "cell_type": "code",
   "execution_count": 22,
   "metadata": {
    "collapsed": false
   },
   "outputs": [
    {
     "data": {
      "text/plain": [
       "array([], shape=(0, 2), dtype=int64)"
      ]
     },
     "execution_count": 22,
     "metadata": {},
     "output_type": "execute_result"
    }
   ],
   "source": []
  },
  {
   "cell_type": "code",
   "execution_count": 17,
   "metadata": {
    "collapsed": false
   },
   "outputs": [],
   "source": []
  }
 ],
 "metadata": {
  "anaconda-cloud": {},
  "kernelspec": {
   "display_name": "Python [conda root]",
   "language": "python",
   "name": "conda-root-py"
  },
  "language_info": {
   "codemirror_mode": {
    "name": "ipython",
    "version": 3
   },
   "file_extension": ".py",
   "mimetype": "text/x-python",
   "name": "python",
   "nbconvert_exporter": "python",
   "pygments_lexer": "ipython3",
   "version": "3.5.2"
  }
 },
 "nbformat": 4,
 "nbformat_minor": 1
}
